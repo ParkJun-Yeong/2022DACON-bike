{
 "cells": [
  {
   "cell_type": "code",
   "execution_count": null,
   "metadata": {},
   "outputs": [],
   "source": [
    "import sys, os\n",
    "import pandas as pd\n",
    "import numpy as np\n",
    "import matplotlib.pyplot as plt"
   ]
  },
  {
   "cell_type": "code",
   "execution_count": null,
   "metadata": {},
   "outputs": [],
   "source": [
    "df_origin = pd.read_csv('open/train.csv')\n",
    "\n",
    "train_df = pd.read_csv('open/train.csv')\n",
    "test_df = pd.read_csv('open/test.csv')\n",
    "sub_df = pd.read_csv('open/sample_submission.csv')\n",
    "\n",
    "print('Number of Data for training : {col}\\n Number of Variables : {row}'\n",
    "      .format(col = train_df.shape[0], row = train_df.shape[1]))"
   ]
  },
  {
   "cell_type": "code",
   "execution_count": null,
   "metadata": {},
   "outputs": [],
   "source": [
    "train_df.loc[[611,612,613,614,615]] # 2019-09-07 자료가 없어..."
   ]
  }
 ],
 "metadata": {
  "kernelspec": {
   "display_name": "Python 3.10.4 ('lftest')",
   "language": "python",
   "name": "python3"
  },
  "language_info": {
   "name": "python",
   "version": "3.10.4"
  },
  "orig_nbformat": 4,
  "vscode": {
   "interpreter": {
    "hash": "8ffb198bb7cebc8a652939ac07b28802de13ce4b22d89c3afd3bd3a1bb7233d3"
   }
  }
 },
 "nbformat": 4,
 "nbformat_minor": 2
}
