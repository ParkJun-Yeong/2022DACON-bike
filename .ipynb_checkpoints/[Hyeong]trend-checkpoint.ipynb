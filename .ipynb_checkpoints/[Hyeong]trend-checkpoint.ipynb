{
 "cells": [
  {
   "cell_type": "code",
   "execution_count": 1,
   "metadata": {
    "colab": {
     "base_uri": "https://localhost:8080/"
    },
    "executionInfo": {
     "elapsed": 8,
     "status": "ok",
     "timestamp": 1656248116200,
     "user": {
      "displayName": "김형식",
      "userId": "05595823656989305542"
     },
     "user_tz": -540
    },
    "id": "5sQWlysl-v8j",
    "outputId": "bd929544-cbd7-4079-a972-f65a98432166"
   },
   "outputs": [
    {
     "name": "stdout",
     "output_type": "stream",
     "text": [
      "hello world\n"
     ]
    }
   ],
   "source": [
    "import sys, os\n",
    "import pandas as pd\n",
    "import numpy as np\n",
    "import matplotlib.pyplot as plt\n",
    "\n",
    "from sklearn.preprocessing import LabelEncoder, MinMaxScaler, StandardScaler \n",
    "from sklearn.model_selection import train_test_split, GridSearchCV \n",
    "from sklearn.linear_model import LinearRegression\n",
    "from sklearn.ensemble import RandomForestRegressor \n",
    "from sklearn.ensemble import GradientBoostingRegressor\n",
    "from sklearn.linear_model import LinearRegression\n",
    "from sklearn.model_selection import KFold\n",
    "\n",
    "\n",
    "from statsmodels.tsa.deterministic import DeterministicProcess\n",
    "\n",
    "print('hello world')"
   ]
  },
  {
   "cell_type": "code",
   "execution_count": 2,
   "metadata": {
    "colab": {
     "base_uri": "https://localhost:8080/"
    },
    "executionInfo": {
     "elapsed": 6,
     "status": "ok",
     "timestamp": 1656248116200,
     "user": {
      "displayName": "김형식",
      "userId": "05595823656989305542"
     },
     "user_tz": -540
    },
    "id": "moPtIHrF-v8o",
    "outputId": "709065bc-a136-496f-d2f2-1b7537524dc5"
   },
   "outputs": [
    {
     "name": "stdout",
     "output_type": "stream",
     "text": [
      "Number of Data for training : 1095\n",
      " Number of Variables : 13\n"
     ]
    }
   ],
   "source": [
    "df_origin = pd.read_csv('open/train.csv')\n",
    "\n",
    "train_df = pd.read_csv('open/train.csv')\n",
    "test_df = pd.read_csv('open/test.csv')\n",
    "sub_df = pd.read_csv('open/sample_submission.csv')\n",
    "\n",
    "print('Number of Data for training : {col}\\n Number of Variables : {row}'\n",
    "      .format(col = train_df.shape[0], row = train_df.shape[1]))"
   ]
  },
  {
   "cell_type": "markdown",
   "metadata": {
    "id": "KpGiV0nB-v8p"
   },
   "source": [
    "주말 / 평일 구분 (Column : days_of_week)"
   ]
  },
  {
   "cell_type": "code",
   "execution_count": 3,
   "metadata": {
    "colab": {
     "base_uri": "https://localhost:8080/",
     "height": 206
    },
    "executionInfo": {
     "elapsed": 24,
     "status": "ok",
     "timestamp": 1656248118212,
     "user": {
      "displayName": "김형식",
      "userId": "05595823656989305542"
     },
     "user_tz": -540
    },
    "id": "DKVdlvbe-v8r",
    "outputId": "df95cb37-c28a-4b4b-ecd7-be901071db93"
   },
   "outputs": [
    {
     "data": {
      "text/html": [
       "<div>\n",
       "<style scoped>\n",
       "    .dataframe tbody tr th:only-of-type {\n",
       "        vertical-align: middle;\n",
       "    }\n",
       "\n",
       "    .dataframe tbody tr th {\n",
       "        vertical-align: top;\n",
       "    }\n",
       "\n",
       "    .dataframe thead th {\n",
       "        text-align: right;\n",
       "    }\n",
       "</style>\n",
       "<table border=\"1\" class=\"dataframe\">\n",
       "  <thead>\n",
       "    <tr style=\"text-align: right;\">\n",
       "      <th></th>\n",
       "      <th>date</th>\n",
       "      <th>precipitation</th>\n",
       "      <th>temp_mean</th>\n",
       "      <th>temp_highest</th>\n",
       "      <th>temp_lowest</th>\n",
       "      <th>PM10</th>\n",
       "      <th>PM2.5</th>\n",
       "      <th>humidity</th>\n",
       "      <th>sunshine_sum</th>\n",
       "      <th>sunshine_rate</th>\n",
       "      <th>wind_mean</th>\n",
       "      <th>wind_max</th>\n",
       "      <th>rental</th>\n",
       "    </tr>\n",
       "  </thead>\n",
       "  <tbody>\n",
       "    <tr>\n",
       "      <th>611</th>\n",
       "      <td>2019-09-04</td>\n",
       "      <td>22.7</td>\n",
       "      <td>22.8</td>\n",
       "      <td>25.5</td>\n",
       "      <td>21.2</td>\n",
       "      <td>6.0</td>\n",
       "      <td>3.0</td>\n",
       "      <td>89.0</td>\n",
       "      <td>1.1</td>\n",
       "      <td>8.5</td>\n",
       "      <td>2.5</td>\n",
       "      <td>4.5</td>\n",
       "      <td>27168</td>\n",
       "    </tr>\n",
       "    <tr>\n",
       "      <th>612</th>\n",
       "      <td>2019-09-05</td>\n",
       "      <td>36.4</td>\n",
       "      <td>23.0</td>\n",
       "      <td>27.6</td>\n",
       "      <td>21.5</td>\n",
       "      <td>9.0</td>\n",
       "      <td>6.0</td>\n",
       "      <td>91.4</td>\n",
       "      <td>1.5</td>\n",
       "      <td>11.6</td>\n",
       "      <td>2.0</td>\n",
       "      <td>5.0</td>\n",
       "      <td>33929</td>\n",
       "    </tr>\n",
       "    <tr>\n",
       "      <th>613</th>\n",
       "      <td>2019-09-06</td>\n",
       "      <td>2.4</td>\n",
       "      <td>25.3</td>\n",
       "      <td>29.1</td>\n",
       "      <td>21.6</td>\n",
       "      <td>13.0</td>\n",
       "      <td>8.0</td>\n",
       "      <td>79.8</td>\n",
       "      <td>0.4</td>\n",
       "      <td>3.1</td>\n",
       "      <td>2.1</td>\n",
       "      <td>3.4</td>\n",
       "      <td>16631</td>\n",
       "    </tr>\n",
       "    <tr>\n",
       "      <th>614</th>\n",
       "      <td>2019-09-08</td>\n",
       "      <td>0.0</td>\n",
       "      <td>24.7</td>\n",
       "      <td>27.3</td>\n",
       "      <td>22.9</td>\n",
       "      <td>NaN</td>\n",
       "      <td>NaN</td>\n",
       "      <td>76.9</td>\n",
       "      <td>1.4</td>\n",
       "      <td>11.0</td>\n",
       "      <td>1.9</td>\n",
       "      <td>4.8</td>\n",
       "      <td>52055</td>\n",
       "    </tr>\n",
       "    <tr>\n",
       "      <th>615</th>\n",
       "      <td>2019-09-09</td>\n",
       "      <td>0.0</td>\n",
       "      <td>25.1</td>\n",
       "      <td>28.0</td>\n",
       "      <td>22.4</td>\n",
       "      <td>35.0</td>\n",
       "      <td>26.0</td>\n",
       "      <td>74.3</td>\n",
       "      <td>2.0</td>\n",
       "      <td>15.7</td>\n",
       "      <td>1.7</td>\n",
       "      <td>3.6</td>\n",
       "      <td>68370</td>\n",
       "    </tr>\n",
       "  </tbody>\n",
       "</table>\n",
       "</div>"
      ],
      "text/plain": [
       "           date  precipitation  temp_mean  temp_highest  temp_lowest  PM10  \\\n",
       "611  2019-09-04           22.7       22.8          25.5         21.2   6.0   \n",
       "612  2019-09-05           36.4       23.0          27.6         21.5   9.0   \n",
       "613  2019-09-06            2.4       25.3          29.1         21.6  13.0   \n",
       "614  2019-09-08            0.0       24.7          27.3         22.9   NaN   \n",
       "615  2019-09-09            0.0       25.1          28.0         22.4  35.0   \n",
       "\n",
       "     PM2.5  humidity  sunshine_sum  sunshine_rate  wind_mean  wind_max  rental  \n",
       "611    3.0      89.0           1.1            8.5        2.5       4.5   27168  \n",
       "612    6.0      91.4           1.5           11.6        2.0       5.0   33929  \n",
       "613    8.0      79.8           0.4            3.1        2.1       3.4   16631  \n",
       "614    NaN      76.9           1.4           11.0        1.9       4.8   52055  \n",
       "615   26.0      74.3           2.0           15.7        1.7       3.6   68370  "
      ]
     },
     "execution_count": 3,
     "metadata": {},
     "output_type": "execute_result"
    }
   ],
   "source": [
    "train_df.loc[[611,612,613,614,615]] # 2019-09-07 자료가 없어..."
   ]
  },
  {
   "cell_type": "code",
   "execution_count": 4,
   "metadata": {
    "colab": {
     "base_uri": "https://localhost:8080/"
    },
    "executionInfo": {
     "elapsed": 24,
     "status": "ok",
     "timestamp": 1656248118215,
     "user": {
      "displayName": "김형식",
      "userId": "05595823656989305542"
     },
     "user_tz": -540
    },
    "id": "joEcrQO0-v8s",
    "outputId": "a8416c41-47ba-4b8c-8002-5a7e4d738207"
   },
   "outputs": [
    {
     "name": "stdout",
     "output_type": "stream",
     "text": [
      "           date  precipitation  temp_mean  temp_highest  temp_lowest  PM10  \\\n",
      "612  2019-09-05           36.4       23.0          27.6         21.5   9.0   \n",
      "613  2019-09-06            2.4       25.3          29.1         21.6  13.0   \n",
      "614  2019-09-07            2.4       25.3          29.1         21.6  13.0   \n",
      "615  2019-09-08            0.0       24.7          27.3         22.9   NaN   \n",
      "\n",
      "     PM2.5  humidity  sunshine_sum  sunshine_rate  wind_mean  wind_max  rental  \n",
      "612    6.0      91.4           1.5           11.6        2.0       5.0   33929  \n",
      "613    8.0      79.8           0.4            3.1        2.1       3.4   16631  \n",
      "614    8.0      79.8           0.4            3.1        2.1       3.4   16631  \n",
      "615    NaN      76.9           1.4           11.0        1.9       4.8   52055  \n"
     ]
    },
    {
     "data": {
      "text/plain": [
       "1096"
      ]
     },
     "execution_count": 4,
     "metadata": {},
     "output_type": "execute_result"
    }
   ],
   "source": [
    "# 2018.01.01 ~ 2020.12.31 (NaN of 2019.09.07 sat ;;;;;)\n",
    "# \n",
    "new_row = pd.DataFrame(train_df.loc[[613]], columns = train_df.columns)\n",
    "\n",
    "train_df = pd.concat([train_df.iloc[:613], new_row, train_df.iloc[613:]], ignore_index = True)\n",
    "\n",
    "train_df.loc[614,'date'] = '2019-09-07' \n",
    "\n",
    "\n",
    "print(train_df.loc[[612,613,614,615]])\n",
    "len(train_df)"
   ]
  },
  {
   "cell_type": "code",
   "execution_count": 5,
   "metadata": {
    "colab": {
     "base_uri": "https://localhost:8080/"
    },
    "executionInfo": {
     "elapsed": 21,
     "status": "ok",
     "timestamp": 1656248118215,
     "user": {
      "displayName": "김형식",
      "userId": "05595823656989305542"
     },
     "user_tz": -540
    },
    "id": "TuXmcTlZ-v8s",
    "outputId": "12ecb886-24cc-431b-a20c-f9eebed3ac06"
   },
   "outputs": [
    {
     "name": "stdout",
     "output_type": "stream",
     "text": [
      "1096\n"
     ]
    }
   ],
   "source": [
    "# To distinguish weekend and weekday\n",
    "\n",
    "# The name of new index is \"days_of_week\" \n",
    "# [0:Mon ~ Fri, 1:Sat, 1:Sun]\n",
    "\n",
    "df_week = [] # List for df column \"days of week\"\n",
    "\n",
    "L1 = train_df.shape[0] // 7  # 1096 // 7\n",
    "L2 = train_df.shape[0] % 7  # 1096 // 7\n",
    "\n",
    "#week = [0, 1, 2, 3, 4, 5, 6]\n",
    "week = [0, 0, 0, 0, 0, 1, 1] # weekday / weekend\n",
    "\n",
    "for i in range(0,L1,1):\n",
    "    df_week.extend(week)\n",
    "\n",
    "for i in range(0,L2,1):\n",
    "    df_week.append(0)\n",
    "\n",
    "print(len(df_week))\n",
    "\n",
    "\n",
    "# test_df\n",
    "t_df_week = []\n",
    "\n",
    "t_L1 = test_df.shape[0] // 7\n",
    "t_L2 = test_df.shape[0] % 7\n",
    "\n",
    "t_week = [0, 1, 1, 0, 0, 0, 0]\n",
    "\n",
    "for i in range(0, t_L1, 1):\n",
    "    t_df_week.extend(week)\n",
    "\n",
    "for i in range(0, t_L2, 1):\n",
    "    t_df_week.append(0)"
   ]
  },
  {
   "cell_type": "code",
   "execution_count": 6,
   "metadata": {
    "id": "D7f-zeWH-v8t"
   },
   "outputs": [],
   "source": [
    "# Appended New Col \"days of week\"\n",
    "train_df['days_of_week'] = df_week\n",
    "\n",
    "test_df['days_of_week'] = t_df_week"
   ]
  },
  {
   "cell_type": "markdown",
   "metadata": {
    "id": "SmXMLQe6-v8u"
   },
   "source": [
    "코드공유에서 가져온 Year / Month / Day 구분"
   ]
  },
  {
   "cell_type": "code",
   "execution_count": 7,
   "metadata": {
    "id": "905C72yE-v8v"
   },
   "outputs": [],
   "source": [
    "year = []\n",
    "month = []\n",
    "day = [] \n",
    "\n",
    "for date in train_df[\"date\"] :\n",
    "    y = date.split('-')[0]\n",
    "    m = date.split('-')[1]\n",
    "    d = date.split('-')[2]\n",
    "    \n",
    "    year.append(y)\n",
    "    month.append(m)\n",
    "    day.append(d)\n",
    "\n",
    "train_df[\"year\"] = year \n",
    "train_df[\"month\"] = month \n",
    "train_df[\"day\"] = day\n",
    "\n",
    "year = []\n",
    "month = []\n",
    "day = [] \n",
    "\n",
    "for date in test_df[\"date\"] :\n",
    "    y = date.split('-')[0]\n",
    "    m = date.split('-')[1]\n",
    "    d = date.split('-')[2]\n",
    "    \n",
    "    year.append(y)\n",
    "    month.append(m)\n",
    "    day.append(d)\n",
    "\n",
    "test_df[\"year\"] = year \n",
    "test_df[\"month\"] = month \n",
    "test_df[\"day\"] = day"
   ]
  },
  {
   "cell_type": "code",
   "execution_count": 8,
   "metadata": {
    "colab": {
     "base_uri": "https://localhost:8080/",
     "height": 424
    },
    "executionInfo": {
     "elapsed": 19,
     "status": "ok",
     "timestamp": 1656248118217,
     "user": {
      "displayName": "김형식",
      "userId": "05595823656989305542"
     },
     "user_tz": -540
    },
    "id": "EJNSU6Kx-v8v",
    "outputId": "b1cb8d01-7cb3-484c-9273-3051495987a1"
   },
   "outputs": [
    {
     "data": {
      "text/html": [
       "<div>\n",
       "<style scoped>\n",
       "    .dataframe tbody tr th:only-of-type {\n",
       "        vertical-align: middle;\n",
       "    }\n",
       "\n",
       "    .dataframe tbody tr th {\n",
       "        vertical-align: top;\n",
       "    }\n",
       "\n",
       "    .dataframe thead th {\n",
       "        text-align: right;\n",
       "    }\n",
       "</style>\n",
       "<table border=\"1\" class=\"dataframe\">\n",
       "  <thead>\n",
       "    <tr style=\"text-align: right;\">\n",
       "      <th></th>\n",
       "      <th>date</th>\n",
       "      <th>precipitation</th>\n",
       "      <th>temp_mean</th>\n",
       "      <th>temp_highest</th>\n",
       "      <th>temp_lowest</th>\n",
       "      <th>PM10</th>\n",
       "      <th>PM2.5</th>\n",
       "      <th>humidity</th>\n",
       "      <th>sunshine_sum</th>\n",
       "      <th>sunshine_rate</th>\n",
       "      <th>wind_mean</th>\n",
       "      <th>wind_max</th>\n",
       "      <th>rental</th>\n",
       "      <th>days_of_week</th>\n",
       "      <th>year</th>\n",
       "      <th>month</th>\n",
       "      <th>day</th>\n",
       "    </tr>\n",
       "  </thead>\n",
       "  <tbody>\n",
       "    <tr>\n",
       "      <th>0</th>\n",
       "      <td>2018-01-01</td>\n",
       "      <td>NaN</td>\n",
       "      <td>-1.3</td>\n",
       "      <td>3.8</td>\n",
       "      <td>-5.1</td>\n",
       "      <td>34.0</td>\n",
       "      <td>17.0</td>\n",
       "      <td>39.1</td>\n",
       "      <td>8.3</td>\n",
       "      <td>86.5</td>\n",
       "      <td>1.4</td>\n",
       "      <td>3.8</td>\n",
       "      <td>4950</td>\n",
       "      <td>0</td>\n",
       "      <td>2018</td>\n",
       "      <td>01</td>\n",
       "      <td>01</td>\n",
       "    </tr>\n",
       "    <tr>\n",
       "      <th>1</th>\n",
       "      <td>2018-01-02</td>\n",
       "      <td>NaN</td>\n",
       "      <td>-1.8</td>\n",
       "      <td>1.8</td>\n",
       "      <td>-4.3</td>\n",
       "      <td>36.0</td>\n",
       "      <td>22.0</td>\n",
       "      <td>42.0</td>\n",
       "      <td>7.9</td>\n",
       "      <td>82.3</td>\n",
       "      <td>1.8</td>\n",
       "      <td>4.9</td>\n",
       "      <td>7136</td>\n",
       "      <td>0</td>\n",
       "      <td>2018</td>\n",
       "      <td>01</td>\n",
       "      <td>02</td>\n",
       "    </tr>\n",
       "    <tr>\n",
       "      <th>2</th>\n",
       "      <td>2018-01-03</td>\n",
       "      <td>NaN</td>\n",
       "      <td>-4.7</td>\n",
       "      <td>-0.4</td>\n",
       "      <td>-7.1</td>\n",
       "      <td>31.0</td>\n",
       "      <td>19.0</td>\n",
       "      <td>42.3</td>\n",
       "      <td>8.6</td>\n",
       "      <td>88.7</td>\n",
       "      <td>2.2</td>\n",
       "      <td>3.5</td>\n",
       "      <td>7156</td>\n",
       "      <td>0</td>\n",
       "      <td>2018</td>\n",
       "      <td>01</td>\n",
       "      <td>03</td>\n",
       "    </tr>\n",
       "    <tr>\n",
       "      <th>3</th>\n",
       "      <td>2018-01-04</td>\n",
       "      <td>NaN</td>\n",
       "      <td>-4.7</td>\n",
       "      <td>-0.7</td>\n",
       "      <td>-8.7</td>\n",
       "      <td>39.0</td>\n",
       "      <td>24.0</td>\n",
       "      <td>43.0</td>\n",
       "      <td>6.2</td>\n",
       "      <td>63.9</td>\n",
       "      <td>1.4</td>\n",
       "      <td>3.5</td>\n",
       "      <td>7102</td>\n",
       "      <td>0</td>\n",
       "      <td>2018</td>\n",
       "      <td>01</td>\n",
       "      <td>04</td>\n",
       "    </tr>\n",
       "    <tr>\n",
       "      <th>4</th>\n",
       "      <td>2018-01-05</td>\n",
       "      <td>NaN</td>\n",
       "      <td>-3.0</td>\n",
       "      <td>1.6</td>\n",
       "      <td>-5.6</td>\n",
       "      <td>51.0</td>\n",
       "      <td>35.0</td>\n",
       "      <td>48.4</td>\n",
       "      <td>8.2</td>\n",
       "      <td>84.5</td>\n",
       "      <td>1.7</td>\n",
       "      <td>3.6</td>\n",
       "      <td>7705</td>\n",
       "      <td>0</td>\n",
       "      <td>2018</td>\n",
       "      <td>01</td>\n",
       "      <td>05</td>\n",
       "    </tr>\n",
       "    <tr>\n",
       "      <th>...</th>\n",
       "      <td>...</td>\n",
       "      <td>...</td>\n",
       "      <td>...</td>\n",
       "      <td>...</td>\n",
       "      <td>...</td>\n",
       "      <td>...</td>\n",
       "      <td>...</td>\n",
       "      <td>...</td>\n",
       "      <td>...</td>\n",
       "      <td>...</td>\n",
       "      <td>...</td>\n",
       "      <td>...</td>\n",
       "      <td>...</td>\n",
       "      <td>...</td>\n",
       "      <td>...</td>\n",
       "      <td>...</td>\n",
       "      <td>...</td>\n",
       "    </tr>\n",
       "    <tr>\n",
       "      <th>1091</th>\n",
       "      <td>2020-12-27</td>\n",
       "      <td>0.0</td>\n",
       "      <td>5.8</td>\n",
       "      <td>10.0</td>\n",
       "      <td>1.4</td>\n",
       "      <td>70.0</td>\n",
       "      <td>42.0</td>\n",
       "      <td>62.9</td>\n",
       "      <td>5.9</td>\n",
       "      <td>61.5</td>\n",
       "      <td>1.8</td>\n",
       "      <td>2.8</td>\n",
       "      <td>37103</td>\n",
       "      <td>1</td>\n",
       "      <td>2020</td>\n",
       "      <td>12</td>\n",
       "      <td>27</td>\n",
       "    </tr>\n",
       "    <tr>\n",
       "      <th>1092</th>\n",
       "      <td>2020-12-28</td>\n",
       "      <td>1.3</td>\n",
       "      <td>6.7</td>\n",
       "      <td>11.4</td>\n",
       "      <td>4.2</td>\n",
       "      <td>66.0</td>\n",
       "      <td>44.0</td>\n",
       "      <td>72.1</td>\n",
       "      <td>8.0</td>\n",
       "      <td>83.3</td>\n",
       "      <td>1.4</td>\n",
       "      <td>3.1</td>\n",
       "      <td>46912</td>\n",
       "      <td>0</td>\n",
       "      <td>2020</td>\n",
       "      <td>12</td>\n",
       "      <td>28</td>\n",
       "    </tr>\n",
       "    <tr>\n",
       "      <th>1093</th>\n",
       "      <td>2020-12-29</td>\n",
       "      <td>0.2</td>\n",
       "      <td>0.1</td>\n",
       "      <td>4.3</td>\n",
       "      <td>-6.2</td>\n",
       "      <td>69.0</td>\n",
       "      <td>46.0</td>\n",
       "      <td>70.8</td>\n",
       "      <td>0.0</td>\n",
       "      <td>0.0</td>\n",
       "      <td>2.9</td>\n",
       "      <td>6.1</td>\n",
       "      <td>35747</td>\n",
       "      <td>0</td>\n",
       "      <td>2020</td>\n",
       "      <td>12</td>\n",
       "      <td>29</td>\n",
       "    </tr>\n",
       "    <tr>\n",
       "      <th>1094</th>\n",
       "      <td>2020-12-30</td>\n",
       "      <td>NaN</td>\n",
       "      <td>-10.9</td>\n",
       "      <td>-6.2</td>\n",
       "      <td>-12.9</td>\n",
       "      <td>39.0</td>\n",
       "      <td>15.0</td>\n",
       "      <td>55.5</td>\n",
       "      <td>8.3</td>\n",
       "      <td>86.5</td>\n",
       "      <td>4.1</td>\n",
       "      <td>6.2</td>\n",
       "      <td>22488</td>\n",
       "      <td>0</td>\n",
       "      <td>2020</td>\n",
       "      <td>12</td>\n",
       "      <td>30</td>\n",
       "    </tr>\n",
       "    <tr>\n",
       "      <th>1095</th>\n",
       "      <td>2020-12-31</td>\n",
       "      <td>0.0</td>\n",
       "      <td>-8.9</td>\n",
       "      <td>-5.0</td>\n",
       "      <td>-12.9</td>\n",
       "      <td>28.0</td>\n",
       "      <td>12.0</td>\n",
       "      <td>53.9</td>\n",
       "      <td>6.0</td>\n",
       "      <td>62.5</td>\n",
       "      <td>2.4</td>\n",
       "      <td>4.2</td>\n",
       "      <td>24535</td>\n",
       "      <td>0</td>\n",
       "      <td>2020</td>\n",
       "      <td>12</td>\n",
       "      <td>31</td>\n",
       "    </tr>\n",
       "  </tbody>\n",
       "</table>\n",
       "<p>1096 rows × 17 columns</p>\n",
       "</div>"
      ],
      "text/plain": [
       "            date  precipitation  temp_mean  temp_highest  temp_lowest  PM10  \\\n",
       "0     2018-01-01            NaN       -1.3           3.8         -5.1  34.0   \n",
       "1     2018-01-02            NaN       -1.8           1.8         -4.3  36.0   \n",
       "2     2018-01-03            NaN       -4.7          -0.4         -7.1  31.0   \n",
       "3     2018-01-04            NaN       -4.7          -0.7         -8.7  39.0   \n",
       "4     2018-01-05            NaN       -3.0           1.6         -5.6  51.0   \n",
       "...          ...            ...        ...           ...          ...   ...   \n",
       "1091  2020-12-27            0.0        5.8          10.0          1.4  70.0   \n",
       "1092  2020-12-28            1.3        6.7          11.4          4.2  66.0   \n",
       "1093  2020-12-29            0.2        0.1           4.3         -6.2  69.0   \n",
       "1094  2020-12-30            NaN      -10.9          -6.2        -12.9  39.0   \n",
       "1095  2020-12-31            0.0       -8.9          -5.0        -12.9  28.0   \n",
       "\n",
       "      PM2.5  humidity  sunshine_sum  sunshine_rate  wind_mean  wind_max  \\\n",
       "0      17.0      39.1           8.3           86.5        1.4       3.8   \n",
       "1      22.0      42.0           7.9           82.3        1.8       4.9   \n",
       "2      19.0      42.3           8.6           88.7        2.2       3.5   \n",
       "3      24.0      43.0           6.2           63.9        1.4       3.5   \n",
       "4      35.0      48.4           8.2           84.5        1.7       3.6   \n",
       "...     ...       ...           ...            ...        ...       ...   \n",
       "1091   42.0      62.9           5.9           61.5        1.8       2.8   \n",
       "1092   44.0      72.1           8.0           83.3        1.4       3.1   \n",
       "1093   46.0      70.8           0.0            0.0        2.9       6.1   \n",
       "1094   15.0      55.5           8.3           86.5        4.1       6.2   \n",
       "1095   12.0      53.9           6.0           62.5        2.4       4.2   \n",
       "\n",
       "      rental  days_of_week  year month day  \n",
       "0       4950             0  2018    01  01  \n",
       "1       7136             0  2018    01  02  \n",
       "2       7156             0  2018    01  03  \n",
       "3       7102             0  2018    01  04  \n",
       "4       7705             0  2018    01  05  \n",
       "...      ...           ...   ...   ...  ..  \n",
       "1091   37103             1  2020    12  27  \n",
       "1092   46912             0  2020    12  28  \n",
       "1093   35747             0  2020    12  29  \n",
       "1094   22488             0  2020    12  30  \n",
       "1095   24535             0  2020    12  31  \n",
       "\n",
       "[1096 rows x 17 columns]"
      ]
     },
     "execution_count": 8,
     "metadata": {},
     "output_type": "execute_result"
    }
   ],
   "source": [
    "train_df"
   ]
  },
  {
   "cell_type": "code",
   "execution_count": 9,
   "metadata": {
    "colab": {
     "base_uri": "https://localhost:8080/",
     "height": 424
    },
    "executionInfo": {
     "elapsed": 569,
     "status": "ok",
     "timestamp": 1656248118768,
     "user": {
      "displayName": "김형식",
      "userId": "05595823656989305542"
     },
     "user_tz": -540
    },
    "id": "oMHQEbBNJaSx",
    "outputId": "37c3bb57-ead5-4326-e559-03b117b06f7a"
   },
   "outputs": [
    {
     "data": {
      "text/html": [
       "<div>\n",
       "<style scoped>\n",
       "    .dataframe tbody tr th:only-of-type {\n",
       "        vertical-align: middle;\n",
       "    }\n",
       "\n",
       "    .dataframe tbody tr th {\n",
       "        vertical-align: top;\n",
       "    }\n",
       "\n",
       "    .dataframe thead th {\n",
       "        text-align: right;\n",
       "    }\n",
       "</style>\n",
       "<table border=\"1\" class=\"dataframe\">\n",
       "  <thead>\n",
       "    <tr style=\"text-align: right;\">\n",
       "      <th></th>\n",
       "      <th>date</th>\n",
       "      <th>precipitation</th>\n",
       "      <th>temp_mean</th>\n",
       "      <th>temp_highest</th>\n",
       "      <th>temp_lowest</th>\n",
       "      <th>PM10</th>\n",
       "      <th>PM2.5</th>\n",
       "      <th>humidity</th>\n",
       "      <th>sunshine_sum</th>\n",
       "      <th>sunshine_rate</th>\n",
       "      <th>wind_mean</th>\n",
       "      <th>wind_max</th>\n",
       "      <th>days_of_week</th>\n",
       "      <th>year</th>\n",
       "      <th>month</th>\n",
       "      <th>day</th>\n",
       "    </tr>\n",
       "  </thead>\n",
       "  <tbody>\n",
       "    <tr>\n",
       "      <th>0</th>\n",
       "      <td>2021-01-01</td>\n",
       "      <td>NaN</td>\n",
       "      <td>-4.2</td>\n",
       "      <td>1.6</td>\n",
       "      <td>-9.8</td>\n",
       "      <td>30.0</td>\n",
       "      <td>17.0</td>\n",
       "      <td>64.0</td>\n",
       "      <td>6.5</td>\n",
       "      <td>67.7</td>\n",
       "      <td>2.0</td>\n",
       "      <td>4.1</td>\n",
       "      <td>0</td>\n",
       "      <td>2021</td>\n",
       "      <td>01</td>\n",
       "      <td>01</td>\n",
       "    </tr>\n",
       "    <tr>\n",
       "      <th>1</th>\n",
       "      <td>2021-01-02</td>\n",
       "      <td>NaN</td>\n",
       "      <td>-5.0</td>\n",
       "      <td>-1.4</td>\n",
       "      <td>-8.4</td>\n",
       "      <td>34.0</td>\n",
       "      <td>12.0</td>\n",
       "      <td>38.5</td>\n",
       "      <td>9.0</td>\n",
       "      <td>93.8</td>\n",
       "      <td>2.6</td>\n",
       "      <td>5.4</td>\n",
       "      <td>0</td>\n",
       "      <td>2021</td>\n",
       "      <td>01</td>\n",
       "      <td>02</td>\n",
       "    </tr>\n",
       "    <tr>\n",
       "      <th>2</th>\n",
       "      <td>2021-01-03</td>\n",
       "      <td>NaN</td>\n",
       "      <td>-5.6</td>\n",
       "      <td>-2.0</td>\n",
       "      <td>-9.1</td>\n",
       "      <td>39.0</td>\n",
       "      <td>14.0</td>\n",
       "      <td>45.0</td>\n",
       "      <td>5.5</td>\n",
       "      <td>56.7</td>\n",
       "      <td>2.0</td>\n",
       "      <td>4.5</td>\n",
       "      <td>0</td>\n",
       "      <td>2021</td>\n",
       "      <td>01</td>\n",
       "      <td>03</td>\n",
       "    </tr>\n",
       "    <tr>\n",
       "      <th>3</th>\n",
       "      <td>2021-01-04</td>\n",
       "      <td>0.0</td>\n",
       "      <td>-3.5</td>\n",
       "      <td>0.3</td>\n",
       "      <td>-8.4</td>\n",
       "      <td>40.0</td>\n",
       "      <td>23.0</td>\n",
       "      <td>51.4</td>\n",
       "      <td>4.6</td>\n",
       "      <td>47.4</td>\n",
       "      <td>1.7</td>\n",
       "      <td>3.2</td>\n",
       "      <td>0</td>\n",
       "      <td>2021</td>\n",
       "      <td>01</td>\n",
       "      <td>04</td>\n",
       "    </tr>\n",
       "    <tr>\n",
       "      <th>4</th>\n",
       "      <td>2021-01-05</td>\n",
       "      <td>0.0</td>\n",
       "      <td>-5.5</td>\n",
       "      <td>-2.1</td>\n",
       "      <td>-9.9</td>\n",
       "      <td>30.0</td>\n",
       "      <td>17.0</td>\n",
       "      <td>52.8</td>\n",
       "      <td>8.6</td>\n",
       "      <td>88.7</td>\n",
       "      <td>2.9</td>\n",
       "      <td>5.7</td>\n",
       "      <td>0</td>\n",
       "      <td>2021</td>\n",
       "      <td>01</td>\n",
       "      <td>05</td>\n",
       "    </tr>\n",
       "    <tr>\n",
       "      <th>...</th>\n",
       "      <td>...</td>\n",
       "      <td>...</td>\n",
       "      <td>...</td>\n",
       "      <td>...</td>\n",
       "      <td>...</td>\n",
       "      <td>...</td>\n",
       "      <td>...</td>\n",
       "      <td>...</td>\n",
       "      <td>...</td>\n",
       "      <td>...</td>\n",
       "      <td>...</td>\n",
       "      <td>...</td>\n",
       "      <td>...</td>\n",
       "      <td>...</td>\n",
       "      <td>...</td>\n",
       "      <td>...</td>\n",
       "    </tr>\n",
       "    <tr>\n",
       "      <th>360</th>\n",
       "      <td>2021-12-27</td>\n",
       "      <td>0.0</td>\n",
       "      <td>-7.6</td>\n",
       "      <td>-3.9</td>\n",
       "      <td>-12.9</td>\n",
       "      <td>33.0</td>\n",
       "      <td>20.0</td>\n",
       "      <td>60.9</td>\n",
       "      <td>3.8</td>\n",
       "      <td>39.6</td>\n",
       "      <td>1.7</td>\n",
       "      <td>3.1</td>\n",
       "      <td>0</td>\n",
       "      <td>2021</td>\n",
       "      <td>12</td>\n",
       "      <td>27</td>\n",
       "    </tr>\n",
       "    <tr>\n",
       "      <th>361</th>\n",
       "      <td>2021-12-28</td>\n",
       "      <td>NaN</td>\n",
       "      <td>-4.1</td>\n",
       "      <td>-0.9</td>\n",
       "      <td>-8.5</td>\n",
       "      <td>51.0</td>\n",
       "      <td>38.0</td>\n",
       "      <td>73.8</td>\n",
       "      <td>1.7</td>\n",
       "      <td>17.7</td>\n",
       "      <td>2.2</td>\n",
       "      <td>3.1</td>\n",
       "      <td>0</td>\n",
       "      <td>2021</td>\n",
       "      <td>12</td>\n",
       "      <td>28</td>\n",
       "    </tr>\n",
       "    <tr>\n",
       "      <th>362</th>\n",
       "      <td>2021-12-29</td>\n",
       "      <td>0.2</td>\n",
       "      <td>0.4</td>\n",
       "      <td>5.9</td>\n",
       "      <td>-3.8</td>\n",
       "      <td>66.0</td>\n",
       "      <td>49.0</td>\n",
       "      <td>72.9</td>\n",
       "      <td>1.8</td>\n",
       "      <td>18.8</td>\n",
       "      <td>2.6</td>\n",
       "      <td>5.9</td>\n",
       "      <td>1</td>\n",
       "      <td>2021</td>\n",
       "      <td>12</td>\n",
       "      <td>29</td>\n",
       "    </tr>\n",
       "    <tr>\n",
       "      <th>363</th>\n",
       "      <td>2021-12-30</td>\n",
       "      <td>0.0</td>\n",
       "      <td>-3.9</td>\n",
       "      <td>0.2</td>\n",
       "      <td>-6.8</td>\n",
       "      <td>30.0</td>\n",
       "      <td>17.0</td>\n",
       "      <td>48.5</td>\n",
       "      <td>7.3</td>\n",
       "      <td>76.0</td>\n",
       "      <td>3.3</td>\n",
       "      <td>6.6</td>\n",
       "      <td>1</td>\n",
       "      <td>2021</td>\n",
       "      <td>12</td>\n",
       "      <td>30</td>\n",
       "    </tr>\n",
       "    <tr>\n",
       "      <th>364</th>\n",
       "      <td>2021-12-31</td>\n",
       "      <td>NaN</td>\n",
       "      <td>-6.7</td>\n",
       "      <td>-3.9</td>\n",
       "      <td>-8.8</td>\n",
       "      <td>23.0</td>\n",
       "      <td>7.0</td>\n",
       "      <td>35.9</td>\n",
       "      <td>9.0</td>\n",
       "      <td>93.8</td>\n",
       "      <td>3.5</td>\n",
       "      <td>5.4</td>\n",
       "      <td>0</td>\n",
       "      <td>2021</td>\n",
       "      <td>12</td>\n",
       "      <td>31</td>\n",
       "    </tr>\n",
       "  </tbody>\n",
       "</table>\n",
       "<p>365 rows × 16 columns</p>\n",
       "</div>"
      ],
      "text/plain": [
       "           date  precipitation  temp_mean  temp_highest  temp_lowest  PM10  \\\n",
       "0    2021-01-01            NaN       -4.2           1.6         -9.8  30.0   \n",
       "1    2021-01-02            NaN       -5.0          -1.4         -8.4  34.0   \n",
       "2    2021-01-03            NaN       -5.6          -2.0         -9.1  39.0   \n",
       "3    2021-01-04            0.0       -3.5           0.3         -8.4  40.0   \n",
       "4    2021-01-05            0.0       -5.5          -2.1         -9.9  30.0   \n",
       "..          ...            ...        ...           ...          ...   ...   \n",
       "360  2021-12-27            0.0       -7.6          -3.9        -12.9  33.0   \n",
       "361  2021-12-28            NaN       -4.1          -0.9         -8.5  51.0   \n",
       "362  2021-12-29            0.2        0.4           5.9         -3.8  66.0   \n",
       "363  2021-12-30            0.0       -3.9           0.2         -6.8  30.0   \n",
       "364  2021-12-31            NaN       -6.7          -3.9         -8.8  23.0   \n",
       "\n",
       "     PM2.5  humidity  sunshine_sum  sunshine_rate  wind_mean  wind_max  \\\n",
       "0     17.0      64.0           6.5           67.7        2.0       4.1   \n",
       "1     12.0      38.5           9.0           93.8        2.6       5.4   \n",
       "2     14.0      45.0           5.5           56.7        2.0       4.5   \n",
       "3     23.0      51.4           4.6           47.4        1.7       3.2   \n",
       "4     17.0      52.8           8.6           88.7        2.9       5.7   \n",
       "..     ...       ...           ...            ...        ...       ...   \n",
       "360   20.0      60.9           3.8           39.6        1.7       3.1   \n",
       "361   38.0      73.8           1.7           17.7        2.2       3.1   \n",
       "362   49.0      72.9           1.8           18.8        2.6       5.9   \n",
       "363   17.0      48.5           7.3           76.0        3.3       6.6   \n",
       "364    7.0      35.9           9.0           93.8        3.5       5.4   \n",
       "\n",
       "     days_of_week  year month day  \n",
       "0               0  2021    01  01  \n",
       "1               0  2021    01  02  \n",
       "2               0  2021    01  03  \n",
       "3               0  2021    01  04  \n",
       "4               0  2021    01  05  \n",
       "..            ...   ...   ...  ..  \n",
       "360             0  2021    12  27  \n",
       "361             0  2021    12  28  \n",
       "362             1  2021    12  29  \n",
       "363             1  2021    12  30  \n",
       "364             0  2021    12  31  \n",
       "\n",
       "[365 rows x 16 columns]"
      ]
     },
     "execution_count": 9,
     "metadata": {},
     "output_type": "execute_result"
    }
   ],
   "source": [
    "test_df"
   ]
  },
  {
   "cell_type": "markdown",
   "metadata": {
    "id": "D2KtrWxu-v8w"
   },
   "source": [
    "Sunshine_rate을 이용하여 Sunshine_sum의 NaN을 선형 회귀로 구하기"
   ]
  },
  {
   "cell_type": "code",
   "execution_count": 10,
   "metadata": {
    "colab": {
     "base_uri": "https://localhost:8080/"
    },
    "executionInfo": {
     "elapsed": 37,
     "status": "ok",
     "timestamp": 1656248118769,
     "user": {
      "displayName": "김형식",
      "userId": "05595823656989305542"
     },
     "user_tz": -540
    },
    "id": "wX4gDgG1-v8w",
    "outputId": "272bf0ab-c08f-451b-afd4-da16c64d7292"
   },
   "outputs": [
    {
     "name": "stdout",
     "output_type": "stream",
     "text": [
      "Int64Index([17, 25, 45, 187, 604], dtype='int64')\n",
      "Int64Index([6], dtype='int64')\n"
     ]
    }
   ],
   "source": [
    "nan_list_ss = train_df['sunshine_sum'][train_df['sunshine_sum'].isnull()].index\n",
    "print(nan_list_ss)\n",
    "\n",
    "t_nan_list_ss = test_df['sunshine_sum'][test_df['sunshine_sum'].isnull()].index\n",
    "print(t_nan_list_ss)"
   ]
  },
  {
   "cell_type": "code",
   "execution_count": 11,
   "metadata": {
    "colab": {
     "base_uri": "https://localhost:8080/"
    },
    "executionInfo": {
     "elapsed": 35,
     "status": "ok",
     "timestamp": 1656248118770,
     "user": {
      "displayName": "김형식",
      "userId": "05595823656989305542"
     },
     "user_tz": -540
    },
    "id": "IdGTci7e-v8x",
    "outputId": "3f354fd1-7293-45bd-eb98-808b7519f476"
   },
   "outputs": [
    {
     "data": {
      "text/plain": [
       "array([[0.],\n",
       "       [0.],\n",
       "       [0.],\n",
       "       [0.],\n",
       "       [0.]])"
      ]
     },
     "execution_count": 11,
     "metadata": {},
     "output_type": "execute_result"
    }
   ],
   "source": [
    "train_df['sunshine_rate'].loc[nan_list_ss].values.reshape(-1,1) \n",
    "# 사실 train 데이터에서는 sunshine_sum이 Nan인 날은 전부 sunshine_rate가 0이라 걍 0으로 채워도 될거같음\n",
    "# 그리고 test 데이터는 sunshine_sum Nan이 하나밖에없어서 큰 영향을 안줄듯\n",
    "# 근데 이미 다 작성해놔서 걍 안지우고 넣어둠 ㅎㅎ.."
   ]
  },
  {
   "cell_type": "code",
   "execution_count": 12,
   "metadata": {
    "colab": {
     "base_uri": "https://localhost:8080/",
     "height": 344
    },
    "executionInfo": {
     "elapsed": 31,
     "status": "ok",
     "timestamp": 1656248118771,
     "user": {
      "displayName": "김형식",
      "userId": "05595823656989305542"
     },
     "user_tz": -540
    },
    "id": "G0kn4c7p-v8x",
    "outputId": "c0b4d06f-f968-4ed3-8b05-77dc0d206b43"
   },
   "outputs": [
    {
     "name": "stdout",
     "output_type": "stream",
     "text": [
      "               sunshine_rate  sunshine_sum\n",
      "sunshine_rate       1.000000      0.958364\n",
      "sunshine_sum        0.958364      1.000000\n"
     ]
    },
    {
     "data": {
      "text/plain": [
       "[<matplotlib.lines.Line2D at 0x1ea6fe279d0>]"
      ]
     },
     "execution_count": 12,
     "metadata": {},
     "output_type": "execute_result"
    },
    {
     "data": {
      "image/png": "[encoded data removed]",
      "text/plain": [
       "<Figure size 432x288 with 1 Axes>"
      ]
     },
     "metadata": {
      "needs_background": "light"
     },
     "output_type": "display_data"
    }
   ],
   "source": [
    "print(train_df[['sunshine_rate', 'sunshine_sum']].corr(method='pearson')) # Pearson Correlation\n",
    "\n",
    "a = train_df['sunshine_sum'].dropna()\n",
    "b = train_df['sunshine_rate'].drop(nan_list_ss)\n",
    "a.isnull().sum()\n",
    "b.isnull().sum()\n",
    "\n",
    "t_a = test_df['sunshine_sum'].dropna()\n",
    "t_b = test_df['sunshine_rate'].drop(t_nan_list_ss)\n",
    "t_a.isnull().sum()\n",
    "t_b.isnull().sum()\n",
    "\n",
    "plt.plot(a,b, 'o')\n",
    "plt.plot(t_a,t_b, 'o')"
   ]
  },
  {
   "cell_type": "code",
   "execution_count": 13,
   "metadata": {
    "id": "ktdys2Xx-v8y"
   },
   "outputs": [],
   "source": [
    "a = a.values.reshape(-1,1) # a is sunshine_sum\n",
    "b = b.values.reshape(-1,1) # b is sunshine_rate\n",
    "\n",
    "t_a = t_a.values.reshape(-1, 1)\n",
    "t_b = t_b.values.reshape(-1, 1)"
   ]
  },
  {
   "cell_type": "code",
   "execution_count": 14,
   "metadata": {
    "id": "mCbXoyXv-v8z"
   },
   "outputs": [],
   "source": [
    "line_fitter = LinearRegression() # 선형회귀 이용하여 SS의 Nan 값 예측\n",
    "\n",
    "line_fitter.fit(b, a) # predict a(sum) through b(rate) \n",
    "pred_ss = line_fitter.predict(train_df['sunshine_rate'].loc[nan_list_ss].values.reshape(-1, 1))\n",
    "predd_ss = list(pred_ss)\n",
    "\n",
    "t_pred_ss = line_fitter.predict(test_df['sunshine_rate'].loc[t_nan_list_ss].values.reshape(-1, 1))\n",
    "t_pred_ss = list(t_pred_ss)"
   ]
  },
  {
   "cell_type": "code",
   "execution_count": 15,
   "metadata": {
    "colab": {
     "base_uri": "https://localhost:8080/"
    },
    "executionInfo": {
     "elapsed": 26,
     "status": "ok",
     "timestamp": 1656248118773,
     "user": {
      "displayName": "김형식",
      "userId": "05595823656989305542"
     },
     "user_tz": -540
    },
    "id": "RHrjZCk6-v8z",
    "outputId": "967bac56-6df6-41c8-b17a-03b722604b34"
   },
   "outputs": [
    {
     "name": "stderr",
     "output_type": "stream",
     "text": [
      "C:\\Users\\Admin\\AppData\\Local\\Temp\\ipykernel_13680\\4041030387.py:7: SettingWithCopyWarning: \n",
      "A value is trying to be set on a copy of a slice from a DataFrame\n",
      "\n",
      "See the caveats in the documentation: https://pandas.pydata.org/pandas-docs/stable/user_guide/indexing.html#returning-a-view-versus-a-copy\n",
      "  train_df['sunshine_sum'].loc[i] = float(pred_ss[j])\n",
      "C:\\Users\\Admin\\AppData\\Local\\Temp\\ipykernel_13680\\4041030387.py:10: SettingWithCopyWarning: \n",
      "A value is trying to be set on a copy of a slice from a DataFrame\n",
      "\n",
      "See the caveats in the documentation: https://pandas.pydata.org/pandas-docs/stable/user_guide/indexing.html#returning-a-view-versus-a-copy\n",
      "  test_df['sunshine_sum'].loc[ii] = float(t_pred_ss[jj])\n"
     ]
    }
   ],
   "source": [
    "train_df[\"PM10\"] = train_df[\"PM10\"].fillna(train_df[\"PM10\"].mean())\n",
    "train_df[\"PM2.5\"] = train_df[\"PM2.5\"].fillna(train_df[\"PM2.5\"].mean())\n",
    "train_df[\"sunshine_sum\"] = train_df[\"sunshine_sum\"].fillna(0) # NaN값은  = 2  << 이런식으로 안들어가서\n",
    "# 일단 0으로 다 채운다음에 선형회귀로 구한 값 입력\n",
    "\n",
    "for i, j in zip(nan_list_ss, range(0,len(nan_list_ss),1)):\n",
    "    train_df['sunshine_sum'].loc[i] = float(pred_ss[j])\n",
    "\n",
    "for ii, jj in zip(t_nan_list_ss, range(0, len(t_nan_list_ss), 1)):\n",
    "    test_df['sunshine_sum'].loc[ii] = float(t_pred_ss[jj])\n"
   ]
  },
  {
   "cell_type": "code",
   "execution_count": 16,
   "metadata": {
    "colab": {
     "base_uri": "https://localhost:8080/"
    },
    "executionInfo": {
     "elapsed": 21,
     "status": "ok",
     "timestamp": 1656248118773,
     "user": {
      "displayName": "김형식",
      "userId": "05595823656989305542"
     },
     "user_tz": -540
    },
    "id": "Rmvs3vE8GQBI",
    "outputId": "c9744fd5-909c-46d6-8ff9-f59491876c89"
   },
   "outputs": [
    {
     "name": "stdout",
     "output_type": "stream",
     "text": [
      "date               0\n",
      "precipitation    678\n",
      "temp_mean          0\n",
      "temp_highest       0\n",
      "temp_lowest        0\n",
      "PM10               0\n",
      "PM2.5              0\n",
      "humidity           0\n",
      "sunshine_sum       0\n",
      "sunshine_rate      0\n",
      "wind_mean          0\n",
      "wind_max           0\n",
      "rental             0\n",
      "days_of_week       0\n",
      "year               0\n",
      "month              0\n",
      "day                0\n",
      "dtype: int64\n",
      "date               0\n",
      "precipitation    205\n",
      "temp_mean          0\n",
      "temp_highest       0\n",
      "temp_lowest        0\n",
      "PM10               0\n",
      "PM2.5              0\n",
      "humidity           0\n",
      "sunshine_sum       0\n",
      "sunshine_rate      0\n",
      "wind_mean          0\n",
      "wind_max           0\n",
      "days_of_week       0\n",
      "year               0\n",
      "month              0\n",
      "day                0\n",
      "dtype: int64\n"
     ]
    }
   ],
   "source": [
    "print(train_df.isnull().sum())\n",
    "print(test_df.isnull().sum())"
   ]
  },
  {
   "cell_type": "code",
   "execution_count": 17,
   "metadata": {
    "colab": {
     "base_uri": "https://localhost:8080/"
    },
    "executionInfo": {
     "elapsed": 19,
     "status": "ok",
     "timestamp": 1656248118774,
     "user": {
      "displayName": "김형식",
      "userId": "05595823656989305542"
     },
     "user_tz": -540
    },
    "id": "t5R2hHhN-v80",
    "outputId": "d8bbe572-9f4b-4654-8bd7-8d942cf7a7f0"
   },
   "outputs": [
    {
     "name": "stdout",
     "output_type": "stream",
     "text": [
      "17     0.188313\n",
      "25     0.188313\n",
      "45     0.188313\n",
      "187    0.188313\n",
      "604    0.188313\n",
      "Name: sunshine_sum, dtype: float64\n",
      "6    0.188313\n",
      "Name: sunshine_sum, dtype: float64\n"
     ]
    }
   ],
   "source": [
    "print(train_df['sunshine_sum'].loc[nan_list_ss])\n",
    "print(test_df['sunshine_sum'].loc[t_nan_list_ss])\n",
    "\n",
    "# 다 채움 근데 0으로 하는게 더 나을거같은 생각이 계속 듬"
   ]
  },
  {
   "cell_type": "markdown",
   "metadata": {
    "id": "zM9v4zNP-v80"
   },
   "source": [
    "Predict Precipitation Using Linear Regression"
   ]
  },
  {
   "cell_type": "code",
   "execution_count": 18,
   "metadata": {
    "colab": {
     "base_uri": "https://localhost:8080/"
    },
    "executionInfo": {
     "elapsed": 17,
     "status": "ok",
     "timestamp": 1656248118775,
     "user": {
      "displayName": "김형식",
      "userId": "05595823656989305542"
     },
     "user_tz": -540
    },
    "id": "QEjXaJF1-v80",
    "outputId": "895207c9-17fe-4513-92ed-d7fd8f1d5aa9"
   },
   "outputs": [
    {
     "name": "stdout",
     "output_type": "stream",
     "text": [
      "Int64Index([   0,    1,    2,    3,    4,    5,    6,   10,   13,   16,\n",
      "            ...\n",
      "            1079, 1080, 1083, 1084, 1085, 1086, 1088, 1089, 1090, 1094],\n",
      "           dtype='int64', length=678)\n",
      "Int64Index([  0,   1,   2,   3,   4,   5,   6,  10,  13,  16,\n",
      "            ...\n",
      "            355, 356, 357, 358, 359, 360, 361, 362, 363, 364],\n",
      "           dtype='int64', length=237)\n"
     ]
    }
   ],
   "source": [
    "nan_list_pp= train_df['precipitation'][train_df['precipitation'].isnull()].index\n",
    "print(nan_list_pp)\n",
    "\n",
    "pp = train_df['precipitation'].dropna()\n",
    "srss = train_df[['sunshine_rate','sunshine_sum','month']].drop(nan_list_pp)\n",
    "\n",
    "t_nan_list_pp = test_df['precipitation'][train_df['precipitation'].isnull()].index\n",
    "print(t_nan_list_pp)\n",
    "\n",
    "t_pp = test_df['precipitation'].dropna()\n",
    "t_srss = test_df[['sunshine_rate','sunshine_sum','month']].drop(t_nan_list_pp)"
   ]
  },
  {
   "cell_type": "code",
   "execution_count": 19,
   "metadata": {
    "colab": {
     "base_uri": "https://localhost:8080/"
    },
    "executionInfo": {
     "elapsed": 15,
     "status": "ok",
     "timestamp": 1656248118776,
     "user": {
      "displayName": "김형식",
      "userId": "05595823656989305542"
     },
     "user_tz": -540
    },
    "id": "K2TWmpcy-v80",
    "outputId": "58d7a129-fbb4-4fa9-f373-f2a3f6cc56f3"
   },
   "outputs": [
    {
     "data": {
      "text/plain": [
       "MinMaxScaler()"
      ]
     },
     "execution_count": 19,
     "metadata": {},
     "output_type": "execute_result"
    }
   ],
   "source": [
    "scaler = MinMaxScaler()\n",
    "\n",
    "scaler.fit(srss)"
   ]
  },
  {
   "cell_type": "code",
   "execution_count": 20,
   "metadata": {
    "id": "NCoW4uT3-v81"
   },
   "outputs": [],
   "source": [
    "scaled_srss = scaler.transform(srss)"
   ]
  },
  {
   "cell_type": "code",
   "execution_count": 21,
   "metadata": {
    "colab": {
     "base_uri": "https://localhost:8080/"
    },
    "executionInfo": {
     "elapsed": 20,
     "status": "ok",
     "timestamp": 1656248119296,
     "user": {
      "displayName": "김형식",
      "userId": "05595823656989305542"
     },
     "user_tz": -540
    },
    "id": "IdZK9hv2-v81",
    "outputId": "e6f1d4a2-7985-4da9-e8d4-67689d44807c"
   },
   "outputs": [
    {
     "data": {
      "text/plain": [
       "LinearRegression()"
      ]
     },
     "execution_count": 21,
     "metadata": {},
     "output_type": "execute_result"
    }
   ],
   "source": [
    "line_fitter.fit(scaled_srss, pp)"
   ]
  },
  {
   "cell_type": "code",
   "execution_count": 22,
   "metadata": {
    "colab": {
     "base_uri": "https://localhost:8080/"
    },
    "executionInfo": {
     "elapsed": 19,
     "status": "ok",
     "timestamp": 1656248119296,
     "user": {
      "displayName": "김형식",
      "userId": "05595823656989305542"
     },
     "user_tz": -540
    },
    "id": "L9RPS_FF-v81",
    "outputId": "b3e68695-56a8-42f9-8ed9-d35482a65e98"
   },
   "outputs": [
    {
     "name": "stderr",
     "output_type": "stream",
     "text": [
      "c:\\Users\\Admin\\anaconda3\\envs\\lftest\\lib\\site-packages\\sklearn\\base.py:450: UserWarning: X does not have valid feature names, but MinMaxScaler was fitted with feature names\n",
      "  warnings.warn(\n",
      "c:\\Users\\Admin\\anaconda3\\envs\\lftest\\lib\\site-packages\\sklearn\\base.py:450: UserWarning: X does not have valid feature names, but MinMaxScaler was fitted with feature names\n",
      "  warnings.warn(\n"
     ]
    }
   ],
   "source": [
    "#pp_sol_Nan = line_fitter.predict(scaler.transform(new_df[['sunshine_rate','sunshine_sum','month']].loc[PP_list_Nan].values))\n",
    "pred_pp = line_fitter.predict(scaler.transform(train_df[['sunshine_rate','sunshine_sum','month']].loc[nan_list_pp].values))\n",
    "pred_pp = list(pred_pp)\n",
    "\n",
    "\n",
    "t_pred_pp = list(line_fitter.predict(scaler.transform(test_df[['sunshine_rate','sunshine_sum','month']].loc[t_nan_list_pp].values)))\n",
    "\n",
    "\n",
    "# very very weird\n",
    "# Minus precipitation? >> Evaporation?\n"
   ]
  },
  {
   "cell_type": "code",
   "execution_count": 23,
   "metadata": {
    "colab": {
     "base_uri": "https://localhost:8080/"
    },
    "executionInfo": {
     "elapsed": 15,
     "status": "ok",
     "timestamp": 1656248119296,
     "user": {
      "displayName": "김형식",
      "userId": "05595823656989305542"
     },
     "user_tz": -540
    },
    "id": "aeY95BQF-v82",
    "outputId": "32594b25-0d99-4942-9e5d-b1dc3a0e7297"
   },
   "outputs": [
    {
     "name": "stderr",
     "output_type": "stream",
     "text": [
      "C:\\Users\\Admin\\AppData\\Local\\Temp\\ipykernel_13680\\3578690188.py:4: SettingWithCopyWarning: \n",
      "A value is trying to be set on a copy of a slice from a DataFrame\n",
      "\n",
      "See the caveats in the documentation: https://pandas.pydata.org/pandas-docs/stable/user_guide/indexing.html#returning-a-view-versus-a-copy\n",
      "  train_df['precipitation'].loc[i] = float(pred_pp[j])\n",
      "C:\\Users\\Admin\\AppData\\Local\\Temp\\ipykernel_13680\\3578690188.py:12: SettingWithCopyWarning: \n",
      "A value is trying to be set on a copy of a slice from a DataFrame\n",
      "\n",
      "See the caveats in the documentation: https://pandas.pydata.org/pandas-docs/stable/user_guide/indexing.html#returning-a-view-versus-a-copy\n",
      "  test_df['precipitation'].loc[ii] = float(t_pred_pp[jj])\n"
     ]
    }
   ],
   "source": [
    "train_df['precipitation'] = train_df['precipitation'].fillna(0)\n",
    "\n",
    "for i, j in zip(nan_list_pp, range(0,len(pred_pp),1)):\n",
    "    train_df['precipitation'].loc[i] = float(pred_pp[j])\n",
    "\n",
    "\n",
    "\n",
    "test_df['precipitation'] = test_df['precipitation'].fillna(0)\n",
    "\n",
    "\n",
    "for ii, jj in zip(t_nan_list_pp, range(0, len(t_pred_pp), 1)):\n",
    "    test_df['precipitation'].loc[ii] = float(t_pred_pp[jj])"
   ]
  },
  {
   "cell_type": "code",
   "execution_count": 24,
   "metadata": {
    "colab": {
     "base_uri": "https://localhost:8080/"
    },
    "executionInfo": {
     "elapsed": 414,
     "status": "ok",
     "timestamp": 1656248119702,
     "user": {
      "displayName": "김형식",
      "userId": "05595823656989305542"
     },
     "user_tz": -540
    },
    "id": "cFSWPeXu-v82",
    "outputId": "fb75a371-669d-45eb-d996-687dc1a5cb9a"
   },
   "outputs": [
    {
     "name": "stdout",
     "output_type": "stream",
     "text": [
      "date             0\n",
      "precipitation    0\n",
      "temp_mean        0\n",
      "temp_highest     0\n",
      "temp_lowest      0\n",
      "PM10             0\n",
      "PM2.5            0\n",
      "humidity         0\n",
      "sunshine_sum     0\n",
      "sunshine_rate    0\n",
      "wind_mean        0\n",
      "wind_max         0\n",
      "rental           0\n",
      "days_of_week     0\n",
      "year             0\n",
      "month            0\n",
      "day              0\n",
      "dtype: int64\n",
      "date             0\n",
      "precipitation    0\n",
      "temp_mean        0\n",
      "temp_highest     0\n",
      "temp_lowest      0\n",
      "PM10             0\n",
      "PM2.5            0\n",
      "humidity         0\n",
      "sunshine_sum     0\n",
      "sunshine_rate    0\n",
      "wind_mean        0\n",
      "wind_max         0\n",
      "days_of_week     0\n",
      "year             0\n",
      "month            0\n",
      "day              0\n",
      "dtype: int64\n"
     ]
    }
   ],
   "source": [
    "print(train_df.isnull().sum())\n",
    "print(test_df.isnull().sum())"
   ]
  },
  {
   "cell_type": "markdown",
   "metadata": {},
   "source": [
    "# 2018 ~ 2019, 2019 ~ 2020년도 각 월별 증가량 추이"
   ]
  },
  {
   "cell_type": "code",
   "execution_count": 44,
   "metadata": {
    "id": "i-Q-TxK2jQbO"
   },
   "outputs": [
    {
     "data": {
      "text/plain": [
       "0        4950\n",
       "1        7136\n",
       "2        7156\n",
       "3        7102\n",
       "4        7705\n",
       "        ...  \n",
       "1091    37103\n",
       "1092    46912\n",
       "1093    35747\n",
       "1094    22488\n",
       "1095    24535\n",
       "Name: rental, Length: 1096, dtype: int64"
      ]
     },
     "execution_count": 44,
     "metadata": {},
     "output_type": "execute_result"
    }
   ],
   "source": [
    "x = train_df.drop(['date','rental'], axis = 1)\n",
    "y = train_df['rental']\n",
    "\n",
    "x_train, x_test, y_train, y_test = train_test_split(x, y, test_size = 0.35, shuffle = False)\n",
    "np.array(x_train.index)\n",
    "y"
   ]
  },
  {
   "cell_type": "code",
   "execution_count": 45,
   "metadata": {},
   "outputs": [
    {
     "data": {
      "text/html": [
       "<div>\n",
       "<style scoped>\n",
       "    .dataframe tbody tr th:only-of-type {\n",
       "        vertical-align: middle;\n",
       "    }\n",
       "\n",
       "    .dataframe tbody tr th {\n",
       "        vertical-align: top;\n",
       "    }\n",
       "\n",
       "    .dataframe thead th {\n",
       "        text-align: right;\n",
       "    }\n",
       "</style>\n",
       "<table border=\"1\" class=\"dataframe\">\n",
       "  <thead>\n",
       "    <tr style=\"text-align: right;\">\n",
       "      <th></th>\n",
       "      <th>const</th>\n",
       "      <th>trend</th>\n",
       "      <th>trend_squared</th>\n",
       "      <th>trend_cubed</th>\n",
       "    </tr>\n",
       "  </thead>\n",
       "  <tbody>\n",
       "    <tr>\n",
       "      <th>0</th>\n",
       "      <td>1.0</td>\n",
       "      <td>1.0</td>\n",
       "      <td>1.0</td>\n",
       "      <td>1.0</td>\n",
       "    </tr>\n",
       "    <tr>\n",
       "      <th>1</th>\n",
       "      <td>1.0</td>\n",
       "      <td>2.0</td>\n",
       "      <td>4.0</td>\n",
       "      <td>8.0</td>\n",
       "    </tr>\n",
       "    <tr>\n",
       "      <th>2</th>\n",
       "      <td>1.0</td>\n",
       "      <td>3.0</td>\n",
       "      <td>9.0</td>\n",
       "      <td>27.0</td>\n",
       "    </tr>\n",
       "    <tr>\n",
       "      <th>3</th>\n",
       "      <td>1.0</td>\n",
       "      <td>4.0</td>\n",
       "      <td>16.0</td>\n",
       "      <td>64.0</td>\n",
       "    </tr>\n",
       "    <tr>\n",
       "      <th>4</th>\n",
       "      <td>1.0</td>\n",
       "      <td>5.0</td>\n",
       "      <td>25.0</td>\n",
       "      <td>125.0</td>\n",
       "    </tr>\n",
       "    <tr>\n",
       "      <th>...</th>\n",
       "      <td>...</td>\n",
       "      <td>...</td>\n",
       "      <td>...</td>\n",
       "      <td>...</td>\n",
       "    </tr>\n",
       "    <tr>\n",
       "      <th>707</th>\n",
       "      <td>1.0</td>\n",
       "      <td>708.0</td>\n",
       "      <td>501264.0</td>\n",
       "      <td>354894912.0</td>\n",
       "    </tr>\n",
       "    <tr>\n",
       "      <th>708</th>\n",
       "      <td>1.0</td>\n",
       "      <td>709.0</td>\n",
       "      <td>502681.0</td>\n",
       "      <td>356400829.0</td>\n",
       "    </tr>\n",
       "    <tr>\n",
       "      <th>709</th>\n",
       "      <td>1.0</td>\n",
       "      <td>710.0</td>\n",
       "      <td>504100.0</td>\n",
       "      <td>357911000.0</td>\n",
       "    </tr>\n",
       "    <tr>\n",
       "      <th>710</th>\n",
       "      <td>1.0</td>\n",
       "      <td>711.0</td>\n",
       "      <td>505521.0</td>\n",
       "      <td>359425431.0</td>\n",
       "    </tr>\n",
       "    <tr>\n",
       "      <th>711</th>\n",
       "      <td>1.0</td>\n",
       "      <td>712.0</td>\n",
       "      <td>506944.0</td>\n",
       "      <td>360944128.0</td>\n",
       "    </tr>\n",
       "  </tbody>\n",
       "</table>\n",
       "<p>712 rows × 4 columns</p>\n",
       "</div>"
      ],
      "text/plain": [
       "     const  trend  trend_squared  trend_cubed\n",
       "0      1.0    1.0            1.0          1.0\n",
       "1      1.0    2.0            4.0          8.0\n",
       "2      1.0    3.0            9.0         27.0\n",
       "3      1.0    4.0           16.0         64.0\n",
       "4      1.0    5.0           25.0        125.0\n",
       "..     ...    ...            ...          ...\n",
       "707    1.0  708.0       501264.0  354894912.0\n",
       "708    1.0  709.0       502681.0  356400829.0\n",
       "709    1.0  710.0       504100.0  357911000.0\n",
       "710    1.0  711.0       505521.0  359425431.0\n",
       "711    1.0  712.0       506944.0  360944128.0\n",
       "\n",
       "[712 rows x 4 columns]"
      ]
     },
     "execution_count": 45,
     "metadata": {},
     "output_type": "execute_result"
    }
   ],
   "source": [
    "dp = DeterministicProcess(index = x_train.index, constant = True, order = 3, drop = True)\n",
    "\n",
    "\n",
    "X = dp.in_sample()\n",
    "lm = LinearRegression(fit_intercept=False)\n",
    "\n",
    "lm.fit(X, y_train)\n",
    "\n",
    "X"
   ]
  },
  {
   "cell_type": "code",
   "execution_count": 46,
   "metadata": {
    "id": "ZisPtbwBu5n4"
   },
   "outputs": [
    {
     "data": {
      "text/html": [
       "<div>\n",
       "<style scoped>\n",
       "    .dataframe tbody tr th:only-of-type {\n",
       "        vertical-align: middle;\n",
       "    }\n",
       "\n",
       "    .dataframe tbody tr th {\n",
       "        vertical-align: top;\n",
       "    }\n",
       "\n",
       "    .dataframe thead th {\n",
       "        text-align: right;\n",
       "    }\n",
       "</style>\n",
       "<table border=\"1\" class=\"dataframe\">\n",
       "  <thead>\n",
       "    <tr style=\"text-align: right;\">\n",
       "      <th></th>\n",
       "      <th>const</th>\n",
       "      <th>trend</th>\n",
       "      <th>trend_squared</th>\n",
       "      <th>trend_cubed</th>\n",
       "    </tr>\n",
       "  </thead>\n",
       "  <tbody>\n",
       "    <tr>\n",
       "      <th>0</th>\n",
       "      <td>1.0</td>\n",
       "      <td>1.0</td>\n",
       "      <td>1.0</td>\n",
       "      <td>1.0</td>\n",
       "    </tr>\n",
       "    <tr>\n",
       "      <th>1</th>\n",
       "      <td>1.0</td>\n",
       "      <td>2.0</td>\n",
       "      <td>4.0</td>\n",
       "      <td>8.0</td>\n",
       "    </tr>\n",
       "    <tr>\n",
       "      <th>2</th>\n",
       "      <td>1.0</td>\n",
       "      <td>3.0</td>\n",
       "      <td>9.0</td>\n",
       "      <td>27.0</td>\n",
       "    </tr>\n",
       "    <tr>\n",
       "      <th>3</th>\n",
       "      <td>1.0</td>\n",
       "      <td>4.0</td>\n",
       "      <td>16.0</td>\n",
       "      <td>64.0</td>\n",
       "    </tr>\n",
       "    <tr>\n",
       "      <th>4</th>\n",
       "      <td>1.0</td>\n",
       "      <td>5.0</td>\n",
       "      <td>25.0</td>\n",
       "      <td>125.0</td>\n",
       "    </tr>\n",
       "    <tr>\n",
       "      <th>...</th>\n",
       "      <td>...</td>\n",
       "      <td>...</td>\n",
       "      <td>...</td>\n",
       "      <td>...</td>\n",
       "    </tr>\n",
       "    <tr>\n",
       "      <th>707</th>\n",
       "      <td>1.0</td>\n",
       "      <td>708.0</td>\n",
       "      <td>501264.0</td>\n",
       "      <td>354894912.0</td>\n",
       "    </tr>\n",
       "    <tr>\n",
       "      <th>708</th>\n",
       "      <td>1.0</td>\n",
       "      <td>709.0</td>\n",
       "      <td>502681.0</td>\n",
       "      <td>356400829.0</td>\n",
       "    </tr>\n",
       "    <tr>\n",
       "      <th>709</th>\n",
       "      <td>1.0</td>\n",
       "      <td>710.0</td>\n",
       "      <td>504100.0</td>\n",
       "      <td>357911000.0</td>\n",
       "    </tr>\n",
       "    <tr>\n",
       "      <th>710</th>\n",
       "      <td>1.0</td>\n",
       "      <td>711.0</td>\n",
       "      <td>505521.0</td>\n",
       "      <td>359425431.0</td>\n",
       "    </tr>\n",
       "    <tr>\n",
       "      <th>711</th>\n",
       "      <td>1.0</td>\n",
       "      <td>712.0</td>\n",
       "      <td>506944.0</td>\n",
       "      <td>360944128.0</td>\n",
       "    </tr>\n",
       "  </tbody>\n",
       "</table>\n",
       "<p>712 rows × 4 columns</p>\n",
       "</div>"
      ],
      "text/plain": [
       "     const  trend  trend_squared  trend_cubed\n",
       "0      1.0    1.0            1.0          1.0\n",
       "1      1.0    2.0            4.0          8.0\n",
       "2      1.0    3.0            9.0         27.0\n",
       "3      1.0    4.0           16.0         64.0\n",
       "4      1.0    5.0           25.0        125.0\n",
       "..     ...    ...            ...          ...\n",
       "707    1.0  708.0       501264.0  354894912.0\n",
       "708    1.0  709.0       502681.0  356400829.0\n",
       "709    1.0  710.0       504100.0  357911000.0\n",
       "710    1.0  711.0       505521.0  359425431.0\n",
       "711    1.0  712.0       506944.0  360944128.0\n",
       "\n",
       "[712 rows x 4 columns]"
      ]
     },
     "execution_count": 46,
     "metadata": {},
     "output_type": "execute_result"
    }
   ],
   "source": [
    "test_const = [1 for i in range(x_test.shape[0])]\n",
    "test_trend = np.arange(X['trend'].max(), X['trend'].max()+x_test.shape[0])\n",
    "test_trend_squared = [i**2 for i in test_trend]\n",
    "test_trend_cubed = [i**3 for i in test_trend]\n",
    "test_trend_4 = [i**4 for i in test_trend]\n",
    "test_trend_5 = [i**5 for i in test_trend]\n",
    "test_trend_6 = [i**6 for i in test_trend]\n",
    "\n",
    "\n",
    "\n",
    "X_ = pd.DataFrame([test_const, test_trend, test_trend_squared, test_trend_cubed]).T\n",
    "X_.columns = ['const', 'trend', 'trend_squared', 'trend_cubed']\n",
    "X_.index = x_test.index\n",
    "\n",
    "X"
   ]
  },
  {
   "cell_type": "code",
   "execution_count": 47,
   "metadata": {},
   "outputs": [],
   "source": [
    "trend_train = lm.predict(X)\n",
    "trend_test = lm.predict(X_)"
   ]
  },
  {
   "cell_type": "code",
   "execution_count": 48,
   "metadata": {},
   "outputs": [
    {
     "data": {
      "text/plain": [
       "[<matplotlib.lines.Line2D at 0x1ea72295b40>]"
      ]
     },
     "execution_count": 48,
     "metadata": {},
     "output_type": "execute_result"
    },
    {
     "data": {
      "image/png": "[encoded data removed]",
      "text/plain": [
       "<Figure size 432x288 with 1 Axes>"
      ]
     },
     "metadata": {
      "needs_background": "light"
     },
     "output_type": "display_data"
    }
   ],
   "source": [
    "plt.plot(x_train.index, trend_train)\n",
    "\n",
    "plt.plot(y_train)"
   ]
  },
  {
   "cell_type": "code",
   "execution_count": 49,
   "metadata": {},
   "outputs": [],
   "source": [
    "x = train_df.drop(['date','rental'], axis = 1)\n",
    "y = train_df['rental']"
   ]
  },
  {
   "cell_type": "code",
   "execution_count": 50,
   "metadata": {},
   "outputs": [
    {
     "data": {
      "text/html": [
       "<div>\n",
       "<style scoped>\n",
       "    .dataframe tbody tr th:only-of-type {\n",
       "        vertical-align: middle;\n",
       "    }\n",
       "\n",
       "    .dataframe tbody tr th {\n",
       "        vertical-align: top;\n",
       "    }\n",
       "\n",
       "    .dataframe thead th {\n",
       "        text-align: right;\n",
       "    }\n",
       "</style>\n",
       "<table border=\"1\" class=\"dataframe\">\n",
       "  <thead>\n",
       "    <tr style=\"text-align: right;\">\n",
       "      <th></th>\n",
       "      <th>const</th>\n",
       "      <th>trend</th>\n",
       "    </tr>\n",
       "  </thead>\n",
       "  <tbody>\n",
       "    <tr>\n",
       "      <th>0</th>\n",
       "      <td>1.0</td>\n",
       "      <td>1.0</td>\n",
       "    </tr>\n",
       "    <tr>\n",
       "      <th>1</th>\n",
       "      <td>1.0</td>\n",
       "      <td>2.0</td>\n",
       "    </tr>\n",
       "    <tr>\n",
       "      <th>2</th>\n",
       "      <td>1.0</td>\n",
       "      <td>3.0</td>\n",
       "    </tr>\n",
       "    <tr>\n",
       "      <th>3</th>\n",
       "      <td>1.0</td>\n",
       "      <td>4.0</td>\n",
       "    </tr>\n",
       "    <tr>\n",
       "      <th>4</th>\n",
       "      <td>1.0</td>\n",
       "      <td>5.0</td>\n",
       "    </tr>\n",
       "    <tr>\n",
       "      <th>...</th>\n",
       "      <td>...</td>\n",
       "      <td>...</td>\n",
       "    </tr>\n",
       "    <tr>\n",
       "      <th>1091</th>\n",
       "      <td>1.0</td>\n",
       "      <td>1092.0</td>\n",
       "    </tr>\n",
       "    <tr>\n",
       "      <th>1092</th>\n",
       "      <td>1.0</td>\n",
       "      <td>1093.0</td>\n",
       "    </tr>\n",
       "    <tr>\n",
       "      <th>1093</th>\n",
       "      <td>1.0</td>\n",
       "      <td>1094.0</td>\n",
       "    </tr>\n",
       "    <tr>\n",
       "      <th>1094</th>\n",
       "      <td>1.0</td>\n",
       "      <td>1095.0</td>\n",
       "    </tr>\n",
       "    <tr>\n",
       "      <th>1095</th>\n",
       "      <td>1.0</td>\n",
       "      <td>1096.0</td>\n",
       "    </tr>\n",
       "  </tbody>\n",
       "</table>\n",
       "<p>1096 rows × 2 columns</p>\n",
       "</div>"
      ],
      "text/plain": [
       "      const   trend\n",
       "0       1.0     1.0\n",
       "1       1.0     2.0\n",
       "2       1.0     3.0\n",
       "3       1.0     4.0\n",
       "4       1.0     5.0\n",
       "...     ...     ...\n",
       "1091    1.0  1092.0\n",
       "1092    1.0  1093.0\n",
       "1093    1.0  1094.0\n",
       "1094    1.0  1095.0\n",
       "1095    1.0  1096.0\n",
       "\n",
       "[1096 rows x 2 columns]"
      ]
     },
     "execution_count": 50,
     "metadata": {},
     "output_type": "execute_result"
    }
   ],
   "source": [
    "test_dp = DeterministicProcess(index = x.index, constant = True , order = 1, drop = True)\n",
    "\n",
    "X = test_dp.in_sample()\n",
    "\n",
    "lm = LinearRegression(fit_intercept=False)\n",
    "lm.fit(X, y)\n",
    "\n",
    "X"
   ]
  },
  {
   "cell_type": "code",
   "execution_count": 51,
   "metadata": {},
   "outputs": [
    {
     "data": {
      "text/plain": [
       "RangeIndex(start=0, stop=365, step=1)"
      ]
     },
     "execution_count": 51,
     "metadata": {},
     "output_type": "execute_result"
    }
   ],
   "source": [
    "t_test = test_df.drop(['date'], axis = 1)\n",
    "t_test.index"
   ]
  },
  {
   "cell_type": "code",
   "execution_count": 52,
   "metadata": {},
   "outputs": [
    {
     "data": {
      "text/plain": [
       "Int64Index([ 712,  713,  714,  715,  716,  717,  718,  719,  720,  721,\n",
       "            ...\n",
       "            1086, 1087, 1088, 1089, 1090, 1091, 1092, 1093, 1094, 1095],\n",
       "           dtype='int64', length=384)"
      ]
     },
     "execution_count": 52,
     "metadata": {},
     "output_type": "execute_result"
    }
   ],
   "source": [
    "x_test.index"
   ]
  },
  {
   "cell_type": "code",
   "execution_count": 53,
   "metadata": {},
   "outputs": [
    {
     "data": {
      "text/html": [
       "<div>\n",
       "<style scoped>\n",
       "    .dataframe tbody tr th:only-of-type {\n",
       "        vertical-align: middle;\n",
       "    }\n",
       "\n",
       "    .dataframe tbody tr th {\n",
       "        vertical-align: top;\n",
       "    }\n",
       "\n",
       "    .dataframe thead th {\n",
       "        text-align: right;\n",
       "    }\n",
       "</style>\n",
       "<table border=\"1\" class=\"dataframe\">\n",
       "  <thead>\n",
       "    <tr style=\"text-align: right;\">\n",
       "      <th></th>\n",
       "      <th>const</th>\n",
       "      <th>trend</th>\n",
       "    </tr>\n",
       "  </thead>\n",
       "  <tbody>\n",
       "    <tr>\n",
       "      <th>0</th>\n",
       "      <td>1.0</td>\n",
       "      <td>1096.0</td>\n",
       "    </tr>\n",
       "    <tr>\n",
       "      <th>1</th>\n",
       "      <td>1.0</td>\n",
       "      <td>1097.0</td>\n",
       "    </tr>\n",
       "    <tr>\n",
       "      <th>2</th>\n",
       "      <td>1.0</td>\n",
       "      <td>1098.0</td>\n",
       "    </tr>\n",
       "    <tr>\n",
       "      <th>3</th>\n",
       "      <td>1.0</td>\n",
       "      <td>1099.0</td>\n",
       "    </tr>\n",
       "    <tr>\n",
       "      <th>4</th>\n",
       "      <td>1.0</td>\n",
       "      <td>1100.0</td>\n",
       "    </tr>\n",
       "    <tr>\n",
       "      <th>...</th>\n",
       "      <td>...</td>\n",
       "      <td>...</td>\n",
       "    </tr>\n",
       "    <tr>\n",
       "      <th>360</th>\n",
       "      <td>1.0</td>\n",
       "      <td>1456.0</td>\n",
       "    </tr>\n",
       "    <tr>\n",
       "      <th>361</th>\n",
       "      <td>1.0</td>\n",
       "      <td>1457.0</td>\n",
       "    </tr>\n",
       "    <tr>\n",
       "      <th>362</th>\n",
       "      <td>1.0</td>\n",
       "      <td>1458.0</td>\n",
       "    </tr>\n",
       "    <tr>\n",
       "      <th>363</th>\n",
       "      <td>1.0</td>\n",
       "      <td>1459.0</td>\n",
       "    </tr>\n",
       "    <tr>\n",
       "      <th>364</th>\n",
       "      <td>1.0</td>\n",
       "      <td>1460.0</td>\n",
       "    </tr>\n",
       "  </tbody>\n",
       "</table>\n",
       "<p>365 rows × 2 columns</p>\n",
       "</div>"
      ],
      "text/plain": [
       "     const   trend\n",
       "0      1.0  1096.0\n",
       "1      1.0  1097.0\n",
       "2      1.0  1098.0\n",
       "3      1.0  1099.0\n",
       "4      1.0  1100.0\n",
       "..     ...     ...\n",
       "360    1.0  1456.0\n",
       "361    1.0  1457.0\n",
       "362    1.0  1458.0\n",
       "363    1.0  1459.0\n",
       "364    1.0  1460.0\n",
       "\n",
       "[365 rows x 2 columns]"
      ]
     },
     "execution_count": 53,
     "metadata": {},
     "output_type": "execute_result"
    }
   ],
   "source": [
    "test_const = [1 for i in range(t_test.shape[0])]\n",
    "test_trend = np.arange(X['trend'].max(), X['trend'].max()+t_test.shape[0])\n",
    "test_trend_squared = [i**2 for i in test_trend]\n",
    "test_trend_cubed = [i**3 for i in test_trend]\n",
    "test_trend_4 = [i**4 for i in test_trend]\n",
    "test_trend_5 = [i**5 for i in test_trend]\n",
    "test_trend_6 = [i**6 for i in test_trend]\n",
    "\n",
    "\n",
    "\n",
    "X_ = pd.DataFrame([test_const, test_trend]).T\n",
    "X_.columns = ['const', 'trend']\n",
    "X_.index = t_test.index\n",
    "X_"
   ]
  },
  {
   "cell_type": "code",
   "execution_count": 54,
   "metadata": {},
   "outputs": [
    {
     "data": {
      "image/png": "[encoded data removed]",
      "text/plain": [
       "<Figure size 432x288 with 1 Axes>"
      ]
     },
     "metadata": {
      "needs_background": "light"
     },
     "output_type": "display_data"
    }
   ],
   "source": [
    "trend_train = lm.predict(X)\n",
    "trend_test = lm.predict(X_)\n",
    "\n",
    "plt.plot(x.index, trend_train)\n",
    "plt.plot(y)\n",
    "plt.plot(X_.index + len(x.index), trend_test)\n",
    "\n",
    "y_delta = y / trend_train"
   ]
  },
  {
   "cell_type": "code",
   "execution_count": 63,
   "metadata": {},
   "outputs": [],
   "source": [
    "model1 = GradientBoostingRegressor(n_estimators = 500, max_depth = 3, learning_rate = 0.01)\n",
    "model1.fit(x, y_delta)\n",
    "\n",
    "t_pred1 = model1.predict(t_test)\n",
    "lastpang1 = t_pred1 * trend_test\n",
    "\n",
    "model2 = RandomForestRegressor()\n",
    "model2.fit(x, y_delta)\n",
    "\n",
    "t_pred2 = model2.predict(t_test)\n",
    "lastpang2 = t_pred2 * trend_test"
   ]
  },
  {
   "cell_type": "code",
   "execution_count": 64,
   "metadata": {
    "id": "FajyOyva-v85"
   },
   "outputs": [],
   "source": [
    "test_label = pd.read_excel('open/test_label.xlsx', engine = 'openpyxl')\n",
    "t_label = test_label['rental']"
   ]
  },
  {
   "cell_type": "code",
   "execution_count": 65,
   "metadata": {
    "id": "xJuqDqCuR5y_"
   },
   "outputs": [],
   "source": [
    "def NMAE(true, pred):\n",
    "    score = np.mean(np.abs(true-pred) / true)\n",
    "    return score"
   ]
  },
  {
   "cell_type": "code",
   "execution_count": 66,
   "metadata": {},
   "outputs": [
    {
     "name": "stdout",
     "output_type": "stream",
     "text": [
      "GBR =  0.24508483785185325\n",
      "RF =  0.24051857893243284\n"
     ]
    }
   ],
   "source": [
    "print('GBR = ', NMAE(t_label, lastpang1))\n",
    "print('RF = ', NMAE(t_label, lastpang2))"
   ]
  },
  {
   "cell_type": "code",
   "execution_count": 67,
   "metadata": {},
   "outputs": [
    {
     "data": {
      "text/plain": [
       "[<matplotlib.lines.Line2D at 0x1ea72411180>]"
      ]
     },
     "execution_count": 67,
     "metadata": {},
     "output_type": "execute_result"
    },
    {
     "data": {
      "image/png": "[encoded data removed]",
      "text/plain": [
       "<Figure size 432x288 with 1 Axes>"
      ]
     },
     "metadata": {
      "needs_background": "light"
     },
     "output_type": "display_data"
    }
   ],
   "source": [
    "plt.plot(t_label)\n",
    "plt.plot(lastpang2, 'r')"
   ]
  },
  {
   "cell_type": "code",
   "execution_count": 60,
   "metadata": {},
   "outputs": [
    {
     "name": "stdout",
     "output_type": "stream",
     "text": [
      "[0.02846419 0.03488258 0.59608754 0.03163953 0.00809167 0.00859764\n",
      " 0.16443358 0.04145884 0.01878461 0.00626285 0.00692464 0.0050864\n",
      " 0.0084491  0.03285475 0.00798207]\n"
     ]
    },
    {
     "data": {
      "text/html": [
       "<div>\n",
       "<style scoped>\n",
       "    .dataframe tbody tr th:only-of-type {\n",
       "        vertical-align: middle;\n",
       "    }\n",
       "\n",
       "    .dataframe tbody tr th {\n",
       "        vertical-align: top;\n",
       "    }\n",
       "\n",
       "    .dataframe thead th {\n",
       "        text-align: right;\n",
       "    }\n",
       "</style>\n",
       "<table border=\"1\" class=\"dataframe\">\n",
       "  <thead>\n",
       "    <tr style=\"text-align: right;\">\n",
       "      <th></th>\n",
       "      <th>precipitation</th>\n",
       "      <th>temp_mean</th>\n",
       "      <th>temp_highest</th>\n",
       "      <th>temp_lowest</th>\n",
       "      <th>PM10</th>\n",
       "      <th>PM2.5</th>\n",
       "      <th>humidity</th>\n",
       "      <th>sunshine_sum</th>\n",
       "      <th>sunshine_rate</th>\n",
       "      <th>wind_mean</th>\n",
       "      <th>wind_max</th>\n",
       "      <th>days_of_week</th>\n",
       "      <th>year</th>\n",
       "      <th>month</th>\n",
       "      <th>day</th>\n",
       "    </tr>\n",
       "  </thead>\n",
       "  <tbody>\n",
       "    <tr>\n",
       "      <th>0</th>\n",
       "      <td>-0.421284</td>\n",
       "      <td>-4.2</td>\n",
       "      <td>1.6</td>\n",
       "      <td>-9.8</td>\n",
       "      <td>30.0</td>\n",
       "      <td>17.0</td>\n",
       "      <td>64.0</td>\n",
       "      <td>6.5</td>\n",
       "      <td>67.7</td>\n",
       "      <td>2.0</td>\n",
       "      <td>4.1</td>\n",
       "      <td>0</td>\n",
       "      <td>2021</td>\n",
       "      <td>01</td>\n",
       "      <td>01</td>\n",
       "    </tr>\n",
       "    <tr>\n",
       "      <th>1</th>\n",
       "      <td>-5.921125</td>\n",
       "      <td>-5.0</td>\n",
       "      <td>-1.4</td>\n",
       "      <td>-8.4</td>\n",
       "      <td>34.0</td>\n",
       "      <td>12.0</td>\n",
       "      <td>38.5</td>\n",
       "      <td>9.0</td>\n",
       "      <td>93.8</td>\n",
       "      <td>2.6</td>\n",
       "      <td>5.4</td>\n",
       "      <td>0</td>\n",
       "      <td>2021</td>\n",
       "      <td>01</td>\n",
       "      <td>02</td>\n",
       "    </tr>\n",
       "    <tr>\n",
       "      <th>2</th>\n",
       "      <td>1.867451</td>\n",
       "      <td>-5.6</td>\n",
       "      <td>-2.0</td>\n",
       "      <td>-9.1</td>\n",
       "      <td>39.0</td>\n",
       "      <td>14.0</td>\n",
       "      <td>45.0</td>\n",
       "      <td>5.5</td>\n",
       "      <td>56.7</td>\n",
       "      <td>2.0</td>\n",
       "      <td>4.5</td>\n",
       "      <td>0</td>\n",
       "      <td>2021</td>\n",
       "      <td>01</td>\n",
       "      <td>03</td>\n",
       "    </tr>\n",
       "    <tr>\n",
       "      <th>3</th>\n",
       "      <td>3.832171</td>\n",
       "      <td>-3.5</td>\n",
       "      <td>0.3</td>\n",
       "      <td>-8.4</td>\n",
       "      <td>40.0</td>\n",
       "      <td>23.0</td>\n",
       "      <td>51.4</td>\n",
       "      <td>4.6</td>\n",
       "      <td>47.4</td>\n",
       "      <td>1.7</td>\n",
       "      <td>3.2</td>\n",
       "      <td>0</td>\n",
       "      <td>2021</td>\n",
       "      <td>01</td>\n",
       "      <td>04</td>\n",
       "    </tr>\n",
       "    <tr>\n",
       "      <th>4</th>\n",
       "      <td>-4.894634</td>\n",
       "      <td>-5.5</td>\n",
       "      <td>-2.1</td>\n",
       "      <td>-9.9</td>\n",
       "      <td>30.0</td>\n",
       "      <td>17.0</td>\n",
       "      <td>52.8</td>\n",
       "      <td>8.6</td>\n",
       "      <td>88.7</td>\n",
       "      <td>2.9</td>\n",
       "      <td>5.7</td>\n",
       "      <td>0</td>\n",
       "      <td>2021</td>\n",
       "      <td>01</td>\n",
       "      <td>05</td>\n",
       "    </tr>\n",
       "    <tr>\n",
       "      <th>...</th>\n",
       "      <td>...</td>\n",
       "      <td>...</td>\n",
       "      <td>...</td>\n",
       "      <td>...</td>\n",
       "      <td>...</td>\n",
       "      <td>...</td>\n",
       "      <td>...</td>\n",
       "      <td>...</td>\n",
       "      <td>...</td>\n",
       "      <td>...</td>\n",
       "      <td>...</td>\n",
       "      <td>...</td>\n",
       "      <td>...</td>\n",
       "      <td>...</td>\n",
       "      <td>...</td>\n",
       "    </tr>\n",
       "    <tr>\n",
       "      <th>360</th>\n",
       "      <td>9.800086</td>\n",
       "      <td>-7.6</td>\n",
       "      <td>-3.9</td>\n",
       "      <td>-12.9</td>\n",
       "      <td>33.0</td>\n",
       "      <td>20.0</td>\n",
       "      <td>60.9</td>\n",
       "      <td>3.8</td>\n",
       "      <td>39.6</td>\n",
       "      <td>1.7</td>\n",
       "      <td>3.1</td>\n",
       "      <td>0</td>\n",
       "      <td>2021</td>\n",
       "      <td>12</td>\n",
       "      <td>27</td>\n",
       "    </tr>\n",
       "    <tr>\n",
       "      <th>361</th>\n",
       "      <td>14.416147</td>\n",
       "      <td>-4.1</td>\n",
       "      <td>-0.9</td>\n",
       "      <td>-8.5</td>\n",
       "      <td>51.0</td>\n",
       "      <td>38.0</td>\n",
       "      <td>73.8</td>\n",
       "      <td>1.7</td>\n",
       "      <td>17.7</td>\n",
       "      <td>2.2</td>\n",
       "      <td>3.1</td>\n",
       "      <td>0</td>\n",
       "      <td>2021</td>\n",
       "      <td>12</td>\n",
       "      <td>28</td>\n",
       "    </tr>\n",
       "    <tr>\n",
       "      <th>362</th>\n",
       "      <td>14.187274</td>\n",
       "      <td>0.4</td>\n",
       "      <td>5.9</td>\n",
       "      <td>-3.8</td>\n",
       "      <td>66.0</td>\n",
       "      <td>49.0</td>\n",
       "      <td>72.9</td>\n",
       "      <td>1.8</td>\n",
       "      <td>18.8</td>\n",
       "      <td>2.6</td>\n",
       "      <td>5.9</td>\n",
       "      <td>1</td>\n",
       "      <td>2021</td>\n",
       "      <td>12</td>\n",
       "      <td>29</td>\n",
       "    </tr>\n",
       "    <tr>\n",
       "      <th>363</th>\n",
       "      <td>2.122507</td>\n",
       "      <td>-3.9</td>\n",
       "      <td>0.2</td>\n",
       "      <td>-6.8</td>\n",
       "      <td>30.0</td>\n",
       "      <td>17.0</td>\n",
       "      <td>48.5</td>\n",
       "      <td>7.3</td>\n",
       "      <td>76.0</td>\n",
       "      <td>3.3</td>\n",
       "      <td>6.6</td>\n",
       "      <td>1</td>\n",
       "      <td>2021</td>\n",
       "      <td>12</td>\n",
       "      <td>30</td>\n",
       "    </tr>\n",
       "    <tr>\n",
       "      <th>364</th>\n",
       "      <td>-1.625631</td>\n",
       "      <td>-6.7</td>\n",
       "      <td>-3.9</td>\n",
       "      <td>-8.8</td>\n",
       "      <td>23.0</td>\n",
       "      <td>7.0</td>\n",
       "      <td>35.9</td>\n",
       "      <td>9.0</td>\n",
       "      <td>93.8</td>\n",
       "      <td>3.5</td>\n",
       "      <td>5.4</td>\n",
       "      <td>0</td>\n",
       "      <td>2021</td>\n",
       "      <td>12</td>\n",
       "      <td>31</td>\n",
       "    </tr>\n",
       "  </tbody>\n",
       "</table>\n",
       "<p>365 rows × 15 columns</p>\n",
       "</div>"
      ],
      "text/plain": [
       "     precipitation  temp_mean  temp_highest  temp_lowest  PM10  PM2.5  \\\n",
       "0        -0.421284       -4.2           1.6         -9.8  30.0   17.0   \n",
       "1        -5.921125       -5.0          -1.4         -8.4  34.0   12.0   \n",
       "2         1.867451       -5.6          -2.0         -9.1  39.0   14.0   \n",
       "3         3.832171       -3.5           0.3         -8.4  40.0   23.0   \n",
       "4        -4.894634       -5.5          -2.1         -9.9  30.0   17.0   \n",
       "..             ...        ...           ...          ...   ...    ...   \n",
       "360       9.800086       -7.6          -3.9        -12.9  33.0   20.0   \n",
       "361      14.416147       -4.1          -0.9         -8.5  51.0   38.0   \n",
       "362      14.187274        0.4           5.9         -3.8  66.0   49.0   \n",
       "363       2.122507       -3.9           0.2         -6.8  30.0   17.0   \n",
       "364      -1.625631       -6.7          -3.9         -8.8  23.0    7.0   \n",
       "\n",
       "     humidity  sunshine_sum  sunshine_rate  wind_mean  wind_max  days_of_week  \\\n",
       "0        64.0           6.5           67.7        2.0       4.1             0   \n",
       "1        38.5           9.0           93.8        2.6       5.4             0   \n",
       "2        45.0           5.5           56.7        2.0       4.5             0   \n",
       "3        51.4           4.6           47.4        1.7       3.2             0   \n",
       "4        52.8           8.6           88.7        2.9       5.7             0   \n",
       "..        ...           ...            ...        ...       ...           ...   \n",
       "360      60.9           3.8           39.6        1.7       3.1             0   \n",
       "361      73.8           1.7           17.7        2.2       3.1             0   \n",
       "362      72.9           1.8           18.8        2.6       5.9             1   \n",
       "363      48.5           7.3           76.0        3.3       6.6             1   \n",
       "364      35.9           9.0           93.8        3.5       5.4             0   \n",
       "\n",
       "     year month day  \n",
       "0    2021    01  01  \n",
       "1    2021    01  02  \n",
       "2    2021    01  03  \n",
       "3    2021    01  04  \n",
       "4    2021    01  05  \n",
       "..    ...   ...  ..  \n",
       "360  2021    12  27  \n",
       "361  2021    12  28  \n",
       "362  2021    12  29  \n",
       "363  2021    12  30  \n",
       "364  2021    12  31  \n",
       "\n",
       "[365 rows x 15 columns]"
      ]
     },
     "execution_count": 60,
     "metadata": {},
     "output_type": "execute_result"
    }
   ],
   "source": [
    "print(model2.feature_importances_)\n",
    "t_test"
   ]
  },
  {
   "cell_type": "code",
   "execution_count": 61,
   "metadata": {},
   "outputs": [
    {
     "data": {
      "text/html": [
       "<div>\n",
       "<style scoped>\n",
       "    .dataframe tbody tr th:only-of-type {\n",
       "        vertical-align: middle;\n",
       "    }\n",
       "\n",
       "    .dataframe tbody tr th {\n",
       "        vertical-align: top;\n",
       "    }\n",
       "\n",
       "    .dataframe thead th {\n",
       "        text-align: right;\n",
       "    }\n",
       "</style>\n",
       "<table border=\"1\" class=\"dataframe\">\n",
       "  <thead>\n",
       "    <tr style=\"text-align: right;\">\n",
       "      <th></th>\n",
       "      <th>date</th>\n",
       "      <th>rental</th>\n",
       "    </tr>\n",
       "  </thead>\n",
       "  <tbody>\n",
       "    <tr>\n",
       "      <th>0</th>\n",
       "      <td>2021-01-01</td>\n",
       "      <td>29521.060126</td>\n",
       "    </tr>\n",
       "    <tr>\n",
       "      <th>1</th>\n",
       "      <td>2021-01-02</td>\n",
       "      <td>27344.900933</td>\n",
       "    </tr>\n",
       "    <tr>\n",
       "      <th>2</th>\n",
       "      <td>2021-01-03</td>\n",
       "      <td>26608.134000</td>\n",
       "    </tr>\n",
       "    <tr>\n",
       "      <th>3</th>\n",
       "      <td>2021-01-04</td>\n",
       "      <td>30123.894023</td>\n",
       "    </tr>\n",
       "    <tr>\n",
       "      <th>4</th>\n",
       "      <td>2021-01-05</td>\n",
       "      <td>26929.660264</td>\n",
       "    </tr>\n",
       "    <tr>\n",
       "      <th>...</th>\n",
       "      <td>...</td>\n",
       "      <td>...</td>\n",
       "    </tr>\n",
       "    <tr>\n",
       "      <th>360</th>\n",
       "      <td>2021-12-27</td>\n",
       "      <td>41370.744033</td>\n",
       "    </tr>\n",
       "    <tr>\n",
       "      <th>361</th>\n",
       "      <td>2021-12-28</td>\n",
       "      <td>45113.102460</td>\n",
       "    </tr>\n",
       "    <tr>\n",
       "      <th>362</th>\n",
       "      <td>2021-12-29</td>\n",
       "      <td>42205.642306</td>\n",
       "    </tr>\n",
       "    <tr>\n",
       "      <th>363</th>\n",
       "      <td>2021-12-30</td>\n",
       "      <td>35548.034561</td>\n",
       "    </tr>\n",
       "    <tr>\n",
       "      <th>364</th>\n",
       "      <td>2021-12-31</td>\n",
       "      <td>41735.683350</td>\n",
       "    </tr>\n",
       "  </tbody>\n",
       "</table>\n",
       "<p>365 rows × 2 columns</p>\n",
       "</div>"
      ],
      "text/plain": [
       "           date        rental\n",
       "0    2021-01-01  29521.060126\n",
       "1    2021-01-02  27344.900933\n",
       "2    2021-01-03  26608.134000\n",
       "3    2021-01-04  30123.894023\n",
       "4    2021-01-05  26929.660264\n",
       "..          ...           ...\n",
       "360  2021-12-27  41370.744033\n",
       "361  2021-12-28  45113.102460\n",
       "362  2021-12-29  42205.642306\n",
       "363  2021-12-30  35548.034561\n",
       "364  2021-12-31  41735.683350\n",
       "\n",
       "[365 rows x 2 columns]"
      ]
     },
     "execution_count": 61,
     "metadata": {},
     "output_type": "execute_result"
    }
   ],
   "source": [
    "sub_df"
   ]
  },
  {
   "cell_type": "code",
   "execution_count": 62,
   "metadata": {},
   "outputs": [],
   "source": [
    "for i in range(0, len(lastpang1), 1) :\n",
    "    sub_df['rental'].loc[i] = lastpang1[i]\n",
    "\n",
    "sub_df.to_csv('open/submit.csv', index = False)"
   ]
  },
  {
   "cell_type": "code",
   "execution_count": null,
   "metadata": {},
   "outputs": [],
   "source": []
  },
  {
   "cell_type": "code",
   "execution_count": null,
   "metadata": {},
   "outputs": [],
   "source": []
  },
  {
   "cell_type": "code",
   "execution_count": null,
   "metadata": {},
   "outputs": [],
   "source": []
  },
  {
   "cell_type": "code",
   "execution_count": null,
   "metadata": {},
   "outputs": [],
   "source": []
  },
  {
   "cell_type": "code",
   "execution_count": null,
   "metadata": {},
   "outputs": [],
   "source": []
  },
  {
   "cell_type": "code",
   "execution_count": null,
   "metadata": {},
   "outputs": [],
   "source": []
  },
  {
   "cell_type": "code",
   "execution_count": null,
   "metadata": {},
   "outputs": [],
   "source": []
  },
  {
   "cell_type": "code",
   "execution_count": null,
   "metadata": {},
   "outputs": [],
   "source": []
  },
  {
   "cell_type": "code",
   "execution_count": null,
   "metadata": {},
   "outputs": [],
   "source": []
  },
  {
   "cell_type": "code",
   "execution_count": null,
   "metadata": {},
   "outputs": [],
   "source": []
  },
  {
   "cell_type": "code",
   "execution_count": null,
   "metadata": {},
   "outputs": [],
   "source": []
  }
 ],
 "metadata": {
  "colab": {
   "collapsed_sections": [],
   "name": "preprocessing_for_GBR.ipynb",
   "provenance": []
  },
  "kernelspec": {
   "display_name": "Python 3 (ipykernel)",
   "language": "python",
   "name": "python3"
  },
  "language_info": {
   "codemirror_mode": {
    "name": "ipython",
    "version": 3
   },
   "file_extension": ".py",
   "mimetype": "text/x-python",
   "name": "python",
   "nbconvert_exporter": "python",
   "pygments_lexer": "ipython3",
   "version": "3.8.12"
  },
  "vscode": {
   "interpreter": {
    "hash": "8ffb198bb7cebc8a652939ac07b28802de13ce4b22d89c3afd3bd3a1bb7233d3"
   }
  }
 },
 "nbformat": 4,
 "nbformat_minor": 1
}
