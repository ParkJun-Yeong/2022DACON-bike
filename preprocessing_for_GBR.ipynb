{
 "cells": [
  {
   "cell_type": "code",
   "execution_count": 1,
   "metadata": {},
   "outputs": [
    {
     "name": "stdout",
     "output_type": "stream",
     "text": [
      "hello world\n"
     ]
    }
   ],
   "source": [
    "import sys, os\n",
    "import pandas as pd\n",
    "import numpy as np\n",
    "import matplotlib.pyplot as plt\n",
    "\n",
    "from sklearn.preprocessing import LabelEncoder, MinMaxScaler, StandardScaler \n",
    "from sklearn.model_selection import train_test_split, GridSearchCV \n",
    "from sklearn.linear_model import LinearRegression\n",
    "from sklearn.ensemble import RandomForestRegressor \n",
    "from sklearn.ensemble import GradientBoostingRegressor\n",
    "from sklearn.linear_model import LinearRegression\n",
    "\n",
    "print('hello world')"
   ]
  },
  {
   "cell_type": "code",
   "execution_count": 2,
   "metadata": {},
   "outputs": [
    {
     "name": "stdout",
     "output_type": "stream",
     "text": [
      "Number of Data for training : 1095\n",
      " Number of Variables : 13\n"
     ]
    }
   ],
   "source": [
    "df_origin = pd.read_csv('open/train.csv')\n",
    "\n",
    "train_df = pd.read_csv('open/train.csv')\n",
    "test_df = pd.read_csv('open/test.csv')\n",
    "sub_df = pd.read_csv('open/sample_submission.csv')\n",
    "\n",
    "print('Number of Data for training : {col}\\n Number of Variables : {row}'\n",
    "      .format(col = train_df.shape[0], row = train_df.shape[1]))"
   ]
  },
  {
   "cell_type": "markdown",
   "metadata": {},
   "source": [
    "주말 / 평일 구분 (Column : days_of_week)"
   ]
  },
  {
   "cell_type": "code",
   "execution_count": 3,
   "metadata": {},
   "outputs": [
    {
     "data": {
      "text/html": [
       "<div>\n",
       "<style scoped>\n",
       "    .dataframe tbody tr th:only-of-type {\n",
       "        vertical-align: middle;\n",
       "    }\n",
       "\n",
       "    .dataframe tbody tr th {\n",
       "        vertical-align: top;\n",
       "    }\n",
       "\n",
       "    .dataframe thead th {\n",
       "        text-align: right;\n",
       "    }\n",
       "</style>\n",
       "<table border=\"1\" class=\"dataframe\">\n",
       "  <thead>\n",
       "    <tr style=\"text-align: right;\">\n",
       "      <th></th>\n",
       "      <th>date</th>\n",
       "      <th>precipitation</th>\n",
       "      <th>temp_mean</th>\n",
       "      <th>temp_highest</th>\n",
       "      <th>temp_lowest</th>\n",
       "      <th>PM10</th>\n",
       "      <th>PM2.5</th>\n",
       "      <th>humidity</th>\n",
       "      <th>sunshine_sum</th>\n",
       "      <th>sunshine_rate</th>\n",
       "      <th>wind_mean</th>\n",
       "      <th>wind_max</th>\n",
       "      <th>rental</th>\n",
       "    </tr>\n",
       "  </thead>\n",
       "  <tbody>\n",
       "    <tr>\n",
       "      <th>611</th>\n",
       "      <td>2019-09-04</td>\n",
       "      <td>22.7</td>\n",
       "      <td>22.8</td>\n",
       "      <td>25.5</td>\n",
       "      <td>21.2</td>\n",
       "      <td>6.0</td>\n",
       "      <td>3.0</td>\n",
       "      <td>89.0</td>\n",
       "      <td>1.1</td>\n",
       "      <td>8.5</td>\n",
       "      <td>2.5</td>\n",
       "      <td>4.5</td>\n",
       "      <td>27168</td>\n",
       "    </tr>\n",
       "    <tr>\n",
       "      <th>612</th>\n",
       "      <td>2019-09-05</td>\n",
       "      <td>36.4</td>\n",
       "      <td>23.0</td>\n",
       "      <td>27.6</td>\n",
       "      <td>21.5</td>\n",
       "      <td>9.0</td>\n",
       "      <td>6.0</td>\n",
       "      <td>91.4</td>\n",
       "      <td>1.5</td>\n",
       "      <td>11.6</td>\n",
       "      <td>2.0</td>\n",
       "      <td>5.0</td>\n",
       "      <td>33929</td>\n",
       "    </tr>\n",
       "    <tr>\n",
       "      <th>613</th>\n",
       "      <td>2019-09-06</td>\n",
       "      <td>2.4</td>\n",
       "      <td>25.3</td>\n",
       "      <td>29.1</td>\n",
       "      <td>21.6</td>\n",
       "      <td>13.0</td>\n",
       "      <td>8.0</td>\n",
       "      <td>79.8</td>\n",
       "      <td>0.4</td>\n",
       "      <td>3.1</td>\n",
       "      <td>2.1</td>\n",
       "      <td>3.4</td>\n",
       "      <td>16631</td>\n",
       "    </tr>\n",
       "    <tr>\n",
       "      <th>614</th>\n",
       "      <td>2019-09-08</td>\n",
       "      <td>0.0</td>\n",
       "      <td>24.7</td>\n",
       "      <td>27.3</td>\n",
       "      <td>22.9</td>\n",
       "      <td>NaN</td>\n",
       "      <td>NaN</td>\n",
       "      <td>76.9</td>\n",
       "      <td>1.4</td>\n",
       "      <td>11.0</td>\n",
       "      <td>1.9</td>\n",
       "      <td>4.8</td>\n",
       "      <td>52055</td>\n",
       "    </tr>\n",
       "    <tr>\n",
       "      <th>615</th>\n",
       "      <td>2019-09-09</td>\n",
       "      <td>0.0</td>\n",
       "      <td>25.1</td>\n",
       "      <td>28.0</td>\n",
       "      <td>22.4</td>\n",
       "      <td>35.0</td>\n",
       "      <td>26.0</td>\n",
       "      <td>74.3</td>\n",
       "      <td>2.0</td>\n",
       "      <td>15.7</td>\n",
       "      <td>1.7</td>\n",
       "      <td>3.6</td>\n",
       "      <td>68370</td>\n",
       "    </tr>\n",
       "  </tbody>\n",
       "</table>\n",
       "</div>"
      ],
      "text/plain": [
       "           date  precipitation  temp_mean  temp_highest  temp_lowest  PM10  \\\n",
       "611  2019-09-04           22.7       22.8          25.5         21.2   6.0   \n",
       "612  2019-09-05           36.4       23.0          27.6         21.5   9.0   \n",
       "613  2019-09-06            2.4       25.3          29.1         21.6  13.0   \n",
       "614  2019-09-08            0.0       24.7          27.3         22.9   NaN   \n",
       "615  2019-09-09            0.0       25.1          28.0         22.4  35.0   \n",
       "\n",
       "     PM2.5  humidity  sunshine_sum  sunshine_rate  wind_mean  wind_max  rental  \n",
       "611    3.0      89.0           1.1            8.5        2.5       4.5   27168  \n",
       "612    6.0      91.4           1.5           11.6        2.0       5.0   33929  \n",
       "613    8.0      79.8           0.4            3.1        2.1       3.4   16631  \n",
       "614    NaN      76.9           1.4           11.0        1.9       4.8   52055  \n",
       "615   26.0      74.3           2.0           15.7        1.7       3.6   68370  "
      ]
     },
     "execution_count": 3,
     "metadata": {},
     "output_type": "execute_result"
    }
   ],
   "source": [
    "train_df.loc[[611,612,613,614,615]] # 2019-09-07 자료가 없어..."
   ]
  },
  {
   "cell_type": "code",
   "execution_count": 4,
   "metadata": {},
   "outputs": [
    {
     "name": "stdout",
     "output_type": "stream",
     "text": [
      "           date  precipitation  temp_mean  temp_highest  temp_lowest  PM10  \\\n",
      "612  2019-09-05           36.4       23.0          27.6         21.5   9.0   \n",
      "613  2019-09-06            2.4       25.3          29.1         21.6  13.0   \n",
      "614  2019-09-07            2.4       25.3          29.1         21.6  13.0   \n",
      "615  2019-09-08            0.0       24.7          27.3         22.9   NaN   \n",
      "\n",
      "     PM2.5  humidity  sunshine_sum  sunshine_rate  wind_mean  wind_max  rental  \n",
      "612    6.0      91.4           1.5           11.6        2.0       5.0   33929  \n",
      "613    8.0      79.8           0.4            3.1        2.1       3.4   16631  \n",
      "614    8.0      79.8           0.4            3.1        2.1       3.4   16631  \n",
      "615    NaN      76.9           1.4           11.0        1.9       4.8   52055  \n"
     ]
    },
    {
     "data": {
      "text/plain": [
       "1096"
      ]
     },
     "execution_count": 4,
     "metadata": {},
     "output_type": "execute_result"
    }
   ],
   "source": [
    "# 2018.01.01 ~ 2020.12.31 (NaN of 2019.09.07 sat ;;;;;)\n",
    "# \n",
    "new_row = pd.DataFrame(train_df.loc[[613]], columns = train_df.columns)\n",
    "\n",
    "new_df = pd.concat([train_df.iloc[:613], new_row, train_df.iloc[613:]], ignore_index = True)\n",
    "\n",
    "new_df.loc[614,'date'] = '2019-09-07' \n",
    "\n",
    "\n",
    "print(new_df.loc[[612,613,614,615]])\n",
    "len(new_df)"
   ]
  },
  {
   "cell_type": "code",
   "execution_count": 5,
   "metadata": {},
   "outputs": [
    {
     "name": "stdout",
     "output_type": "stream",
     "text": [
      "1096\n"
     ]
    }
   ],
   "source": [
    "# To distinguish weekend and weekday\n",
    "# The name of new index is \"days_of_week\" \n",
    "# [0:Mon ~ Fri, 1:Sat, 1:Sun]\n",
    "\n",
    "df_week = [] # List for df column \"days of week\"\n",
    "\n",
    "L1 = new_df.shape[0] // 7  # 1096 // 7\n",
    "L2 = new_df.shape[0] % 7  # 1096 // 7\n",
    "\n",
    "#week = [0, 1, 2, 3, 4, 5, 6]\n",
    "week = [0, 0, 0, 0, 0, 1, 1] # weekday / weekend\n",
    "\n",
    "for i in range(0,L1,1):\n",
    "    df_week.extend(week)\n",
    "\n",
    "for i in range(0,L2,1):\n",
    "    df_week.append(0)\n",
    "\n",
    "print(len(df_week))"
   ]
  },
  {
   "cell_type": "code",
   "execution_count": 6,
   "metadata": {},
   "outputs": [
    {
     "data": {
      "text/html": [
       "<div>\n",
       "<style scoped>\n",
       "    .dataframe tbody tr th:only-of-type {\n",
       "        vertical-align: middle;\n",
       "    }\n",
       "\n",
       "    .dataframe tbody tr th {\n",
       "        vertical-align: top;\n",
       "    }\n",
       "\n",
       "    .dataframe thead th {\n",
       "        text-align: right;\n",
       "    }\n",
       "</style>\n",
       "<table border=\"1\" class=\"dataframe\">\n",
       "  <thead>\n",
       "    <tr style=\"text-align: right;\">\n",
       "      <th></th>\n",
       "      <th>date</th>\n",
       "      <th>precipitation</th>\n",
       "      <th>temp_mean</th>\n",
       "      <th>temp_highest</th>\n",
       "      <th>temp_lowest</th>\n",
       "      <th>PM10</th>\n",
       "      <th>PM2.5</th>\n",
       "      <th>humidity</th>\n",
       "      <th>sunshine_sum</th>\n",
       "      <th>sunshine_rate</th>\n",
       "      <th>wind_mean</th>\n",
       "      <th>wind_max</th>\n",
       "      <th>rental</th>\n",
       "      <th>days_of_week</th>\n",
       "    </tr>\n",
       "  </thead>\n",
       "  <tbody>\n",
       "    <tr>\n",
       "      <th>0</th>\n",
       "      <td>2018-01-01</td>\n",
       "      <td>NaN</td>\n",
       "      <td>-1.3</td>\n",
       "      <td>3.8</td>\n",
       "      <td>-5.1</td>\n",
       "      <td>34.0</td>\n",
       "      <td>17.0</td>\n",
       "      <td>39.1</td>\n",
       "      <td>8.3</td>\n",
       "      <td>86.5</td>\n",
       "      <td>1.4</td>\n",
       "      <td>3.8</td>\n",
       "      <td>4950</td>\n",
       "      <td>0</td>\n",
       "    </tr>\n",
       "    <tr>\n",
       "      <th>1</th>\n",
       "      <td>2018-01-02</td>\n",
       "      <td>NaN</td>\n",
       "      <td>-1.8</td>\n",
       "      <td>1.8</td>\n",
       "      <td>-4.3</td>\n",
       "      <td>36.0</td>\n",
       "      <td>22.0</td>\n",
       "      <td>42.0</td>\n",
       "      <td>7.9</td>\n",
       "      <td>82.3</td>\n",
       "      <td>1.8</td>\n",
       "      <td>4.9</td>\n",
       "      <td>7136</td>\n",
       "      <td>0</td>\n",
       "    </tr>\n",
       "    <tr>\n",
       "      <th>2</th>\n",
       "      <td>2018-01-03</td>\n",
       "      <td>NaN</td>\n",
       "      <td>-4.7</td>\n",
       "      <td>-0.4</td>\n",
       "      <td>-7.1</td>\n",
       "      <td>31.0</td>\n",
       "      <td>19.0</td>\n",
       "      <td>42.3</td>\n",
       "      <td>8.6</td>\n",
       "      <td>88.7</td>\n",
       "      <td>2.2</td>\n",
       "      <td>3.5</td>\n",
       "      <td>7156</td>\n",
       "      <td>0</td>\n",
       "    </tr>\n",
       "    <tr>\n",
       "      <th>3</th>\n",
       "      <td>2018-01-04</td>\n",
       "      <td>NaN</td>\n",
       "      <td>-4.7</td>\n",
       "      <td>-0.7</td>\n",
       "      <td>-8.7</td>\n",
       "      <td>39.0</td>\n",
       "      <td>24.0</td>\n",
       "      <td>43.0</td>\n",
       "      <td>6.2</td>\n",
       "      <td>63.9</td>\n",
       "      <td>1.4</td>\n",
       "      <td>3.5</td>\n",
       "      <td>7102</td>\n",
       "      <td>0</td>\n",
       "    </tr>\n",
       "    <tr>\n",
       "      <th>4</th>\n",
       "      <td>2018-01-05</td>\n",
       "      <td>NaN</td>\n",
       "      <td>-3.0</td>\n",
       "      <td>1.6</td>\n",
       "      <td>-5.6</td>\n",
       "      <td>51.0</td>\n",
       "      <td>35.0</td>\n",
       "      <td>48.4</td>\n",
       "      <td>8.2</td>\n",
       "      <td>84.5</td>\n",
       "      <td>1.7</td>\n",
       "      <td>3.6</td>\n",
       "      <td>7705</td>\n",
       "      <td>0</td>\n",
       "    </tr>\n",
       "    <tr>\n",
       "      <th>...</th>\n",
       "      <td>...</td>\n",
       "      <td>...</td>\n",
       "      <td>...</td>\n",
       "      <td>...</td>\n",
       "      <td>...</td>\n",
       "      <td>...</td>\n",
       "      <td>...</td>\n",
       "      <td>...</td>\n",
       "      <td>...</td>\n",
       "      <td>...</td>\n",
       "      <td>...</td>\n",
       "      <td>...</td>\n",
       "      <td>...</td>\n",
       "      <td>...</td>\n",
       "    </tr>\n",
       "    <tr>\n",
       "      <th>1091</th>\n",
       "      <td>2020-12-27</td>\n",
       "      <td>0.0</td>\n",
       "      <td>5.8</td>\n",
       "      <td>10.0</td>\n",
       "      <td>1.4</td>\n",
       "      <td>70.0</td>\n",
       "      <td>42.0</td>\n",
       "      <td>62.9</td>\n",
       "      <td>5.9</td>\n",
       "      <td>61.5</td>\n",
       "      <td>1.8</td>\n",
       "      <td>2.8</td>\n",
       "      <td>37103</td>\n",
       "      <td>1</td>\n",
       "    </tr>\n",
       "    <tr>\n",
       "      <th>1092</th>\n",
       "      <td>2020-12-28</td>\n",
       "      <td>1.3</td>\n",
       "      <td>6.7</td>\n",
       "      <td>11.4</td>\n",
       "      <td>4.2</td>\n",
       "      <td>66.0</td>\n",
       "      <td>44.0</td>\n",
       "      <td>72.1</td>\n",
       "      <td>8.0</td>\n",
       "      <td>83.3</td>\n",
       "      <td>1.4</td>\n",
       "      <td>3.1</td>\n",
       "      <td>46912</td>\n",
       "      <td>0</td>\n",
       "    </tr>\n",
       "    <tr>\n",
       "      <th>1093</th>\n",
       "      <td>2020-12-29</td>\n",
       "      <td>0.2</td>\n",
       "      <td>0.1</td>\n",
       "      <td>4.3</td>\n",
       "      <td>-6.2</td>\n",
       "      <td>69.0</td>\n",
       "      <td>46.0</td>\n",
       "      <td>70.8</td>\n",
       "      <td>0.0</td>\n",
       "      <td>0.0</td>\n",
       "      <td>2.9</td>\n",
       "      <td>6.1</td>\n",
       "      <td>35747</td>\n",
       "      <td>0</td>\n",
       "    </tr>\n",
       "    <tr>\n",
       "      <th>1094</th>\n",
       "      <td>2020-12-30</td>\n",
       "      <td>NaN</td>\n",
       "      <td>-10.9</td>\n",
       "      <td>-6.2</td>\n",
       "      <td>-12.9</td>\n",
       "      <td>39.0</td>\n",
       "      <td>15.0</td>\n",
       "      <td>55.5</td>\n",
       "      <td>8.3</td>\n",
       "      <td>86.5</td>\n",
       "      <td>4.1</td>\n",
       "      <td>6.2</td>\n",
       "      <td>22488</td>\n",
       "      <td>0</td>\n",
       "    </tr>\n",
       "    <tr>\n",
       "      <th>1095</th>\n",
       "      <td>2020-12-31</td>\n",
       "      <td>0.0</td>\n",
       "      <td>-8.9</td>\n",
       "      <td>-5.0</td>\n",
       "      <td>-12.9</td>\n",
       "      <td>28.0</td>\n",
       "      <td>12.0</td>\n",
       "      <td>53.9</td>\n",
       "      <td>6.0</td>\n",
       "      <td>62.5</td>\n",
       "      <td>2.4</td>\n",
       "      <td>4.2</td>\n",
       "      <td>24535</td>\n",
       "      <td>0</td>\n",
       "    </tr>\n",
       "  </tbody>\n",
       "</table>\n",
       "<p>1096 rows × 14 columns</p>\n",
       "</div>"
      ],
      "text/plain": [
       "            date  precipitation  temp_mean  temp_highest  temp_lowest  PM10  \\\n",
       "0     2018-01-01            NaN       -1.3           3.8         -5.1  34.0   \n",
       "1     2018-01-02            NaN       -1.8           1.8         -4.3  36.0   \n",
       "2     2018-01-03            NaN       -4.7          -0.4         -7.1  31.0   \n",
       "3     2018-01-04            NaN       -4.7          -0.7         -8.7  39.0   \n",
       "4     2018-01-05            NaN       -3.0           1.6         -5.6  51.0   \n",
       "...          ...            ...        ...           ...          ...   ...   \n",
       "1091  2020-12-27            0.0        5.8          10.0          1.4  70.0   \n",
       "1092  2020-12-28            1.3        6.7          11.4          4.2  66.0   \n",
       "1093  2020-12-29            0.2        0.1           4.3         -6.2  69.0   \n",
       "1094  2020-12-30            NaN      -10.9          -6.2        -12.9  39.0   \n",
       "1095  2020-12-31            0.0       -8.9          -5.0        -12.9  28.0   \n",
       "\n",
       "      PM2.5  humidity  sunshine_sum  sunshine_rate  wind_mean  wind_max  \\\n",
       "0      17.0      39.1           8.3           86.5        1.4       3.8   \n",
       "1      22.0      42.0           7.9           82.3        1.8       4.9   \n",
       "2      19.0      42.3           8.6           88.7        2.2       3.5   \n",
       "3      24.0      43.0           6.2           63.9        1.4       3.5   \n",
       "4      35.0      48.4           8.2           84.5        1.7       3.6   \n",
       "...     ...       ...           ...            ...        ...       ...   \n",
       "1091   42.0      62.9           5.9           61.5        1.8       2.8   \n",
       "1092   44.0      72.1           8.0           83.3        1.4       3.1   \n",
       "1093   46.0      70.8           0.0            0.0        2.9       6.1   \n",
       "1094   15.0      55.5           8.3           86.5        4.1       6.2   \n",
       "1095   12.0      53.9           6.0           62.5        2.4       4.2   \n",
       "\n",
       "      rental  days_of_week  \n",
       "0       4950             0  \n",
       "1       7136             0  \n",
       "2       7156             0  \n",
       "3       7102             0  \n",
       "4       7705             0  \n",
       "...      ...           ...  \n",
       "1091   37103             1  \n",
       "1092   46912             0  \n",
       "1093   35747             0  \n",
       "1094   22488             0  \n",
       "1095   24535             0  \n",
       "\n",
       "[1096 rows x 14 columns]"
      ]
     },
     "execution_count": 6,
     "metadata": {},
     "output_type": "execute_result"
    }
   ],
   "source": [
    "# Appended New Col \"days of week\"\n",
    "new_df['days_of_week'] = df_week\n",
    "new_df"
   ]
  },
  {
   "cell_type": "markdown",
   "metadata": {},
   "source": [
    "코드공유에서 가져온 Year / Month / Day 구분"
   ]
  },
  {
   "cell_type": "code",
   "execution_count": 7,
   "metadata": {},
   "outputs": [],
   "source": [
    "year = []\n",
    "month = []\n",
    "day = [] \n",
    "\n",
    "for date in new_df[\"date\"] :\n",
    "    y = date.split('-')[0]\n",
    "    m = date.split('-')[1]\n",
    "    d = date.split('-')[2]\n",
    "    \n",
    "    year.append(y)\n",
    "    month.append(m)\n",
    "    day.append(d)\n",
    "\n",
    "new_df[\"year\"] = year \n",
    "new_df[\"month\"] = month \n",
    "new_df[\"day\"] = day"
   ]
  },
  {
   "cell_type": "code",
   "execution_count": 8,
   "metadata": {},
   "outputs": [
    {
     "data": {
      "text/html": [
       "<div>\n",
       "<style scoped>\n",
       "    .dataframe tbody tr th:only-of-type {\n",
       "        vertical-align: middle;\n",
       "    }\n",
       "\n",
       "    .dataframe tbody tr th {\n",
       "        vertical-align: top;\n",
       "    }\n",
       "\n",
       "    .dataframe thead th {\n",
       "        text-align: right;\n",
       "    }\n",
       "</style>\n",
       "<table border=\"1\" class=\"dataframe\">\n",
       "  <thead>\n",
       "    <tr style=\"text-align: right;\">\n",
       "      <th></th>\n",
       "      <th>date</th>\n",
       "      <th>precipitation</th>\n",
       "      <th>temp_mean</th>\n",
       "      <th>temp_highest</th>\n",
       "      <th>temp_lowest</th>\n",
       "      <th>PM10</th>\n",
       "      <th>PM2.5</th>\n",
       "      <th>humidity</th>\n",
       "      <th>sunshine_sum</th>\n",
       "      <th>sunshine_rate</th>\n",
       "      <th>wind_mean</th>\n",
       "      <th>wind_max</th>\n",
       "      <th>rental</th>\n",
       "      <th>days_of_week</th>\n",
       "      <th>year</th>\n",
       "      <th>month</th>\n",
       "      <th>day</th>\n",
       "    </tr>\n",
       "  </thead>\n",
       "  <tbody>\n",
       "    <tr>\n",
       "      <th>0</th>\n",
       "      <td>2018-01-01</td>\n",
       "      <td>NaN</td>\n",
       "      <td>-1.3</td>\n",
       "      <td>3.8</td>\n",
       "      <td>-5.1</td>\n",
       "      <td>34.0</td>\n",
       "      <td>17.0</td>\n",
       "      <td>39.1</td>\n",
       "      <td>8.3</td>\n",
       "      <td>86.5</td>\n",
       "      <td>1.4</td>\n",
       "      <td>3.8</td>\n",
       "      <td>4950</td>\n",
       "      <td>0</td>\n",
       "      <td>2018</td>\n",
       "      <td>01</td>\n",
       "      <td>01</td>\n",
       "    </tr>\n",
       "    <tr>\n",
       "      <th>1</th>\n",
       "      <td>2018-01-02</td>\n",
       "      <td>NaN</td>\n",
       "      <td>-1.8</td>\n",
       "      <td>1.8</td>\n",
       "      <td>-4.3</td>\n",
       "      <td>36.0</td>\n",
       "      <td>22.0</td>\n",
       "      <td>42.0</td>\n",
       "      <td>7.9</td>\n",
       "      <td>82.3</td>\n",
       "      <td>1.8</td>\n",
       "      <td>4.9</td>\n",
       "      <td>7136</td>\n",
       "      <td>0</td>\n",
       "      <td>2018</td>\n",
       "      <td>01</td>\n",
       "      <td>02</td>\n",
       "    </tr>\n",
       "    <tr>\n",
       "      <th>2</th>\n",
       "      <td>2018-01-03</td>\n",
       "      <td>NaN</td>\n",
       "      <td>-4.7</td>\n",
       "      <td>-0.4</td>\n",
       "      <td>-7.1</td>\n",
       "      <td>31.0</td>\n",
       "      <td>19.0</td>\n",
       "      <td>42.3</td>\n",
       "      <td>8.6</td>\n",
       "      <td>88.7</td>\n",
       "      <td>2.2</td>\n",
       "      <td>3.5</td>\n",
       "      <td>7156</td>\n",
       "      <td>0</td>\n",
       "      <td>2018</td>\n",
       "      <td>01</td>\n",
       "      <td>03</td>\n",
       "    </tr>\n",
       "    <tr>\n",
       "      <th>3</th>\n",
       "      <td>2018-01-04</td>\n",
       "      <td>NaN</td>\n",
       "      <td>-4.7</td>\n",
       "      <td>-0.7</td>\n",
       "      <td>-8.7</td>\n",
       "      <td>39.0</td>\n",
       "      <td>24.0</td>\n",
       "      <td>43.0</td>\n",
       "      <td>6.2</td>\n",
       "      <td>63.9</td>\n",
       "      <td>1.4</td>\n",
       "      <td>3.5</td>\n",
       "      <td>7102</td>\n",
       "      <td>0</td>\n",
       "      <td>2018</td>\n",
       "      <td>01</td>\n",
       "      <td>04</td>\n",
       "    </tr>\n",
       "    <tr>\n",
       "      <th>4</th>\n",
       "      <td>2018-01-05</td>\n",
       "      <td>NaN</td>\n",
       "      <td>-3.0</td>\n",
       "      <td>1.6</td>\n",
       "      <td>-5.6</td>\n",
       "      <td>51.0</td>\n",
       "      <td>35.0</td>\n",
       "      <td>48.4</td>\n",
       "      <td>8.2</td>\n",
       "      <td>84.5</td>\n",
       "      <td>1.7</td>\n",
       "      <td>3.6</td>\n",
       "      <td>7705</td>\n",
       "      <td>0</td>\n",
       "      <td>2018</td>\n",
       "      <td>01</td>\n",
       "      <td>05</td>\n",
       "    </tr>\n",
       "    <tr>\n",
       "      <th>...</th>\n",
       "      <td>...</td>\n",
       "      <td>...</td>\n",
       "      <td>...</td>\n",
       "      <td>...</td>\n",
       "      <td>...</td>\n",
       "      <td>...</td>\n",
       "      <td>...</td>\n",
       "      <td>...</td>\n",
       "      <td>...</td>\n",
       "      <td>...</td>\n",
       "      <td>...</td>\n",
       "      <td>...</td>\n",
       "      <td>...</td>\n",
       "      <td>...</td>\n",
       "      <td>...</td>\n",
       "      <td>...</td>\n",
       "      <td>...</td>\n",
       "    </tr>\n",
       "    <tr>\n",
       "      <th>1091</th>\n",
       "      <td>2020-12-27</td>\n",
       "      <td>0.0</td>\n",
       "      <td>5.8</td>\n",
       "      <td>10.0</td>\n",
       "      <td>1.4</td>\n",
       "      <td>70.0</td>\n",
       "      <td>42.0</td>\n",
       "      <td>62.9</td>\n",
       "      <td>5.9</td>\n",
       "      <td>61.5</td>\n",
       "      <td>1.8</td>\n",
       "      <td>2.8</td>\n",
       "      <td>37103</td>\n",
       "      <td>1</td>\n",
       "      <td>2020</td>\n",
       "      <td>12</td>\n",
       "      <td>27</td>\n",
       "    </tr>\n",
       "    <tr>\n",
       "      <th>1092</th>\n",
       "      <td>2020-12-28</td>\n",
       "      <td>1.3</td>\n",
       "      <td>6.7</td>\n",
       "      <td>11.4</td>\n",
       "      <td>4.2</td>\n",
       "      <td>66.0</td>\n",
       "      <td>44.0</td>\n",
       "      <td>72.1</td>\n",
       "      <td>8.0</td>\n",
       "      <td>83.3</td>\n",
       "      <td>1.4</td>\n",
       "      <td>3.1</td>\n",
       "      <td>46912</td>\n",
       "      <td>0</td>\n",
       "      <td>2020</td>\n",
       "      <td>12</td>\n",
       "      <td>28</td>\n",
       "    </tr>\n",
       "    <tr>\n",
       "      <th>1093</th>\n",
       "      <td>2020-12-29</td>\n",
       "      <td>0.2</td>\n",
       "      <td>0.1</td>\n",
       "      <td>4.3</td>\n",
       "      <td>-6.2</td>\n",
       "      <td>69.0</td>\n",
       "      <td>46.0</td>\n",
       "      <td>70.8</td>\n",
       "      <td>0.0</td>\n",
       "      <td>0.0</td>\n",
       "      <td>2.9</td>\n",
       "      <td>6.1</td>\n",
       "      <td>35747</td>\n",
       "      <td>0</td>\n",
       "      <td>2020</td>\n",
       "      <td>12</td>\n",
       "      <td>29</td>\n",
       "    </tr>\n",
       "    <tr>\n",
       "      <th>1094</th>\n",
       "      <td>2020-12-30</td>\n",
       "      <td>NaN</td>\n",
       "      <td>-10.9</td>\n",
       "      <td>-6.2</td>\n",
       "      <td>-12.9</td>\n",
       "      <td>39.0</td>\n",
       "      <td>15.0</td>\n",
       "      <td>55.5</td>\n",
       "      <td>8.3</td>\n",
       "      <td>86.5</td>\n",
       "      <td>4.1</td>\n",
       "      <td>6.2</td>\n",
       "      <td>22488</td>\n",
       "      <td>0</td>\n",
       "      <td>2020</td>\n",
       "      <td>12</td>\n",
       "      <td>30</td>\n",
       "    </tr>\n",
       "    <tr>\n",
       "      <th>1095</th>\n",
       "      <td>2020-12-31</td>\n",
       "      <td>0.0</td>\n",
       "      <td>-8.9</td>\n",
       "      <td>-5.0</td>\n",
       "      <td>-12.9</td>\n",
       "      <td>28.0</td>\n",
       "      <td>12.0</td>\n",
       "      <td>53.9</td>\n",
       "      <td>6.0</td>\n",
       "      <td>62.5</td>\n",
       "      <td>2.4</td>\n",
       "      <td>4.2</td>\n",
       "      <td>24535</td>\n",
       "      <td>0</td>\n",
       "      <td>2020</td>\n",
       "      <td>12</td>\n",
       "      <td>31</td>\n",
       "    </tr>\n",
       "  </tbody>\n",
       "</table>\n",
       "<p>1096 rows × 17 columns</p>\n",
       "</div>"
      ],
      "text/plain": [
       "            date  precipitation  temp_mean  temp_highest  temp_lowest  PM10  \\\n",
       "0     2018-01-01            NaN       -1.3           3.8         -5.1  34.0   \n",
       "1     2018-01-02            NaN       -1.8           1.8         -4.3  36.0   \n",
       "2     2018-01-03            NaN       -4.7          -0.4         -7.1  31.0   \n",
       "3     2018-01-04            NaN       -4.7          -0.7         -8.7  39.0   \n",
       "4     2018-01-05            NaN       -3.0           1.6         -5.6  51.0   \n",
       "...          ...            ...        ...           ...          ...   ...   \n",
       "1091  2020-12-27            0.0        5.8          10.0          1.4  70.0   \n",
       "1092  2020-12-28            1.3        6.7          11.4          4.2  66.0   \n",
       "1093  2020-12-29            0.2        0.1           4.3         -6.2  69.0   \n",
       "1094  2020-12-30            NaN      -10.9          -6.2        -12.9  39.0   \n",
       "1095  2020-12-31            0.0       -8.9          -5.0        -12.9  28.0   \n",
       "\n",
       "      PM2.5  humidity  sunshine_sum  sunshine_rate  wind_mean  wind_max  \\\n",
       "0      17.0      39.1           8.3           86.5        1.4       3.8   \n",
       "1      22.0      42.0           7.9           82.3        1.8       4.9   \n",
       "2      19.0      42.3           8.6           88.7        2.2       3.5   \n",
       "3      24.0      43.0           6.2           63.9        1.4       3.5   \n",
       "4      35.0      48.4           8.2           84.5        1.7       3.6   \n",
       "...     ...       ...           ...            ...        ...       ...   \n",
       "1091   42.0      62.9           5.9           61.5        1.8       2.8   \n",
       "1092   44.0      72.1           8.0           83.3        1.4       3.1   \n",
       "1093   46.0      70.8           0.0            0.0        2.9       6.1   \n",
       "1094   15.0      55.5           8.3           86.5        4.1       6.2   \n",
       "1095   12.0      53.9           6.0           62.5        2.4       4.2   \n",
       "\n",
       "      rental  days_of_week  year month day  \n",
       "0       4950             0  2018    01  01  \n",
       "1       7136             0  2018    01  02  \n",
       "2       7156             0  2018    01  03  \n",
       "3       7102             0  2018    01  04  \n",
       "4       7705             0  2018    01  05  \n",
       "...      ...           ...   ...   ...  ..  \n",
       "1091   37103             1  2020    12  27  \n",
       "1092   46912             0  2020    12  28  \n",
       "1093   35747             0  2020    12  29  \n",
       "1094   22488             0  2020    12  30  \n",
       "1095   24535             0  2020    12  31  \n",
       "\n",
       "[1096 rows x 17 columns]"
      ]
     },
     "execution_count": 8,
     "metadata": {},
     "output_type": "execute_result"
    }
   ],
   "source": [
    "new_df"
   ]
  },
  {
   "cell_type": "markdown",
   "metadata": {},
   "source": [
    "Sunshine_rate을 이용하여 Sunshine_sum의 NaN을 선형 회귀로 구하기"
   ]
  },
  {
   "cell_type": "code",
   "execution_count": 9,
   "metadata": {},
   "outputs": [
    {
     "name": "stdout",
     "output_type": "stream",
     "text": [
      "Int64Index([17, 25, 45, 187, 604], dtype='int64')\n"
     ]
    }
   ],
   "source": [
    "SS_list_Nan= new_df['sunshine_sum'][new_df['sunshine_sum'].isnull()].index\n",
    "print(SS_list_Nan)"
   ]
  },
  {
   "cell_type": "code",
   "execution_count": 10,
   "metadata": {},
   "outputs": [
    {
     "data": {
      "text/plain": [
       "array([[0.],\n",
       "       [0.],\n",
       "       [0.],\n",
       "       [0.],\n",
       "       [0.]])"
      ]
     },
     "execution_count": 10,
     "metadata": {},
     "output_type": "execute_result"
    }
   ],
   "source": [
    "new_df['sunshine_rate'].loc[SS_list_Nan].values.reshape(-1,1) \n",
    "# 사실 train 데이터에서는 sunshine_sum이 Nan인 날은 전부 sunshine_rate가 0이라 걍 0으로 채워도 될거같음\n",
    "# 그리고 test 데이터는 sunshine_sum Nan이 하나밖에없어서 큰 영향을 안줄듯\n",
    "# 근데 이미 다 작성해놔서 걍 안지우고 넣어둠 ㅎㅎ.."
   ]
  },
  {
   "cell_type": "code",
   "execution_count": 11,
   "metadata": {},
   "outputs": [
    {
     "name": "stdout",
     "output_type": "stream",
     "text": [
      "               sunshine_rate  sunshine_sum\n",
      "sunshine_rate       1.000000      0.958364\n",
      "sunshine_sum        0.958364      1.000000\n"
     ]
    },
    {
     "data": {
      "text/plain": [
       "[<matplotlib.lines.Line2D at 0x1e5290649d0>]"
      ]
     },
     "execution_count": 11,
     "metadata": {},
     "output_type": "execute_result"
    },
    {
     "data": {
      "image/png": "[encoded data removed]",
      "text/plain": [
       "<Figure size 432x288 with 1 Axes>"
      ]
     },
     "metadata": {
      "needs_background": "light"
     },
     "output_type": "display_data"
    }
   ],
   "source": [
    "print(new_df[['sunshine_rate', 'sunshine_sum']].corr(method='pearson')) # Pearson Correlation\n",
    "\n",
    "a = new_df['sunshine_sum'].dropna()\n",
    "b = new_df['sunshine_rate'].drop(SS_list_Nan)\n",
    "a.isnull().sum()\n",
    "b.isnull().sum()\n",
    "\n",
    "plt.plot(a,b, 'o')"
   ]
  },
  {
   "cell_type": "code",
   "execution_count": 12,
   "metadata": {},
   "outputs": [],
   "source": [
    "czvx = new_df[['month','precipitation']].dropna()"
   ]
  },
  {
   "cell_type": "code",
   "execution_count": 13,
   "metadata": {},
   "outputs": [
    {
     "name": "stdout",
     "output_type": "stream",
     "text": [
      "               precipitation\n",
      "precipitation            1.0\n"
     ]
    }
   ],
   "source": [
    "print(czvx.corr(method = 'pearson'))"
   ]
  },
  {
   "cell_type": "code",
   "execution_count": 14,
   "metadata": {},
   "outputs": [
    {
     "data": {
      "text/plain": [
       "Int64Index([17, 25, 45, 187, 604], dtype='int64')"
      ]
     },
     "execution_count": 14,
     "metadata": {},
     "output_type": "execute_result"
    }
   ],
   "source": [
    "SS_list_Nan "
   ]
  },
  {
   "cell_type": "code",
   "execution_count": 15,
   "metadata": {},
   "outputs": [],
   "source": [
    "a = a.values.reshape(-1,1) # a is sum\n",
    "b = b.values.reshape(-1,1) # b is rate"
   ]
  },
  {
   "cell_type": "code",
   "execution_count": 16,
   "metadata": {},
   "outputs": [
    {
     "name": "stdout",
     "output_type": "stream",
     "text": [
      "[[8.3]\n",
      " [7.9]\n",
      " [8.6]\n",
      " ...\n",
      " [0. ]\n",
      " [8.3]\n",
      " [6. ]]\n",
      "[[86.5]\n",
      " [82.3]\n",
      " [88.7]\n",
      " ...\n",
      " [ 0. ]\n",
      " [86.5]\n",
      " [62.5]]\n"
     ]
    },
    {
     "data": {
      "text/plain": [
       "17     0.0\n",
       "25     0.0\n",
       "45     0.0\n",
       "187    0.0\n",
       "604    0.0\n",
       "Name: sunshine_rate, dtype: float64"
      ]
     },
     "execution_count": 16,
     "metadata": {},
     "output_type": "execute_result"
    }
   ],
   "source": [
    "print(a)\n",
    "print(b)\n",
    "new_df['sunshine_rate'].loc[SS_list_Nan] "
   ]
  },
  {
   "cell_type": "code",
   "execution_count": 17,
   "metadata": {},
   "outputs": [
    {
     "data": {
      "text/plain": [
       "0.18831290943413048"
      ]
     },
     "execution_count": 17,
     "metadata": {},
     "output_type": "execute_result"
    }
   ],
   "source": [
    "line_fitter = LinearRegression() # 선형회귀 이용하여 SS의 Nan 값 예측\n",
    "\n",
    "line_fitter.fit(b, a) # predict a(sum) through b(rate) \n",
    "SS_sol_Nan = line_fitter.predict(new_df['sunshine_rate'].loc[SS_list_Nan].values.reshape(-1,1))\n",
    "SS_sol_Nan = list(SS_sol_Nan)\n",
    "float(SS_sol_Nan[1])"
   ]
  },
  {
   "cell_type": "code",
   "execution_count": 18,
   "metadata": {},
   "outputs": [
    {
     "name": "stdout",
     "output_type": "stream",
     "text": [
      "17     0.0\n",
      "25     0.0\n",
      "45     0.0\n",
      "187    0.0\n",
      "604    0.0\n",
      "Name: sunshine_sum, dtype: float64\n",
      "0.18831290943413048\n"
     ]
    },
    {
     "name": "stderr",
     "output_type": "stream",
     "text": [
      "C:\\Users\\Admin\\AppData\\Local\\Temp\\ipykernel_17388\\1531518169.py:11: SettingWithCopyWarning: \n",
      "A value is trying to be set on a copy of a slice from a DataFrame\n",
      "\n",
      "See the caveats in the documentation: https://pandas.pydata.org/pandas-docs/stable/user_guide/indexing.html#returning-a-view-versus-a-copy\n",
      "  new_df['sunshine_sum'].loc[i] = float(SS_sol_Nan[j])\n"
     ]
    }
   ],
   "source": [
    "new_df[\"PM10\"] = new_df[\"PM10\"].fillna(new_df[\"PM10\"].mean())\n",
    "new_df[\"PM2.5\"] = new_df[\"PM2.5\"].fillna(new_df[\"PM2.5\"].mean())\n",
    "new_df[\"sunshine_sum\"] = new_df[\"sunshine_sum\"].fillna(0) # NaN값은  = 2  << 이런식으로 안들어가서\n",
    "# 일단 0으로 다 채운다음에 선형회귀로 구한 값 입력\n",
    "\n",
    "\n",
    "print(new_df['sunshine_sum'].loc[SS_list_Nan])\n",
    "print(float(SS_sol_Nan[1]))\n",
    "\n",
    "for i, j in zip(SS_list_Nan, range(0,5,1)):\n",
    "    new_df['sunshine_sum'].loc[i] = float(SS_sol_Nan[j])"
   ]
  },
  {
   "cell_type": "code",
   "execution_count": 19,
   "metadata": {},
   "outputs": [
    {
     "name": "stdout",
     "output_type": "stream",
     "text": [
      "17     0.188313\n",
      "25     0.188313\n",
      "45     0.188313\n",
      "187    0.188313\n",
      "604    0.188313\n",
      "Name: sunshine_sum, dtype: float64\n"
     ]
    }
   ],
   "source": [
    "print(new_df['sunshine_sum'].loc[SS_list_Nan])\n",
    "# 다 채움 근데 0으로 하는게 더 나을거같은 생각이 계속 듬"
   ]
  },
  {
   "cell_type": "markdown",
   "metadata": {},
   "source": [
    "Predict Precipitation Using Linear Regression"
   ]
  },
  {
   "cell_type": "code",
   "execution_count": 20,
   "metadata": {},
   "outputs": [
    {
     "name": "stdout",
     "output_type": "stream",
     "text": [
      "Int64Index([   0,    1,    2,    3,    4,    5,    6,   10,   13,   16,\n",
      "            ...\n",
      "            1079, 1080, 1083, 1084, 1085, 1086, 1088, 1089, 1090, 1094],\n",
      "           dtype='int64', length=678)\n"
     ]
    }
   ],
   "source": [
    "PP_list_Nan= new_df['precipitation'][new_df['precipitation'].isnull()].index\n",
    "print(PP_list_Nan)\n",
    "\n",
    "pp = new_df['precipitation'].dropna()\n",
    "srss = new_df[['sunshine_rate','sunshine_sum','month']].drop(PP_list_Nan)"
   ]
  },
  {
   "cell_type": "code",
   "execution_count": 21,
   "metadata": {},
   "outputs": [
    {
     "data": {
      "text/plain": [
       "MinMaxScaler()"
      ]
     },
     "execution_count": 21,
     "metadata": {},
     "output_type": "execute_result"
    }
   ],
   "source": [
    "scaler = MinMaxScaler()\n",
    "\n",
    "scaler.fit(srss)"
   ]
  },
  {
   "cell_type": "code",
   "execution_count": 22,
   "metadata": {},
   "outputs": [],
   "source": [
    "scaled_srss = scaler.transform(srss)"
   ]
  },
  {
   "cell_type": "code",
   "execution_count": 23,
   "metadata": {},
   "outputs": [
    {
     "data": {
      "text/plain": [
       "LinearRegression()"
      ]
     },
     "execution_count": 23,
     "metadata": {},
     "output_type": "execute_result"
    }
   ],
   "source": [
    "line_fitter.fit(scaled_srss, pp)"
   ]
  },
  {
   "cell_type": "code",
   "execution_count": 24,
   "metadata": {},
   "outputs": [
    {
     "name": "stderr",
     "output_type": "stream",
     "text": [
      "c:\\Users\\Admin\\anaconda3\\envs\\lftest\\lib\\site-packages\\sklearn\\base.py:450: UserWarning: X does not have valid feature names, but MinMaxScaler was fitted with feature names\n",
      "  warnings.warn(\n"
     ]
    }
   ],
   "source": [
    "#pp_sol_Nan = line_fitter.predict(scaler.transform(new_df[['sunshine_rate','sunshine_sum','month']].loc[PP_list_Nan].values))\n",
    "pp_sol_Nan = line_fitter.predict(scaler.transform(new_df[['sunshine_rate','sunshine_sum','month']].loc[PP_list_Nan].values))\n",
    "\n",
    "\n",
    "pp_sol_Nan = list(pp_sol_Nan)\n",
    "\n",
    "# very very weird\n",
    "# Minus precipitation? >> Evaporation?"
   ]
  },
  {
   "cell_type": "code",
   "execution_count": 25,
   "metadata": {},
   "outputs": [
    {
     "data": {
      "text/plain": [
       "7       0.9\n",
       "8       0.5\n",
       "9       0.3\n",
       "11      0.0\n",
       "12      0.4\n",
       "       ... \n",
       "1087    0.0\n",
       "1091    0.0\n",
       "1092    1.3\n",
       "1093    0.2\n",
       "1095    0.0\n",
       "Name: precipitation, Length: 418, dtype: float64"
      ]
     },
     "execution_count": 25,
     "metadata": {},
     "output_type": "execute_result"
    }
   ],
   "source": [
    "pp"
   ]
  },
  {
   "cell_type": "code",
   "execution_count": 26,
   "metadata": {},
   "outputs": [
    {
     "name": "stderr",
     "output_type": "stream",
     "text": [
      "C:\\Users\\Admin\\AppData\\Local\\Temp\\ipykernel_17388\\4144090948.py:4: SettingWithCopyWarning: \n",
      "A value is trying to be set on a copy of a slice from a DataFrame\n",
      "\n",
      "See the caveats in the documentation: https://pandas.pydata.org/pandas-docs/stable/user_guide/indexing.html#returning-a-view-versus-a-copy\n",
      "  new_df['precipitation'].loc[i] = float(pp_sol_Nan[j])\n"
     ]
    },
    {
     "data": {
      "text/html": [
       "<div>\n",
       "<style scoped>\n",
       "    .dataframe tbody tr th:only-of-type {\n",
       "        vertical-align: middle;\n",
       "    }\n",
       "\n",
       "    .dataframe tbody tr th {\n",
       "        vertical-align: top;\n",
       "    }\n",
       "\n",
       "    .dataframe thead th {\n",
       "        text-align: right;\n",
       "    }\n",
       "</style>\n",
       "<table border=\"1\" class=\"dataframe\">\n",
       "  <thead>\n",
       "    <tr style=\"text-align: right;\">\n",
       "      <th></th>\n",
       "      <th>date</th>\n",
       "      <th>precipitation</th>\n",
       "      <th>temp_mean</th>\n",
       "      <th>temp_highest</th>\n",
       "      <th>temp_lowest</th>\n",
       "      <th>PM10</th>\n",
       "      <th>PM2.5</th>\n",
       "      <th>humidity</th>\n",
       "      <th>sunshine_sum</th>\n",
       "      <th>sunshine_rate</th>\n",
       "      <th>wind_mean</th>\n",
       "      <th>wind_max</th>\n",
       "      <th>rental</th>\n",
       "      <th>days_of_week</th>\n",
       "      <th>year</th>\n",
       "      <th>month</th>\n",
       "      <th>day</th>\n",
       "    </tr>\n",
       "  </thead>\n",
       "  <tbody>\n",
       "    <tr>\n",
       "      <th>0</th>\n",
       "      <td>2018-01-01</td>\n",
       "      <td>-4.382438</td>\n",
       "      <td>-1.3</td>\n",
       "      <td>3.8</td>\n",
       "      <td>-5.1</td>\n",
       "      <td>34.0</td>\n",
       "      <td>17.0</td>\n",
       "      <td>39.1</td>\n",
       "      <td>8.3</td>\n",
       "      <td>86.5</td>\n",
       "      <td>1.4</td>\n",
       "      <td>3.8</td>\n",
       "      <td>4950</td>\n",
       "      <td>0</td>\n",
       "      <td>2018</td>\n",
       "      <td>01</td>\n",
       "      <td>01</td>\n",
       "    </tr>\n",
       "    <tr>\n",
       "      <th>1</th>\n",
       "      <td>2018-01-02</td>\n",
       "      <td>-3.498658</td>\n",
       "      <td>-1.8</td>\n",
       "      <td>1.8</td>\n",
       "      <td>-4.3</td>\n",
       "      <td>36.0</td>\n",
       "      <td>22.0</td>\n",
       "      <td>42.0</td>\n",
       "      <td>7.9</td>\n",
       "      <td>82.3</td>\n",
       "      <td>1.8</td>\n",
       "      <td>4.9</td>\n",
       "      <td>7136</td>\n",
       "      <td>0</td>\n",
       "      <td>2018</td>\n",
       "      <td>01</td>\n",
       "      <td>02</td>\n",
       "    </tr>\n",
       "    <tr>\n",
       "      <th>2</th>\n",
       "      <td>2018-01-03</td>\n",
       "      <td>-4.894634</td>\n",
       "      <td>-4.7</td>\n",
       "      <td>-0.4</td>\n",
       "      <td>-7.1</td>\n",
       "      <td>31.0</td>\n",
       "      <td>19.0</td>\n",
       "      <td>42.3</td>\n",
       "      <td>8.6</td>\n",
       "      <td>88.7</td>\n",
       "      <td>2.2</td>\n",
       "      <td>3.5</td>\n",
       "      <td>7156</td>\n",
       "      <td>0</td>\n",
       "      <td>2018</td>\n",
       "      <td>01</td>\n",
       "      <td>03</td>\n",
       "    </tr>\n",
       "    <tr>\n",
       "      <th>3</th>\n",
       "      <td>2018-01-04</td>\n",
       "      <td>0.344620</td>\n",
       "      <td>-4.7</td>\n",
       "      <td>-0.7</td>\n",
       "      <td>-8.7</td>\n",
       "      <td>39.0</td>\n",
       "      <td>24.0</td>\n",
       "      <td>43.0</td>\n",
       "      <td>6.2</td>\n",
       "      <td>63.9</td>\n",
       "      <td>1.4</td>\n",
       "      <td>3.5</td>\n",
       "      <td>7102</td>\n",
       "      <td>0</td>\n",
       "      <td>2018</td>\n",
       "      <td>01</td>\n",
       "      <td>04</td>\n",
       "    </tr>\n",
       "    <tr>\n",
       "      <th>4</th>\n",
       "      <td>2018-01-05</td>\n",
       "      <td>-4.010854</td>\n",
       "      <td>-3.0</td>\n",
       "      <td>1.6</td>\n",
       "      <td>-5.6</td>\n",
       "      <td>51.0</td>\n",
       "      <td>35.0</td>\n",
       "      <td>48.4</td>\n",
       "      <td>8.2</td>\n",
       "      <td>84.5</td>\n",
       "      <td>1.7</td>\n",
       "      <td>3.6</td>\n",
       "      <td>7705</td>\n",
       "      <td>0</td>\n",
       "      <td>2018</td>\n",
       "      <td>01</td>\n",
       "      <td>05</td>\n",
       "    </tr>\n",
       "    <tr>\n",
       "      <th>...</th>\n",
       "      <td>...</td>\n",
       "      <td>...</td>\n",
       "      <td>...</td>\n",
       "      <td>...</td>\n",
       "      <td>...</td>\n",
       "      <td>...</td>\n",
       "      <td>...</td>\n",
       "      <td>...</td>\n",
       "      <td>...</td>\n",
       "      <td>...</td>\n",
       "      <td>...</td>\n",
       "      <td>...</td>\n",
       "      <td>...</td>\n",
       "      <td>...</td>\n",
       "      <td>...</td>\n",
       "      <td>...</td>\n",
       "      <td>...</td>\n",
       "    </tr>\n",
       "    <tr>\n",
       "      <th>1091</th>\n",
       "      <td>2020-12-27</td>\n",
       "      <td>0.000000</td>\n",
       "      <td>5.8</td>\n",
       "      <td>10.0</td>\n",
       "      <td>1.4</td>\n",
       "      <td>70.0</td>\n",
       "      <td>42.0</td>\n",
       "      <td>62.9</td>\n",
       "      <td>5.9</td>\n",
       "      <td>61.5</td>\n",
       "      <td>1.8</td>\n",
       "      <td>2.8</td>\n",
       "      <td>37103</td>\n",
       "      <td>1</td>\n",
       "      <td>2020</td>\n",
       "      <td>12</td>\n",
       "      <td>27</td>\n",
       "    </tr>\n",
       "    <tr>\n",
       "      <th>1092</th>\n",
       "      <td>2020-12-28</td>\n",
       "      <td>1.300000</td>\n",
       "      <td>6.7</td>\n",
       "      <td>11.4</td>\n",
       "      <td>4.2</td>\n",
       "      <td>66.0</td>\n",
       "      <td>44.0</td>\n",
       "      <td>72.1</td>\n",
       "      <td>8.0</td>\n",
       "      <td>83.3</td>\n",
       "      <td>1.4</td>\n",
       "      <td>3.1</td>\n",
       "      <td>46912</td>\n",
       "      <td>0</td>\n",
       "      <td>2020</td>\n",
       "      <td>12</td>\n",
       "      <td>28</td>\n",
       "    </tr>\n",
       "    <tr>\n",
       "      <th>1093</th>\n",
       "      <td>2020-12-29</td>\n",
       "      <td>0.200000</td>\n",
       "      <td>0.1</td>\n",
       "      <td>4.3</td>\n",
       "      <td>-6.2</td>\n",
       "      <td>69.0</td>\n",
       "      <td>46.0</td>\n",
       "      <td>70.8</td>\n",
       "      <td>0.0</td>\n",
       "      <td>0.0</td>\n",
       "      <td>2.9</td>\n",
       "      <td>6.1</td>\n",
       "      <td>35747</td>\n",
       "      <td>0</td>\n",
       "      <td>2020</td>\n",
       "      <td>12</td>\n",
       "      <td>29</td>\n",
       "    </tr>\n",
       "    <tr>\n",
       "      <th>1094</th>\n",
       "      <td>2020-12-30</td>\n",
       "      <td>-0.086944</td>\n",
       "      <td>-10.9</td>\n",
       "      <td>-6.2</td>\n",
       "      <td>-12.9</td>\n",
       "      <td>39.0</td>\n",
       "      <td>15.0</td>\n",
       "      <td>55.5</td>\n",
       "      <td>8.3</td>\n",
       "      <td>86.5</td>\n",
       "      <td>4.1</td>\n",
       "      <td>6.2</td>\n",
       "      <td>22488</td>\n",
       "      <td>0</td>\n",
       "      <td>2020</td>\n",
       "      <td>12</td>\n",
       "      <td>30</td>\n",
       "    </tr>\n",
       "    <tr>\n",
       "      <th>1095</th>\n",
       "      <td>2020-12-31</td>\n",
       "      <td>0.000000</td>\n",
       "      <td>-8.9</td>\n",
       "      <td>-5.0</td>\n",
       "      <td>-12.9</td>\n",
       "      <td>28.0</td>\n",
       "      <td>12.0</td>\n",
       "      <td>53.9</td>\n",
       "      <td>6.0</td>\n",
       "      <td>62.5</td>\n",
       "      <td>2.4</td>\n",
       "      <td>4.2</td>\n",
       "      <td>24535</td>\n",
       "      <td>0</td>\n",
       "      <td>2020</td>\n",
       "      <td>12</td>\n",
       "      <td>31</td>\n",
       "    </tr>\n",
       "  </tbody>\n",
       "</table>\n",
       "<p>1096 rows × 17 columns</p>\n",
       "</div>"
      ],
      "text/plain": [
       "            date  precipitation  temp_mean  temp_highest  temp_lowest  PM10  \\\n",
       "0     2018-01-01      -4.382438       -1.3           3.8         -5.1  34.0   \n",
       "1     2018-01-02      -3.498658       -1.8           1.8         -4.3  36.0   \n",
       "2     2018-01-03      -4.894634       -4.7          -0.4         -7.1  31.0   \n",
       "3     2018-01-04       0.344620       -4.7          -0.7         -8.7  39.0   \n",
       "4     2018-01-05      -4.010854       -3.0           1.6         -5.6  51.0   \n",
       "...          ...            ...        ...           ...          ...   ...   \n",
       "1091  2020-12-27       0.000000        5.8          10.0          1.4  70.0   \n",
       "1092  2020-12-28       1.300000        6.7          11.4          4.2  66.0   \n",
       "1093  2020-12-29       0.200000        0.1           4.3         -6.2  69.0   \n",
       "1094  2020-12-30      -0.086944      -10.9          -6.2        -12.9  39.0   \n",
       "1095  2020-12-31       0.000000       -8.9          -5.0        -12.9  28.0   \n",
       "\n",
       "      PM2.5  humidity  sunshine_sum  sunshine_rate  wind_mean  wind_max  \\\n",
       "0      17.0      39.1           8.3           86.5        1.4       3.8   \n",
       "1      22.0      42.0           7.9           82.3        1.8       4.9   \n",
       "2      19.0      42.3           8.6           88.7        2.2       3.5   \n",
       "3      24.0      43.0           6.2           63.9        1.4       3.5   \n",
       "4      35.0      48.4           8.2           84.5        1.7       3.6   \n",
       "...     ...       ...           ...            ...        ...       ...   \n",
       "1091   42.0      62.9           5.9           61.5        1.8       2.8   \n",
       "1092   44.0      72.1           8.0           83.3        1.4       3.1   \n",
       "1093   46.0      70.8           0.0            0.0        2.9       6.1   \n",
       "1094   15.0      55.5           8.3           86.5        4.1       6.2   \n",
       "1095   12.0      53.9           6.0           62.5        2.4       4.2   \n",
       "\n",
       "      rental  days_of_week  year month day  \n",
       "0       4950             0  2018    01  01  \n",
       "1       7136             0  2018    01  02  \n",
       "2       7156             0  2018    01  03  \n",
       "3       7102             0  2018    01  04  \n",
       "4       7705             0  2018    01  05  \n",
       "...      ...           ...   ...   ...  ..  \n",
       "1091   37103             1  2020    12  27  \n",
       "1092   46912             0  2020    12  28  \n",
       "1093   35747             0  2020    12  29  \n",
       "1094   22488             0  2020    12  30  \n",
       "1095   24535             0  2020    12  31  \n",
       "\n",
       "[1096 rows x 17 columns]"
      ]
     },
     "execution_count": 26,
     "metadata": {},
     "output_type": "execute_result"
    }
   ],
   "source": [
    "new_df['precipitation'].fillna(0)\n",
    "\n",
    "for i, j in zip(PP_list_Nan, range(0,len(pp_sol_Nan),1)):\n",
    "    new_df['precipitation'].loc[i] = float(pp_sol_Nan[j])\n",
    "new_df"
   ]
  },
  {
   "cell_type": "code",
   "execution_count": 27,
   "metadata": {},
   "outputs": [
    {
     "data": {
      "text/plain": [
       "date             0\n",
       "precipitation    0\n",
       "temp_mean        0\n",
       "temp_highest     0\n",
       "temp_lowest      0\n",
       "PM10             0\n",
       "PM2.5            0\n",
       "humidity         0\n",
       "sunshine_sum     0\n",
       "sunshine_rate    0\n",
       "wind_mean        0\n",
       "wind_max         0\n",
       "rental           0\n",
       "days_of_week     0\n",
       "year             0\n",
       "month            0\n",
       "day              0\n",
       "dtype: int64"
      ]
     },
     "execution_count": 27,
     "metadata": {},
     "output_type": "execute_result"
    }
   ],
   "source": [
    "new_df.isnull().sum()"
   ]
  },
  {
   "cell_type": "code",
   "execution_count": 28,
   "metadata": {},
   "outputs": [
    {
     "name": "stdout",
     "output_type": "stream",
     "text": [
      "date               0\n",
      "precipitation    205\n",
      "temp_mean          0\n",
      "temp_highest       0\n",
      "temp_lowest        0\n",
      "PM10               0\n",
      "PM2.5              0\n",
      "humidity           0\n",
      "sunshine_sum       1\n",
      "sunshine_rate      0\n",
      "wind_mean          0\n",
      "wind_max           0\n",
      "dtype: int64\n"
     ]
    }
   ],
   "source": [
    "print(test_df.isnull().sum())"
   ]
  },
  {
   "cell_type": "code",
   "execution_count": 29,
   "metadata": {},
   "outputs": [],
   "source": [
    "x = new_df.drop(['date','rental'], axis=1)\n",
    "y = new_df['rental']\n",
    "\n",
    "test_x = test_df.drop(['date'], axis = 1)"
   ]
  },
  {
   "cell_type": "code",
   "execution_count": 30,
   "metadata": {},
   "outputs": [],
   "source": [
    "def NMAE(true, pred):\n",
    "    score = np.mean(np.abs(true-pred) / true)\n",
    "    return score"
   ]
  },
  {
   "cell_type": "code",
   "execution_count": 31,
   "metadata": {},
   "outputs": [],
   "source": [
    "nmae_gbr = []\n",
    "nmae_rf = []\n",
    "\n",
    "for i in range(0, 100, 1):\n",
    "\n",
    "    train_x, val_x, train_y, val_y = train_test_split(x, y, test_size = 0.25, shuffle=True)\n",
    "\n",
    "    reg = GradientBoostingRegressor()\n",
    "    reg.fit(train_x, train_y)\n",
    "    val_pred = reg.predict(val_x)\n",
    "    nmae_gbr.append(NMAE(val_y, val_pred))\n",
    "\n",
    "\n",
    "    regRF = RandomForestRegressor()\n",
    "    regRF.fit(train_x, train_y)\n",
    "    val_pred = regRF.predict(val_x)\n",
    "    nmae_rf.append(NMAE(val_y, val_pred))\n",
    "    "
   ]
  },
  {
   "cell_type": "code",
   "execution_count": 41,
   "metadata": {},
   "outputs": [
    {
     "name": "stdout",
     "output_type": "stream",
     "text": [
      "0.1912683145792405\n",
      "0.22816405907243031\n"
     ]
    },
    {
     "data": {
      "image/png": "[encoded data removed]",
      "text/plain": [
       "<Figure size 432x288 with 1 Axes>"
      ]
     },
     "metadata": {
      "needs_background": "light"
     },
     "output_type": "display_data"
    }
   ],
   "source": [
    "plt.plot(range(0,100,1), nmae_gbr, label = 'GBR_precip')\n",
    "plt.plot(range(0,100,1), nmae_rf, label = 'RF_precip')\n",
    "plt.legend()\n",
    "\n",
    "gbr_precip = sum(nmae_gbr)/len(nmae_gbr)\n",
    "rf_precip = sum(nmae_rf)/len(nmae_gbr)\n",
    "\n",
    "print(gbr_precip)\n",
    "print(rf_precip)"
   ]
  },
  {
   "cell_type": "code",
   "execution_count": null,
   "metadata": {},
   "outputs": [],
   "source": []
  },
  {
   "cell_type": "code",
   "execution_count": null,
   "metadata": {},
   "outputs": [],
   "source": []
  },
  {
   "cell_type": "code",
   "execution_count": null,
   "metadata": {},
   "outputs": [],
   "source": []
  },
  {
   "cell_type": "code",
   "execution_count": 33,
   "metadata": {},
   "outputs": [],
   "source": [
    "x1 = new_df.drop(['precipitation','date','rental'], axis=1)\n",
    "y1 = new_df['rental']"
   ]
  },
  {
   "cell_type": "code",
   "execution_count": 34,
   "metadata": {},
   "outputs": [],
   "source": [
    "nmae_gbr = []\n",
    "nmae_rf = []\n",
    "\n",
    "for i in range(0, 100, 1):\n",
    "   \n",
    "    train_x, val_x, train_y, val_y = train_test_split(x, y, test_size = 0.25, shuffle=True)\n",
    "\n",
    "    reg = GradientBoostingRegressor()\n",
    "    reg.fit(train_x, train_y)\n",
    "    val_pred = reg.predict(val_x)\n",
    "    nmae_gbr.append(NMAE(val_y, val_pred))\n",
    "\n",
    "\n",
    "    regRF = RandomForestRegressor()\n",
    "    regRF.fit(train_x, train_y)\n",
    "    val_pred = regRF.predict(val_x)\n",
    "    nmae_rf.append(NMAE(val_y, val_pred))\n",
    "    "
   ]
  },
  {
   "cell_type": "code",
   "execution_count": 42,
   "metadata": {},
   "outputs": [
    {
     "name": "stdout",
     "output_type": "stream",
     "text": [
      "0.1912683145792405\n",
      "0.22816405907243031\n"
     ]
    },
    {
     "data": {
      "image/png": "[encoded data removed]",
      "text/plain": [
       "<Figure size 432x288 with 1 Axes>"
      ]
     },
     "metadata": {
      "needs_background": "light"
     },
     "output_type": "display_data"
    }
   ],
   "source": [
    "plt.plot(range(0,100,1), nmae_gbr, label = 'GBR_non_precip')\n",
    "plt.plot(range(0,100,1), nmae_rf, label = 'RF_non_precip')\n",
    "plt.legend()\n",
    "\n",
    "gbr_non_precip = sum(nmae_gbr)/len(nmae_gbr)\n",
    "rf_non_precip = sum(nmae_rf)/len(nmae_gbr)\n",
    "\n",
    "print(gbr_non_precip)\n",
    "print(rf_non_precip)"
   ]
  },
  {
   "cell_type": "code",
   "execution_count": 36,
   "metadata": {},
   "outputs": [
    {
     "name": "stdout",
     "output_type": "stream",
     "text": [
      "0.1912683145792405\n",
      "0.22816405907243031\n"
     ]
    }
   ],
   "source": [
    "print(gbr_non_precip)\n",
    "print(rf_non_precip)"
   ]
  },
  {
   "cell_type": "code",
   "execution_count": 37,
   "metadata": {},
   "outputs": [
    {
     "name": "stdout",
     "output_type": "stream",
     "text": [
      "0.18835500508341155\n",
      "0.22293289994033821\n"
     ]
    }
   ],
   "source": [
    "print(gbr_precip)\n",
    "print(rf_precip)"
   ]
  },
  {
   "cell_type": "code",
   "execution_count": 45,
   "metadata": {},
   "outputs": [
    {
     "data": {
      "text/plain": [
       "0.1617070832417007"
      ]
     },
     "execution_count": 45,
     "metadata": {},
     "output_type": "execute_result"
    }
   ],
   "source": [
    "(rf_precip - gbr_precip)/rf_precip"
   ]
  },
  {
   "cell_type": "code",
   "execution_count": null,
   "metadata": {},
   "outputs": [],
   "source": []
  }
 ],
 "metadata": {
  "kernelspec": {
   "display_name": "Python 3.10.4 ('lftest')",
   "language": "python",
   "name": "python3"
  },
  "language_info": {
   "codemirror_mode": {
    "name": "ipython",
    "version": 3
   },
   "file_extension": ".py",
   "mimetype": "text/x-python",
   "name": "python",
   "nbconvert_exporter": "python",
   "pygments_lexer": "ipython3",
   "version": "3.10.4"
  },
  "orig_nbformat": 4,
  "vscode": {
   "interpreter": {
    "hash": "8ffb198bb7cebc8a652939ac07b28802de13ce4b22d89c3afd3bd3a1bb7233d3"
   }
  }
 },
 "nbformat": 4,
 "nbformat_minor": 2
}
