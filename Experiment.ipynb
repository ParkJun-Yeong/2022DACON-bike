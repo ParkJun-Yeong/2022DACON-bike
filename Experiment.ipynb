{
 "cells": [
  {
   "cell_type": "code",
   "execution_count": 6,
   "id": "5c5e9c4e",
   "metadata": {},
   "outputs": [],
   "source": [
    "import pandas as pd\n",
    "import numpy as np\n",
    "import pickle\n",
    "import matplotlib.pyplot as plt\n",
    "import warnings"
   ]
  },
  {
   "cell_type": "code",
   "execution_count": 19,
   "id": "4ca665b8",
   "metadata": {},
   "outputs": [],
   "source": [
    "\"\"\"\n",
    "데이터 로드\n",
    "\"\"\"\n",
    "train = pd.read_csv(\"./dataset/train.csv\")\n",
    "test = pd.read_csv(\"./dataset/test.csv\")\n",
    "submit = pd.read_csv(\"./dataset/raw/sample_submission.csv\")\n",
    "test_label = pd.read_csv(\"./dataset/raw/test_label.csv\")\n",
    "\n",
    "with open(\"./dataset/candidates_pre.pkl\", 'rb') as f:\n",
    "            cand_pre = pickle.load(f)\n",
    "\n",
    "with open(\"./dataset/candidates_test_pre.pkl\", 'rb') as f:\n",
    "            cand_pre_test = pickle.load(f)"
   ]
  },
  {
   "cell_type": "code",
   "execution_count": 14,
   "id": "0c9520fd",
   "metadata": {
    "collapsed": true
   },
   "outputs": [
    {
     "name": "stdout",
     "output_type": "stream",
     "text": [
      "*train NaN: \n",
      " precipitation    678\n",
      "temp_mean          0\n",
      "temp_highest       0\n",
      "temp_lowest        0\n",
      "PM10               0\n",
      "PM2.5              0\n",
      "humidity           0\n",
      "sunshine_sum       0\n",
      "sunshine_rate      0\n",
      "wind_mean          0\n",
      "wind_max           0\n",
      "rental             0\n",
      "year               0\n",
      "month              0\n",
      "day                0\n",
      "dtype: int64\n",
      "\n",
      "*test NaN: \n",
      " precipitation    205\n",
      "temp_mean          0\n",
      "temp_highest       0\n",
      "temp_lowest        0\n",
      "PM10               0\n",
      "PM2.5              0\n",
      "humidity           0\n",
      "sunshine_sum       0\n",
      "sunshine_rate      0\n",
      "wind_mean          0\n",
      "wind_max           0\n",
      "year               0\n",
      "month              0\n",
      "day                0\n",
      "dtype: int64\n"
     ]
    }
   ],
   "source": [
    "print(\"*train NaN: \\n\", train[train.columns].isnull().sum())\n",
    "print()\n",
    "print(\"*test NaN: \\n\", test[test.columns].isnull().sum())"
   ]
  },
  {
   "cell_type": "code",
   "execution_count": 18,
   "id": "f7702e4a",
   "metadata": {},
   "outputs": [],
   "source": [
    "# 벤치마크 함수\n",
    "def NMAE(true, pred):\n",
    "    score = np.mean(np.abs(true-pred) / true)\n",
    "    return score"
   ]
  },
  {
   "cell_type": "code",
   "execution_count": 144,
   "id": "a67186dc",
   "metadata": {},
   "outputs": [],
   "source": [
    "\"\"\"\n",
    "Naive 데이터\n",
    "\"\"\"\n",
    "columns = train.columns.difference(['rental', 'dayofweek'])\n",
    "# ['precipitation', 'temp_mean', 'temp_highest', 'temp_lowest', 'PM10', 'PM2.5', \n",
    "# 'humidity', 'sunshine_sum', 'sunshine_rate', 'wind_mean',\n",
    "# 'wind_max', 'year', 'month', 'day', 'holiday']\n",
    "\n",
    "# 강수량 결측\n",
    "isnull = train['precipitation'].isnull()\n",
    "isnull_test = test['precipitation'].isnull()\n",
    "\n",
    "# Raw X, Y set: 학습 데이터, 라벨 분리 (강수량 결측치)\n",
    "X = np.array(train[columns].values.tolist())\n",
    "Y = np.array(train['rental'].values.tolist())\n",
    "X_test = np.array(test[columns].values.tolist())\n",
    "Y_test = np.array(test_label['rental'].values.tolist())\n",
    "\n",
    "isnan = np.isnan(X)\n",
    "isnan_test = np.isnan(X_test)"
   ]
  },
  {
   "cell_type": "code",
   "execution_count": 59,
   "id": "55f1fedb",
   "metadata": {},
   "outputs": [
    {
     "data": {
      "text/plain": [
       "<AxesSubplot:>"
      ]
     },
     "execution_count": 59,
     "metadata": {},
     "output_type": "execute_result"
    },
    {
     "data": {
      "image/png": "[encoded data removed]",
      "text/plain": [
       "<Figure size 432x288 with 1 Axes>"
      ]
     },
     "metadata": {
      "needs_background": "light"
     },
     "output_type": "display_data"
    }
   ],
   "source": [
    "# outliers\n",
    "fig, ax = plt.subplots()\n",
    "train.boxplot(column='PM2.5')"
   ]
  },
  {
   "cell_type": "markdown",
   "id": "bb5f01f5",
   "metadata": {},
   "source": [
    "# Random Forest\n",
    "## Naive (all features)"
   ]
  },
  {
   "cell_type": "code",
   "execution_count": 7,
   "id": "c37d4140",
   "metadata": {},
   "outputs": [],
   "source": [
    "from sklearn.model_selection import GridSearchCV\n",
    "from sklearn.ensemble import RandomForestRegressor"
   ]
  },
  {
   "cell_type": "code",
   "execution_count": 41,
   "id": "a0d7321a",
   "metadata": {},
   "outputs": [
    {
     "name": "stdout",
     "output_type": "stream",
     "text": [
      "====[ poly ]====\n",
      "Train score:  0.07788365740853963\n",
      "Test score:  0.350953823606859\n",
      "\n",
      "====[ exp ]====\n",
      "Train score:  0.07638887974772736\n",
      "Test score:  0.3363775408453516\n",
      "\n",
      "====[ mean ]====\n",
      "Train score:  0.07844363081617267\n",
      "Test score:  0.3419955417791246\n",
      "\n"
     ]
    }
   ],
   "source": [
    "# 강수량\n",
    "for i in ['poly', 'exp', 'mean']:\n",
    "    X[isnan] = cand_pre[i]   # 결측치\n",
    "    X_test[isnan_test] = cand_pre_test[i]\n",
    "    \n",
    "    reg = RandomForestRegressor()\n",
    "    reg.fit(X, Y)\n",
    "    pred = reg.predict(X)\n",
    "    pred_test = reg.predict(X_test)\n",
    "    \n",
    "    score = NMAE(Y, pred)\n",
    "    score_test = NMAE(Y_test, pred_test)\n",
    "    print(\"====[\", i, \"]====\")\n",
    "    print(\"Train score: \", score)\n",
    "    print(\"Test score: \", score_test)\n",
    "    print()"
   ]
  },
  {
   "cell_type": "markdown",
   "id": "9db39281",
   "metadata": {},
   "source": []
  },
  {
   "cell_type": "code",
   "execution_count": null,
   "id": "4c959444",
   "metadata": {},
   "outputs": [],
   "source": [
    "columns = train.columns.difference[['']]\n"
   ]
  },
  {
   "cell_type": "markdown",
   "id": "9aa3fec8",
   "metadata": {},
   "source": [
    "# GBR\n",
    "## Naive (all features)"
   ]
  },
  {
   "cell_type": "code",
   "execution_count": 42,
   "id": "7aa98315",
   "metadata": {},
   "outputs": [],
   "source": [
    "from sklearn.ensemble import GradientBoostingRegressor"
   ]
  },
  {
   "cell_type": "code",
   "execution_count": 43,
   "id": "8fc6b3c9",
   "metadata": {},
   "outputs": [
    {
     "name": "stdout",
     "output_type": "stream",
     "text": [
      "====[ poly ]====\n",
      "Train score:  0.13430575868158018\n",
      "Test score:  0.3438537614773148\n",
      "\n",
      "====[ exp ]====\n",
      "Train score:  0.12759336902897508\n",
      "Test score:  0.3185081682960035\n",
      "\n",
      "====[ mean ]====\n",
      "Train score:  0.13870417707713692\n",
      "Test score:  0.3044796885349188\n",
      "\n"
     ]
    }
   ],
   "source": [
    "# 강수량\n",
    "for i in ['poly', 'exp', 'mean']:\n",
    "    X[isnan] = cand_pre[i]   # 결측치\n",
    "    X_test[isnan_test] = cand_pre_test[i]\n",
    "    \n",
    "    reg = GradientBoostingRegressor()\n",
    "    reg.fit(X, Y)\n",
    "    pred = reg.predict(X)\n",
    "    pred_test = reg.predict(X_test)\n",
    "    \n",
    "    score = NMAE(Y, pred)\n",
    "    score_test = NMAE(Y_test, pred_test)\n",
    "    print(\"====[\", i, \"]====\")\n",
    "    print(\"Train score: \", score)\n",
    "    print(\"Test score: \", score_test)\n",
    "    print()"
   ]
  },
  {
   "cell_type": "code",
   "execution_count": 48,
   "id": "c6ed6add",
   "metadata": {},
   "outputs": [
    {
     "ename": "AttributeError",
     "evalue": "'XGBRegressor' object has no attribute 'feature_importance'",
     "output_type": "error",
     "traceback": [
      "\u001b[1;31m---------------------------------------------------------------------------\u001b[0m",
      "\u001b[1;31mAttributeError\u001b[0m                            Traceback (most recent call last)",
      "\u001b[1;32m~\\AppData\\Local\\Temp/ipykernel_7836/1032733318.py\u001b[0m in \u001b[0;36m<module>\u001b[1;34m\u001b[0m\n\u001b[1;32m----> 1\u001b[1;33m \u001b[0mreg\u001b[0m\u001b[1;33m.\u001b[0m\u001b[0mfeature_importance\u001b[0m\u001b[1;33m\u001b[0m\u001b[1;33m\u001b[0m\u001b[0m\n\u001b[0m",
      "\u001b[1;31mAttributeError\u001b[0m: 'XGBRegressor' object has no attribute 'feature_importance'"
     ]
    }
   ],
   "source": []
  },
  {
   "cell_type": "markdown",
   "id": "55a57940",
   "metadata": {},
   "source": [
    "# XGBoost\n",
    "## Naive (all features)"
   ]
  },
  {
   "cell_type": "code",
   "execution_count": 234,
   "id": "898a47c1",
   "metadata": {},
   "outputs": [],
   "source": [
    "from xgboost import XGBRegressor"
   ]
  },
  {
   "cell_type": "code",
   "execution_count": 47,
   "id": "bd2eeb5a",
   "metadata": {},
   "outputs": [
    {
     "name": "stdout",
     "output_type": "stream",
     "text": [
      "====[ poly ]====\n",
      "Train score:  0.030906091123068493\n",
      "Test score:  0.33904842858565154\n",
      "\n",
      "====[ exp ]====\n",
      "Train score:  0.028299904086053866\n",
      "Test score:  0.3310486358989212\n",
      "\n",
      "====[ mean ]====\n",
      "Train score:  0.030212210379118948\n",
      "Test score:  0.3357736627409557\n",
      "\n"
     ]
    }
   ],
   "source": [
    "# 강수량\n",
    "for i in ['poly', 'exp', 'mean']:\n",
    "    X[isnan] = cand_pre[i]   # 결측치\n",
    "    X_test[isnan_test] = cand_pre_test[i]\n",
    "    \n",
    "    reg = XGBRegressor(n_estimators=100, learning_rate=0.08, gamma=0, subsample=0.75, colsample_bytree=1, max_depth=7)\n",
    "    reg.fit(X, Y)\n",
    "    pred = reg.predict(X)\n",
    "    pred_test = reg.predict(X_test)\n",
    "    \n",
    "    score = NMAE(Y, pred)\n",
    "    score_test = NMAE(Y_test, pred_test)\n",
    "    print(\"====[\", i, \"]====\")\n",
    "    print(\"Train score: \", score)\n",
    "    print(\"Test score: \", score_test)\n",
    "    print()"
   ]
  },
  {
   "cell_type": "code",
   "execution_count": 49,
   "id": "91d5eb84",
   "metadata": {},
   "outputs": [
    {
     "data": {
      "text/plain": [
       "<AxesSubplot:title={'center':'Feature importance'}, xlabel='F score', ylabel='Features'>"
      ]
     },
     "execution_count": 49,
     "metadata": {},
     "output_type": "execute_result"
    },
    {
     "data": {
      "image/png": "[encoded data removed]",
      "text/plain": [
       "<Figure size 432x288 with 1 Axes>"
      ]
     },
     "metadata": {
      "needs_background": "light"
     },
     "output_type": "display_data"
    }
   ],
   "source": [
    "xgboost.plot_importance(reg)"
   ]
  },
  {
   "cell_type": "markdown",
   "id": "0520e774",
   "metadata": {},
   "source": [
    "## Feature importance 상위 6개"
   ]
  },
  {
   "cell_type": "code",
   "execution_count": 69,
   "id": "07b36fc8",
   "metadata": {},
   "outputs": [],
   "source": [
    "columns = [train.columns[0], train.columns[1], train.columns[6], train.columns[2], train.columns[4], train.columns[7]]\n",
    "x = np.array(train[columns].values.tolist())\n",
    "x_test = np.array(test[columns].values.tolist())\n",
    "\n",
    "nan = np.isnan(x)\n",
    "nan_test = np.isnan(x_test)"
   ]
  },
  {
   "cell_type": "code",
   "execution_count": 70,
   "id": "553e8bf4",
   "metadata": {},
   "outputs": [
    {
     "name": "stdout",
     "output_type": "stream",
     "text": [
      "====[ poly ]====\n",
      "Train score:  0.13864509130313543\n",
      "Test score:  0.45996365223717645\n",
      "\n",
      "====[ exp ]====\n",
      "Train score:  0.09502172938404253\n",
      "Test score:  0.39462231737492987\n",
      "\n",
      "====[ mean ]====\n",
      "Train score:  0.10098135748501658\n",
      "Test score:  0.4354861416576763\n",
      "\n"
     ]
    }
   ],
   "source": [
    "# 강수량\n",
    "for i in ['poly', 'exp', 'mean']:\n",
    "    x[nan] = cand_pre[i]   # 결측치\n",
    "    x_test[nan_test] = cand_pre_test[i]\n",
    "    \n",
    "    reg = xgboost.XGBRegressor(n_estimators=100, learning_rate=0.08, gamma=0, subsample=0.75, colsample_bytree=1, max_depth=7)\n",
    "    reg.fit(x, Y)\n",
    "    pred = reg.predict(x)\n",
    "    pred_test = reg.predict(x_test)\n",
    "    \n",
    "    score = NMAE(Y, pred)\n",
    "    score_test = NMAE(Y_test, pred_test)\n",
    "    print(\"====[\", i, \"]====\")\n",
    "    print(\"Train score: \", score)\n",
    "    print(\"Test score: \", score_test)\n",
    "    print()\n",
    "    \n",
    "# 결과가 더 안좋음."
   ]
  },
  {
   "cell_type": "markdown",
   "id": "6e959839",
   "metadata": {},
   "source": [
    "# Feature Engineering\n",
    "- train, test에 변화 있으면 위로 올라가서 X,X_train 업데이트 해주기\n",
    "## holiday"
   ]
  },
  {
   "cell_type": "code",
   "execution_count": 100,
   "id": "4e323eea",
   "metadata": {},
   "outputs": [],
   "source": [
    "# Train\n",
    "from datetime import datetime\n",
    "date = train['year'].map(str)+'-'+train['month'].map(str)+'-'+train['day'].map(str)\n",
    "df = pd.DataFrame(columns=['holiday', 'dayofweek'])\n",
    "\n",
    "dateDict = {0:'mon', 1:'tue', 2:'wed', 3:'thu', 4:'fri', 5:'sat', 6:'sun'}\n",
    "\n",
    "for d in date:\n",
    "    datetime_date = datetime.strptime(d, '%Y-%m-%d')\n",
    "    week = datetime_date.weekday()\n",
    "    if (week == 5) | (week == 6):\n",
    "        holi = 1\n",
    "    else:\n",
    "        holi = 0\n",
    "    dow = dateDict[week]\n",
    "    \n",
    "    df = df.append({'holiday': holi, 'dayofweek': dow}, ignore_index=True)\n",
    "    "
   ]
  },
  {
   "cell_type": "code",
   "execution_count": 106,
   "id": "4c501699",
   "metadata": {},
   "outputs": [],
   "source": [
    "train['holiday'] = df['holiday']\n",
    "train['dayofweek'] = df['dayofweek']"
   ]
  },
  {
   "cell_type": "code",
   "execution_count": 107,
   "id": "5893a697",
   "metadata": {},
   "outputs": [],
   "source": [
    "# Test\n",
    "from datetime import datetime\n",
    "date = test['year'].map(str)+'-'+test['month'].map(str)+'-'+test['day'].map(str)\n",
    "df = pd.DataFrame(columns=['holiday', 'dayofweek'])\n",
    "\n",
    "dateDict = {0:'mon', 1:'tue', 2:'wed', 3:'thu', 4:'fri', 5:'sat', 6:'sun'}\n",
    "\n",
    "for d in date:\n",
    "    datetime_date = datetime.strptime(d, '%Y-%m-%d')\n",
    "    week = datetime_date.weekday()\n",
    "    if (week == 5) | (week == 6):\n",
    "        holi = 1\n",
    "    else:\n",
    "        holi = 0\n",
    "    dow = dateDict[week]\n",
    "    \n",
    "    df = df.append({'holiday': holi, 'dayofweek': dow}, ignore_index=True)\n",
    "    "
   ]
  },
  {
   "cell_type": "code",
   "execution_count": 119,
   "id": "fc091253",
   "metadata": {},
   "outputs": [],
   "source": [
    "test['holiday'] = df['holiday'].map(int)\n",
    "test['dayofweek'] = df['dayofweek']"
   ]
  },
  {
   "cell_type": "markdown",
   "id": "54a0b75d",
   "metadata": {},
   "source": [
    "## trend\n",
    "- 2018\\~2019, 2019\\~2020년도 각 월별 증가량 추이\n",
    "- 추세선을 찾음 (아래는 statsmodel DeterministicProcess 설명)\n",
    "- Directly supports constants, time trends, and either seasonal dummies or fourier terms for a single cycle. Additional deterministic terms beyond the set that can be directly initialized through the constructor can be added."
   ]
  },
  {
   "cell_type": "code",
   "execution_count": 147,
   "id": "83fceec5",
   "metadata": {},
   "outputs": [],
   "source": [
    "from statsmodels.tsa.deterministic import DeterministicProcess\n",
    "from sklearn.linear_model import LinearRegression"
   ]
  },
  {
   "cell_type": "code",
   "execution_count": 255,
   "id": "4bc1769b",
   "metadata": {},
   "outputs": [
    {
     "name": "stdout",
     "output_type": "stream",
     "text": [
      "====[ poly ]====\n",
      "train NMAE:  0.007663365850092547\n",
      "train NMAE:  0.22254946916458843\n",
      "====[ exp ]====\n",
      "train NMAE:  0.005891663571993743\n",
      "train NMAE:  0.20282993193071824\n"
     ]
    },
    {
     "name": "stderr",
     "output_type": "stream",
     "text": [
      "C:\\Users\\mlpa\\anaconda3\\envs\\mac_torch_cpu\\lib\\site-packages\\pandas\\core\\indexing.py:1732: SettingWithCopyWarning: \n",
      "A value is trying to be set on a copy of a slice from a DataFrame\n",
      "\n",
      "See the caveats in the documentation: https://pandas.pydata.org/pandas-docs/stable/user_guide/indexing.html#returning-a-view-versus-a-copy\n",
      "  self._setitem_single_block(indexer, value, name)\n",
      "C:\\Users\\mlpa\\anaconda3\\envs\\mac_torch_cpu\\lib\\site-packages\\pandas\\core\\indexing.py:1732: SettingWithCopyWarning: \n",
      "A value is trying to be set on a copy of a slice from a DataFrame\n",
      "\n",
      "See the caveats in the documentation: https://pandas.pydata.org/pandas-docs/stable/user_guide/indexing.html#returning-a-view-versus-a-copy\n",
      "  self._setitem_single_block(indexer, value, name)\n"
     ]
    },
    {
     "name": "stdout",
     "output_type": "stream",
     "text": [
      "====[ mean ]====\n",
      "train NMAE:  0.006688559406616512\n",
      "train NMAE:  0.20026045356239405\n"
     ]
    },
    {
     "data": {
      "image/png": "[encoded data removed]",
      "text/plain": [
       "<Figure size 432x288 with 1 Axes>"
      ]
     },
     "metadata": {
      "needs_background": "light"
     },
     "output_type": "display_data"
    }
   ],
   "source": [
    "# XGBoost\n",
    "columns = train.columns.difference(['rental', 'dayofweek', 'sunshine_rate', 'PM10', 'PM2.5'])\n",
    "x = train[columns]\n",
    "y = train['rental']\n",
    "\n",
    "x_test = test[columns]\n",
    "y_test = test_label['rental']\n",
    "\n",
    "order = 1\n",
    "dp = DeterministicProcess(index=x.index, constant=True, order=order, drop=True)\n",
    "output = dp.in_sample()\n",
    "\n",
    "isnull = x['precipitation'].isnull()\n",
    "isnull_test = x_test['precipitation'].isnull()\n",
    "\n",
    "for i in ['poly', 'exp', 'mean']:\n",
    "    x['precipitation'].loc[isnull] = cand_pre[i]   # 결측치\n",
    "    x_test['precipitation'].loc[isnull_test] = cand_pre_test[i]\n",
    "\n",
    "    test_const = [1 for i in range(x_test.shape[0])]\n",
    "    test_trend = np.arange(output['trend'].max(), output['trend'].max()+x_test.shape[0])\n",
    "    \n",
    "    test_trend_squared = [i**2 for i in test_trend]\n",
    "    test_trend_cubed = [i**3 for i in test_trend]\n",
    "    test_trend_4 = [i**4 for i in test_trend]\n",
    "    test_trend_5 = [i**5 for i in test_trend]\n",
    "    test_trend_6 = [i**6 for i in test_trend]\n",
    "    output_test = pd.DataFrame([test_const, test_trend]).T\n",
    "    output_test.columns = ['const', 'trend']\n",
    "    output_test.index = x_test.index\n",
    "\n",
    "\n",
    "\n",
    "    lm = LinearRegression()\n",
    "    lm.fit(output, y)\n",
    "    \n",
    "    trend_train = lm.predict(output)\n",
    "    trend_test = lm.predict(output_test)\n",
    "    \n",
    "    plt.plot(y)\n",
    "    plt.plot(x.index, trend_train, 'r-')\n",
    "    y_delta = y / trend_train\n",
    "    \n",
    "    train_y_delta = np.array(y) - trend_train\n",
    "    test_y_delta = np.array(y_test) - trend_test\n",
    "\n",
    "    xgb= XGBRegressor()\n",
    "    xgb.fit(np.array(x), y_delta)\n",
    "\n",
    "    xgb_train = xgb.predict(np.array(x))\n",
    "    xgb_test = xgb.predict(x_test)\n",
    "    \n",
    "    print(\"====[\", i, \"]====\")\n",
    "    print(\"train NMAE: \", NMAE(np.array(y), xgb_train * trend_train))\n",
    "    print(\"train NMAE: \", NMAE(np.array(y_test), xgb_test * trend_test))\n"
   ]
  },
  {
   "cell_type": "code",
   "execution_count": 258,
   "id": "26e73793",
   "metadata": {},
   "outputs": [],
   "source": [
    "submit['rental'] = xgb_test * trend_test"
   ]
  },
  {
   "cell_type": "code",
   "execution_count": 260,
   "id": "233fb98e",
   "metadata": {},
   "outputs": [
    {
     "data": {
      "text/plain": [
       "0.20026045356239405"
      ]
     },
     "execution_count": 260,
     "metadata": {},
     "output_type": "execute_result"
    }
   ],
   "source": [
    "NMAE(np.array(y_test), xgb_test * trend_test)"
   ]
  },
  {
   "cell_type": "code",
   "execution_count": 261,
   "id": "458b3848",
   "metadata": {},
   "outputs": [],
   "source": [
    "submit.to_csv(\"./dataset/submit_trend_mean.csv\", sep=',', na_rep=\"NaN\", index=False)"
   ]
  },
  {
   "cell_type": "code",
   "execution_count": 224,
   "id": "e917b952",
   "metadata": {},
   "outputs": [
    {
     "data": {
      "text/plain": [
       "array([10842.40890799, 10937.46927968, 11032.45675145, ...,\n",
       "       71222.8805915 , 71238.33426439, 71253.71503736])"
      ]
     },
     "execution_count": 224,
     "metadata": {},
     "output_type": "execute_result"
    }
   ],
   "source": [
    "trend_train"
   ]
  },
  {
   "cell_type": "markdown",
   "id": "a51982a5",
   "metadata": {},
   "source": [
    "### GBR"
   ]
  },
  {
   "cell_type": "code",
   "execution_count": 265,
   "id": "9844cac8",
   "metadata": {},
   "outputs": [
    {
     "name": "stderr",
     "output_type": "stream",
     "text": [
      "C:\\Users\\mlpa\\anaconda3\\envs\\mac_torch_cpu\\lib\\site-packages\\pandas\\core\\indexing.py:1732: SettingWithCopyWarning: \n",
      "A value is trying to be set on a copy of a slice from a DataFrame\n",
      "\n",
      "See the caveats in the documentation: https://pandas.pydata.org/pandas-docs/stable/user_guide/indexing.html#returning-a-view-versus-a-copy\n",
      "  self._setitem_single_block(indexer, value, name)\n",
      "C:\\Users\\mlpa\\anaconda3\\envs\\mac_torch_cpu\\lib\\site-packages\\sklearn\\base.py:443: UserWarning: X has feature names, but GradientBoostingRegressor was fitted without feature names\n",
      "  warnings.warn(\n",
      "C:\\Users\\mlpa\\anaconda3\\envs\\mac_torch_cpu\\lib\\site-packages\\pandas\\core\\indexing.py:1732: SettingWithCopyWarning: \n",
      "A value is trying to be set on a copy of a slice from a DataFrame\n",
      "\n",
      "See the caveats in the documentation: https://pandas.pydata.org/pandas-docs/stable/user_guide/indexing.html#returning-a-view-versus-a-copy\n",
      "  self._setitem_single_block(indexer, value, name)\n",
      "C:\\Users\\mlpa\\anaconda3\\envs\\mac_torch_cpu\\lib\\site-packages\\sklearn\\base.py:443: UserWarning: X has feature names, but GradientBoostingRegressor was fitted without feature names\n",
      "  warnings.warn(\n"
     ]
    },
    {
     "name": "stdout",
     "output_type": "stream",
     "text": [
      "====[ poly ]====\n",
      "train NMAE:  0.1171891770060596\n",
      "test NMAE:  0.2163387549342699\n",
      "====[ exp ]====\n",
      "train NMAE:  0.11119345801255728\n",
      "test NMAE:  0.19890050651085234\n"
     ]
    },
    {
     "name": "stderr",
     "output_type": "stream",
     "text": [
      "C:\\Users\\mlpa\\anaconda3\\envs\\mac_torch_cpu\\lib\\site-packages\\pandas\\core\\indexing.py:1732: SettingWithCopyWarning: \n",
      "A value is trying to be set on a copy of a slice from a DataFrame\n",
      "\n",
      "See the caveats in the documentation: https://pandas.pydata.org/pandas-docs/stable/user_guide/indexing.html#returning-a-view-versus-a-copy\n",
      "  self._setitem_single_block(indexer, value, name)\n"
     ]
    },
    {
     "name": "stdout",
     "output_type": "stream",
     "text": [
      "====[ mean ]====\n",
      "train NMAE:  0.12015542700992472\n",
      "test NMAE:  0.20761408657037272\n"
     ]
    },
    {
     "name": "stderr",
     "output_type": "stream",
     "text": [
      "C:\\Users\\mlpa\\anaconda3\\envs\\mac_torch_cpu\\lib\\site-packages\\sklearn\\base.py:443: UserWarning: X has feature names, but GradientBoostingRegressor was fitted without feature names\n",
      "  warnings.warn(\n"
     ]
    },
    {
     "data": {
      "image/png": "[encoded data removed]",
      "text/plain": [
       "<Figure size 432x288 with 1 Axes>"
      ]
     },
     "metadata": {
      "needs_background": "light"
     },
     "output_type": "display_data"
    }
   ],
   "source": [
    "# GBR\n",
    "columns = train.columns.difference(['rental', 'dayofweek', 'sunshine_rate', 'PM10', 'PM2.5'])\n",
    "x = train[columns]\n",
    "y = train['rental']\n",
    "\n",
    "x_test = test[columns]\n",
    "y_test = test_label['rental']\n",
    "\n",
    "order = 1\n",
    "dp = DeterministicProcess(index=x.index, constant=True, order=order, drop=True)\n",
    "output = dp.in_sample()\n",
    "\n",
    "isnull = x['precipitation'].isnull()\n",
    "isnull_test = x_test['precipitation'].isnull()\n",
    "\n",
    "save = []\n",
    "for i in ['poly', 'exp', 'mean']:\n",
    "    x['precipitation'].loc[isnull] = cand_pre[i]   # 결측치\n",
    "    x_test['precipitation'].loc[isnull_test] = cand_pre_test[i]\n",
    "\n",
    "    test_const = [1 for i in range(x_test.shape[0])]\n",
    "    test_trend = np.arange(output['trend'].max(), output['trend'].max()+x_test.shape[0])\n",
    "    \n",
    "    test_trend_squared = [i**2 for i in test_trend]\n",
    "    test_trend_cubed = [i**3 for i in test_trend]\n",
    "    test_trend_4 = [i**4 for i in test_trend]\n",
    "    test_trend_5 = [i**5 for i in test_trend]\n",
    "    test_trend_6 = [i**6 for i in test_trend]\n",
    "    output_test = pd.DataFrame([test_const, test_trend]).T\n",
    "    output_test.columns = ['const', 'trend']\n",
    "    output_test.index = x_test.index\n",
    "\n",
    "\n",
    "\n",
    "    lm = LinearR egression()\n",
    "    lm.fit(output, y)\n",
    "    \n",
    "    trend_train = lm.predict(output)\n",
    "    trend_test = lm.predict(output_test)\n",
    "    \n",
    "    plt.plot(y)\n",
    "    plt.plot(x.index, trend_train, 'r-')\n",
    "    y_delta = y / trend_train\n",
    "    \n",
    "    train_y_delta = np.array(y) - trend_train\n",
    "    test_y_delta = np.array(y_test) - trend_test\n",
    "\n",
    "    xgb= GradientBoostingRegressor()\n",
    "    xgb.fit(np.array(x), y_delta)\n",
    "\n",
    "    xgb_train = xgb.predict(np.array(x))\n",
    "    xgb_test = xgb.predict(x_test)\n",
    "    \n",
    "    print(\"====[\", i, \"]====\")\n",
    "    print(\"train NMAE: \", NMAE(np.array(y), xgb_train * trend_train))\n",
    "    print(\"test NMAE: \", NMAE(np.array(y_test), xgb_test * trend_test))\n",
    "    \n",
    "    save.append(xgb_test * trend_test)\n"
   ]
  },
  {
   "cell_type": "code",
   "execution_count": 268,
   "id": "5ec38267",
   "metadata": {},
   "outputs": [],
   "source": [
    "submit['rental'] = save[1]\n",
    "NMAE(np.array(y_test), save[1])\n",
    "submit.to_csv(\"./dataset/submit_trend_mean_gbr.csv\", sep=',', na_rep=\"NaN\", index=False)"
   ]
  },
  {
   "cell_type": "markdown",
   "id": "8b57f577",
   "metadata": {},
   "source": [
    "### 추세 직접 계산"
   ]
  },
  {
   "cell_type": "code",
   "execution_count": 195,
   "id": "e6494a00",
   "metadata": {},
   "outputs": [],
   "source": [
    "\"\"\"\n",
    "추세 직접 계산\n",
    "\"\"\"\n",
    "train_2018 = train[train['year'] == 2018]\n",
    "train_2019 = train[train['year'] == 2019]\n",
    "train_2020 = train[train['year'] == 2020]\n",
    "s2018 = {}\n",
    "s2019 = {}\n",
    "s2020 = {}\n",
    "\n",
    "# 연도[월] = 해당연도 해당월 렌트량 합\n",
    "for i in range(1, 13):\n",
    "    s2018[i] = train_2018[train_2018['month'] == i]['rental'].values.sum()\n",
    "    s2019[i] = train_2019[train_2019['month'] == i]['rental'].values.sum()\n",
    "    s2020[i] = train_2020[train_2020['month'] == i]['rental'].values.sum()"
   ]
  },
  {
   "cell_type": "code",
   "execution_count": 196,
   "id": "a8dd085a",
   "metadata": {},
   "outputs": [
    {
     "ename": "IndexError",
     "evalue": "list assignment index out of range",
     "output_type": "error",
     "traceback": [
      "\u001b[1;31m---------------------------------------------------------------------------\u001b[0m",
      "\u001b[1;31mIndexError\u001b[0m                                Traceback (most recent call last)",
      "\u001b[1;32m~\\AppData\\Local\\Temp/ipykernel_7836/455181497.py\u001b[0m in \u001b[0;36m<module>\u001b[1;34m\u001b[0m\n\u001b[0;32m      5\u001b[0m \u001b[1;33m\u001b[0m\u001b[0m\n\u001b[0;32m      6\u001b[0m \u001b[1;32mfor\u001b[0m \u001b[0mi\u001b[0m \u001b[1;32min\u001b[0m \u001b[0mrange\u001b[0m\u001b[1;33m(\u001b[0m\u001b[1;36m1\u001b[0m\u001b[1;33m,\u001b[0m \u001b[1;36m13\u001b[0m\u001b[1;33m)\u001b[0m\u001b[1;33m:\u001b[0m\u001b[1;33m\u001b[0m\u001b[1;33m\u001b[0m\u001b[0m\n\u001b[1;32m----> 7\u001b[1;33m     \u001b[0md1819\u001b[0m\u001b[1;33m[\u001b[0m\u001b[0mi\u001b[0m\u001b[1;33m]\u001b[0m \u001b[1;33m=\u001b[0m \u001b[1;33m(\u001b[0m\u001b[0ms2019\u001b[0m\u001b[1;33m[\u001b[0m\u001b[0mi\u001b[0m\u001b[1;33m]\u001b[0m \u001b[1;33m-\u001b[0m \u001b[0ms2018\u001b[0m\u001b[1;33m[\u001b[0m\u001b[0mi\u001b[0m\u001b[1;33m]\u001b[0m\u001b[1;33m)\u001b[0m\u001b[1;33m/\u001b[0m\u001b[0ms2018\u001b[0m\u001b[1;33m[\u001b[0m\u001b[0mi\u001b[0m\u001b[1;33m]\u001b[0m\u001b[1;33m\u001b[0m\u001b[1;33m\u001b[0m\u001b[0m\n\u001b[0m\u001b[0;32m      8\u001b[0m     \u001b[0md1920\u001b[0m\u001b[1;33m[\u001b[0m\u001b[0mi\u001b[0m\u001b[1;33m]\u001b[0m \u001b[1;33m=\u001b[0m \u001b[1;33m(\u001b[0m\u001b[0ms2020\u001b[0m\u001b[1;33m[\u001b[0m\u001b[0mi\u001b[0m\u001b[1;33m]\u001b[0m \u001b[1;33m-\u001b[0m \u001b[0ms2019\u001b[0m\u001b[1;33m[\u001b[0m\u001b[0mi\u001b[0m\u001b[1;33m]\u001b[0m\u001b[1;33m)\u001b[0m\u001b[1;33m/\u001b[0m\u001b[0ms2019\u001b[0m\u001b[1;33m[\u001b[0m\u001b[0mi\u001b[0m\u001b[1;33m]\u001b[0m\u001b[1;33m\u001b[0m\u001b[1;33m\u001b[0m\u001b[0m\n\u001b[0;32m      9\u001b[0m     \u001b[0md1820\u001b[0m\u001b[1;33m[\u001b[0m\u001b[0mi\u001b[0m\u001b[1;33m]\u001b[0m \u001b[1;33m=\u001b[0m \u001b[1;33m(\u001b[0m\u001b[0ms2020\u001b[0m\u001b[1;33m[\u001b[0m\u001b[0mi\u001b[0m\u001b[1;33m]\u001b[0m \u001b[1;33m-\u001b[0m \u001b[0ms2018\u001b[0m\u001b[1;33m[\u001b[0m\u001b[0mi\u001b[0m\u001b[1;33m]\u001b[0m\u001b[1;33m)\u001b[0m\u001b[1;33m/\u001b[0m\u001b[0ms2018\u001b[0m\u001b[1;33m[\u001b[0m\u001b[0mi\u001b[0m\u001b[1;33m]\u001b[0m\u001b[1;33m\u001b[0m\u001b[1;33m\u001b[0m\u001b[0m\n",
      "\u001b[1;31mIndexError\u001b[0m: list assignment index out of range"
     ]
    }
   ],
   "source": [
    "# 월별 변화량\n",
    "d1819 = []\n",
    "d1920 = []\n",
    "d1820 = []\n",
    "\n",
    "for i in range(1, 13):\n",
    "    d1819[i] = (s2019[i] - s2018[i])/s2018[i]\n",
    "    d1920[i] = (s2020[i] - s2019[i])/s2019[i]\n",
    "    d1820[i] = (s2020[i] - s2018[i])/s2018[i]"
   ]
  },
  {
   "cell_type": "code",
   "execution_count": 194,
   "id": "d9623e76",
   "metadata": {},
   "outputs": [
    {
     "data": {
      "text/plain": [
       "[]"
      ]
     },
     "execution_count": 194,
     "metadata": {},
     "output_type": "execute_result"
    }
   ],
   "source": [
    "d1819"
   ]
  },
  {
   "cell_type": "code",
   "execution_count": 197,
   "id": "4b8ceaeb",
   "metadata": {},
   "outputs": [
    {
     "data": {
      "text/html": [
       "<div>\n",
       "<style scoped>\n",
       "    .dataframe tbody tr th:only-of-type {\n",
       "        vertical-align: middle;\n",
       "    }\n",
       "\n",
       "    .dataframe tbody tr th {\n",
       "        vertical-align: top;\n",
       "    }\n",
       "\n",
       "    .dataframe thead th {\n",
       "        text-align: right;\n",
       "    }\n",
       "</style>\n",
       "<table border=\"1\" class=\"dataframe\">\n",
       "  <thead>\n",
       "    <tr style=\"text-align: right;\">\n",
       "      <th></th>\n",
       "      <th>precipitation</th>\n",
       "      <th>temp_mean</th>\n",
       "      <th>temp_highest</th>\n",
       "      <th>temp_lowest</th>\n",
       "      <th>PM10</th>\n",
       "      <th>PM2.5</th>\n",
       "      <th>humidity</th>\n",
       "      <th>sunshine_sum</th>\n",
       "      <th>sunshine_rate</th>\n",
       "      <th>wind_mean</th>\n",
       "      <th>wind_max</th>\n",
       "      <th>rental</th>\n",
       "      <th>year</th>\n",
       "      <th>month</th>\n",
       "      <th>day</th>\n",
       "      <th>holiday</th>\n",
       "      <th>dayofweek</th>\n",
       "    </tr>\n",
       "  </thead>\n",
       "  <tbody>\n",
       "    <tr>\n",
       "      <th>0</th>\n",
       "      <td>NaN</td>\n",
       "      <td>-1.3</td>\n",
       "      <td>3.8</td>\n",
       "      <td>-5.1</td>\n",
       "      <td>34.0</td>\n",
       "      <td>17.0</td>\n",
       "      <td>39.1</td>\n",
       "      <td>8.3</td>\n",
       "      <td>86.5</td>\n",
       "      <td>1.4</td>\n",
       "      <td>3.8</td>\n",
       "      <td>4950</td>\n",
       "      <td>2018</td>\n",
       "      <td>1</td>\n",
       "      <td>1</td>\n",
       "      <td>0</td>\n",
       "      <td>mon</td>\n",
       "    </tr>\n",
       "    <tr>\n",
       "      <th>1</th>\n",
       "      <td>NaN</td>\n",
       "      <td>-1.8</td>\n",
       "      <td>1.8</td>\n",
       "      <td>-4.3</td>\n",
       "      <td>36.0</td>\n",
       "      <td>22.0</td>\n",
       "      <td>42.0</td>\n",
       "      <td>7.9</td>\n",
       "      <td>82.3</td>\n",
       "      <td>1.8</td>\n",
       "      <td>4.9</td>\n",
       "      <td>7136</td>\n",
       "      <td>2018</td>\n",
       "      <td>1</td>\n",
       "      <td>2</td>\n",
       "      <td>0</td>\n",
       "      <td>tue</td>\n",
       "    </tr>\n",
       "    <tr>\n",
       "      <th>2</th>\n",
       "      <td>NaN</td>\n",
       "      <td>-4.7</td>\n",
       "      <td>-0.4</td>\n",
       "      <td>-7.1</td>\n",
       "      <td>31.0</td>\n",
       "      <td>19.0</td>\n",
       "      <td>42.3</td>\n",
       "      <td>8.6</td>\n",
       "      <td>88.7</td>\n",
       "      <td>2.2</td>\n",
       "      <td>3.5</td>\n",
       "      <td>7156</td>\n",
       "      <td>2018</td>\n",
       "      <td>1</td>\n",
       "      <td>3</td>\n",
       "      <td>0</td>\n",
       "      <td>wed</td>\n",
       "    </tr>\n",
       "    <tr>\n",
       "      <th>3</th>\n",
       "      <td>NaN</td>\n",
       "      <td>-4.7</td>\n",
       "      <td>-0.7</td>\n",
       "      <td>-8.7</td>\n",
       "      <td>39.0</td>\n",
       "      <td>24.0</td>\n",
       "      <td>43.0</td>\n",
       "      <td>6.2</td>\n",
       "      <td>63.9</td>\n",
       "      <td>1.4</td>\n",
       "      <td>3.5</td>\n",
       "      <td>7102</td>\n",
       "      <td>2018</td>\n",
       "      <td>1</td>\n",
       "      <td>4</td>\n",
       "      <td>0</td>\n",
       "      <td>thu</td>\n",
       "    </tr>\n",
       "    <tr>\n",
       "      <th>4</th>\n",
       "      <td>NaN</td>\n",
       "      <td>-3.0</td>\n",
       "      <td>1.6</td>\n",
       "      <td>-5.6</td>\n",
       "      <td>51.0</td>\n",
       "      <td>35.0</td>\n",
       "      <td>48.4</td>\n",
       "      <td>8.2</td>\n",
       "      <td>84.5</td>\n",
       "      <td>1.7</td>\n",
       "      <td>3.6</td>\n",
       "      <td>7705</td>\n",
       "      <td>2018</td>\n",
       "      <td>1</td>\n",
       "      <td>5</td>\n",
       "      <td>0</td>\n",
       "      <td>fri</td>\n",
       "    </tr>\n",
       "    <tr>\n",
       "      <th>...</th>\n",
       "      <td>...</td>\n",
       "      <td>...</td>\n",
       "      <td>...</td>\n",
       "      <td>...</td>\n",
       "      <td>...</td>\n",
       "      <td>...</td>\n",
       "      <td>...</td>\n",
       "      <td>...</td>\n",
       "      <td>...</td>\n",
       "      <td>...</td>\n",
       "      <td>...</td>\n",
       "      <td>...</td>\n",
       "      <td>...</td>\n",
       "      <td>...</td>\n",
       "      <td>...</td>\n",
       "      <td>...</td>\n",
       "      <td>...</td>\n",
       "    </tr>\n",
       "    <tr>\n",
       "      <th>360</th>\n",
       "      <td>NaN</td>\n",
       "      <td>-10.1</td>\n",
       "      <td>-6.5</td>\n",
       "      <td>-12.5</td>\n",
       "      <td>26.0</td>\n",
       "      <td>9.0</td>\n",
       "      <td>28.3</td>\n",
       "      <td>8.7</td>\n",
       "      <td>90.6</td>\n",
       "      <td>3.5</td>\n",
       "      <td>5.8</td>\n",
       "      <td>11325</td>\n",
       "      <td>2018</td>\n",
       "      <td>12</td>\n",
       "      <td>27</td>\n",
       "      <td>0</td>\n",
       "      <td>thu</td>\n",
       "    </tr>\n",
       "    <tr>\n",
       "      <th>361</th>\n",
       "      <td>NaN</td>\n",
       "      <td>-10.5</td>\n",
       "      <td>-6.6</td>\n",
       "      <td>-14.4</td>\n",
       "      <td>33.0</td>\n",
       "      <td>13.0</td>\n",
       "      <td>33.0</td>\n",
       "      <td>8.7</td>\n",
       "      <td>90.6</td>\n",
       "      <td>2.5</td>\n",
       "      <td>4.4</td>\n",
       "      <td>10445</td>\n",
       "      <td>2018</td>\n",
       "      <td>12</td>\n",
       "      <td>28</td>\n",
       "      <td>0</td>\n",
       "      <td>fri</td>\n",
       "    </tr>\n",
       "    <tr>\n",
       "      <th>362</th>\n",
       "      <td>NaN</td>\n",
       "      <td>-7.6</td>\n",
       "      <td>-3.0</td>\n",
       "      <td>-10.5</td>\n",
       "      <td>36.0</td>\n",
       "      <td>9.0</td>\n",
       "      <td>29.0</td>\n",
       "      <td>8.7</td>\n",
       "      <td>90.6</td>\n",
       "      <td>2.9</td>\n",
       "      <td>5.5</td>\n",
       "      <td>8083</td>\n",
       "      <td>2018</td>\n",
       "      <td>12</td>\n",
       "      <td>29</td>\n",
       "      <td>1</td>\n",
       "      <td>sat</td>\n",
       "    </tr>\n",
       "    <tr>\n",
       "      <th>363</th>\n",
       "      <td>NaN</td>\n",
       "      <td>-6.8</td>\n",
       "      <td>-0.9</td>\n",
       "      <td>-11.3</td>\n",
       "      <td>30.0</td>\n",
       "      <td>15.0</td>\n",
       "      <td>35.9</td>\n",
       "      <td>8.7</td>\n",
       "      <td>90.6</td>\n",
       "      <td>1.2</td>\n",
       "      <td>3.1</td>\n",
       "      <td>7864</td>\n",
       "      <td>2018</td>\n",
       "      <td>12</td>\n",
       "      <td>30</td>\n",
       "      <td>1</td>\n",
       "      <td>sun</td>\n",
       "    </tr>\n",
       "    <tr>\n",
       "      <th>364</th>\n",
       "      <td>NaN</td>\n",
       "      <td>-5.4</td>\n",
       "      <td>-0.5</td>\n",
       "      <td>-10.5</td>\n",
       "      <td>45.0</td>\n",
       "      <td>29.0</td>\n",
       "      <td>39.6</td>\n",
       "      <td>8.3</td>\n",
       "      <td>86.5</td>\n",
       "      <td>1.2</td>\n",
       "      <td>3.4</td>\n",
       "      <td>11911</td>\n",
       "      <td>2018</td>\n",
       "      <td>12</td>\n",
       "      <td>31</td>\n",
       "      <td>0</td>\n",
       "      <td>mon</td>\n",
       "    </tr>\n",
       "  </tbody>\n",
       "</table>\n",
       "<p>365 rows × 17 columns</p>\n",
       "</div>"
      ],
      "text/plain": [
       "     precipitation  temp_mean  temp_highest  temp_lowest  PM10  PM2.5  \\\n",
       "0              NaN       -1.3           3.8         -5.1  34.0   17.0   \n",
       "1              NaN       -1.8           1.8         -4.3  36.0   22.0   \n",
       "2              NaN       -4.7          -0.4         -7.1  31.0   19.0   \n",
       "3              NaN       -4.7          -0.7         -8.7  39.0   24.0   \n",
       "4              NaN       -3.0           1.6         -5.6  51.0   35.0   \n",
       "..             ...        ...           ...          ...   ...    ...   \n",
       "360            NaN      -10.1          -6.5        -12.5  26.0    9.0   \n",
       "361            NaN      -10.5          -6.6        -14.4  33.0   13.0   \n",
       "362            NaN       -7.6          -3.0        -10.5  36.0    9.0   \n",
       "363            NaN       -6.8          -0.9        -11.3  30.0   15.0   \n",
       "364            NaN       -5.4          -0.5        -10.5  45.0   29.0   \n",
       "\n",
       "     humidity  sunshine_sum  sunshine_rate  wind_mean  wind_max  rental  year  \\\n",
       "0        39.1           8.3           86.5        1.4       3.8    4950  2018   \n",
       "1        42.0           7.9           82.3        1.8       4.9    7136  2018   \n",
       "2        42.3           8.6           88.7        2.2       3.5    7156  2018   \n",
       "3        43.0           6.2           63.9        1.4       3.5    7102  2018   \n",
       "4        48.4           8.2           84.5        1.7       3.6    7705  2018   \n",
       "..        ...           ...            ...        ...       ...     ...   ...   \n",
       "360      28.3           8.7           90.6        3.5       5.8   11325  2018   \n",
       "361      33.0           8.7           90.6        2.5       4.4   10445  2018   \n",
       "362      29.0           8.7           90.6        2.9       5.5    8083  2018   \n",
       "363      35.9           8.7           90.6        1.2       3.1    7864  2018   \n",
       "364      39.6           8.3           86.5        1.2       3.4   11911  2018   \n",
       "\n",
       "     month  day holiday dayofweek  \n",
       "0        1    1       0       mon  \n",
       "1        1    2       0       tue  \n",
       "2        1    3       0       wed  \n",
       "3        1    4       0       thu  \n",
       "4        1    5       0       fri  \n",
       "..     ...  ...     ...       ...  \n",
       "360     12   27       0       thu  \n",
       "361     12   28       0       fri  \n",
       "362     12   29       1       sat  \n",
       "363     12   30       1       sun  \n",
       "364     12   31       0       mon  \n",
       "\n",
       "[365 rows x 17 columns]"
      ]
     },
     "execution_count": 197,
     "metadata": {},
     "output_type": "execute_result"
    }
   ],
   "source": [
    "train_2018"
   ]
  },
  {
   "cell_type": "code",
   "execution_count": null,
   "id": "b505e319",
   "metadata": {},
   "outputs": [],
   "source": []
  }
 ],
 "metadata": {
  "kernelspec": {
   "display_name": "Python 3 (ipykernel)",
   "language": "python",
   "name": "python3"
  },
  "language_info": {
   "codemirror_mode": {
    "name": "ipython",
    "version": 3
   },
   "file_extension": ".py",
   "mimetype": "text/x-python",
   "name": "python",
   "nbconvert_exporter": "python",
   "pygments_lexer": "ipython3",
   "version": "3.8.12"
  }
 },
 "nbformat": 4,
 "nbformat_minor": 5
}
